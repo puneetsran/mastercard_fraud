{
 "cells": [
  {
   "cell_type": "markdown",
   "metadata": {
    "executionInfo": {
     "elapsed": 721,
     "status": "ok",
     "timestamp": 1619796312446,
     "user": {
      "displayName": "Puneet Sran",
      "photoUrl": "",
      "userId": "17086932055982370157"
     },
     "user_tz": 420
    },
    "id": "CpfyKFJM4sMu"
   },
   "source": [
    "# MasterCard Fraud"
   ]
  },
  {
   "cell_type": "code",
   "execution_count": 1,
   "metadata": {
    "executionInfo": {
     "elapsed": 721,
     "status": "ok",
     "timestamp": 1619796312446,
     "user": {
      "displayName": "Puneet Sran",
      "photoUrl": "",
      "userId": "17086932055982370157"
     },
     "user_tz": 420
    },
    "id": "CpfyKFJM4sMu"
   },
   "outputs": [],
   "source": [
    "import seaborn as sns\n",
    "import numpy as np\n",
    "import matplotlib.pyplot as plt\n",
    "import pandas as pd\n",
    "import warnings\n",
    "warnings.filterwarnings(\"ignore\")"
   ]
  },
  {
   "cell_type": "code",
   "execution_count": 2,
   "metadata": {
    "executionInfo": {
     "elapsed": 715,
     "status": "ok",
     "timestamp": 1619796312446,
     "user": {
      "displayName": "Puneet Sran",
      "photoUrl": "",
      "userId": "17086932055982370157"
     },
     "user_tz": 420
    },
    "id": "FcO9q_9JLh8A"
   },
   "outputs": [],
   "source": [
    "from sklearn.naive_bayes import GaussianNB, MultinomialNB, BernoulliNB"
   ]
  },
  {
   "cell_type": "code",
   "execution_count": 3,
   "metadata": {
    "executionInfo": {
     "elapsed": 710,
     "status": "ok",
     "timestamp": 1619796312446,
     "user": {
      "displayName": "Puneet Sran",
      "photoUrl": "",
      "userId": "17086932055982370157"
     },
     "user_tz": 420
    },
    "id": "52Mlz-EGMw_q"
   },
   "outputs": [],
   "source": [
    "from sklearn.preprocessing import OneHotEncoder\n",
    "from sklearn.feature_extraction.text import CountVectorizer"
   ]
  },
  {
   "cell_type": "code",
   "execution_count": 4,
   "metadata": {
    "executionInfo": {
     "elapsed": 1601,
     "status": "ok",
     "timestamp": 1619796313341,
     "user": {
      "displayName": "Puneet Sran",
      "photoUrl": "",
      "userId": "17086932055982370157"
     },
     "user_tz": 420
    },
    "id": "ogjTPnw_5ckP"
   },
   "outputs": [],
   "source": [
    "import plotly\n",
    "import plotly.express as px"
   ]
  },
  {
   "cell_type": "code",
   "execution_count": 5,
   "metadata": {
    "colab": {
     "base_uri": "https://localhost:8080/",
     "height": 1000
    },
    "executionInfo": {
     "elapsed": 9529,
     "status": "ok",
     "timestamp": 1619796321289,
     "user": {
      "displayName": "Puneet Sran",
      "photoUrl": "",
      "userId": "17086932055982370157"
     },
     "user_tz": 420
    },
    "id": "s_2u6msv5Vne",
    "outputId": "e2303e12-93c7-425a-873d-cc4da08f9c13"
   },
   "outputs": [],
   "source": [
    "# read in data\n",
    "df = pd.read_csv('data/fraudTrain.csv')"
   ]
  },
  {
   "cell_type": "code",
   "execution_count": 6,
   "metadata": {},
   "outputs": [
    {
     "data": {
      "text/html": [
       "<div>\n",
       "<style scoped>\n",
       "    .dataframe tbody tr th:only-of-type {\n",
       "        vertical-align: middle;\n",
       "    }\n",
       "\n",
       "    .dataframe tbody tr th {\n",
       "        vertical-align: top;\n",
       "    }\n",
       "\n",
       "    .dataframe thead th {\n",
       "        text-align: right;\n",
       "    }\n",
       "</style>\n",
       "<table border=\"1\" class=\"dataframe\">\n",
       "  <thead>\n",
       "    <tr style=\"text-align: right;\">\n",
       "      <th></th>\n",
       "      <th>trans_date_trans_time</th>\n",
       "      <th>cc_num</th>\n",
       "      <th>merchant</th>\n",
       "      <th>category</th>\n",
       "      <th>amt</th>\n",
       "      <th>first</th>\n",
       "      <th>last</th>\n",
       "      <th>gender</th>\n",
       "      <th>street</th>\n",
       "      <th>city</th>\n",
       "      <th>...</th>\n",
       "      <th>lat</th>\n",
       "      <th>long</th>\n",
       "      <th>city_pop</th>\n",
       "      <th>job</th>\n",
       "      <th>dob</th>\n",
       "      <th>trans_num</th>\n",
       "      <th>unix_time</th>\n",
       "      <th>merch_lat</th>\n",
       "      <th>merch_long</th>\n",
       "      <th>is_fraud</th>\n",
       "    </tr>\n",
       "  </thead>\n",
       "  <tbody>\n",
       "    <tr>\n",
       "      <th>0</th>\n",
       "      <td>2019-01-01 00:00:18</td>\n",
       "      <td>2703186189652095</td>\n",
       "      <td>fraud_Rippin, Kub and Mann</td>\n",
       "      <td>misc_net</td>\n",
       "      <td>4.97</td>\n",
       "      <td>Jennifer</td>\n",
       "      <td>Banks</td>\n",
       "      <td>F</td>\n",
       "      <td>561 Perry Cove</td>\n",
       "      <td>Moravian Falls</td>\n",
       "      <td>...</td>\n",
       "      <td>36.0788</td>\n",
       "      <td>-81.1781</td>\n",
       "      <td>3495</td>\n",
       "      <td>Psychologist, counselling</td>\n",
       "      <td>1988-03-09</td>\n",
       "      <td>0b242abb623afc578575680df30655b9</td>\n",
       "      <td>1325376018</td>\n",
       "      <td>36.011293</td>\n",
       "      <td>-82.048315</td>\n",
       "      <td>0</td>\n",
       "    </tr>\n",
       "    <tr>\n",
       "      <th>1</th>\n",
       "      <td>2019-01-01 00:00:44</td>\n",
       "      <td>630423337322</td>\n",
       "      <td>fraud_Heller, Gutmann and Zieme</td>\n",
       "      <td>grocery_pos</td>\n",
       "      <td>107.23</td>\n",
       "      <td>Stephanie</td>\n",
       "      <td>Gill</td>\n",
       "      <td>F</td>\n",
       "      <td>43039 Riley Greens Suite 393</td>\n",
       "      <td>Orient</td>\n",
       "      <td>...</td>\n",
       "      <td>48.8878</td>\n",
       "      <td>-118.2105</td>\n",
       "      <td>149</td>\n",
       "      <td>Special educational needs teacher</td>\n",
       "      <td>1978-06-21</td>\n",
       "      <td>1f76529f8574734946361c461b024d99</td>\n",
       "      <td>1325376044</td>\n",
       "      <td>49.159047</td>\n",
       "      <td>-118.186462</td>\n",
       "      <td>0</td>\n",
       "    </tr>\n",
       "    <tr>\n",
       "      <th>2</th>\n",
       "      <td>2019-01-01 00:00:51</td>\n",
       "      <td>38859492057661</td>\n",
       "      <td>fraud_Lind-Buckridge</td>\n",
       "      <td>entertainment</td>\n",
       "      <td>220.11</td>\n",
       "      <td>Edward</td>\n",
       "      <td>Sanchez</td>\n",
       "      <td>M</td>\n",
       "      <td>594 White Dale Suite 530</td>\n",
       "      <td>Malad City</td>\n",
       "      <td>...</td>\n",
       "      <td>42.1808</td>\n",
       "      <td>-112.2620</td>\n",
       "      <td>4154</td>\n",
       "      <td>Nature conservation officer</td>\n",
       "      <td>1962-01-19</td>\n",
       "      <td>a1a22d70485983eac12b5b88dad1cf95</td>\n",
       "      <td>1325376051</td>\n",
       "      <td>43.150704</td>\n",
       "      <td>-112.154481</td>\n",
       "      <td>0</td>\n",
       "    </tr>\n",
       "    <tr>\n",
       "      <th>3</th>\n",
       "      <td>2019-01-01 00:01:16</td>\n",
       "      <td>3534093764340240</td>\n",
       "      <td>fraud_Kutch, Hermiston and Farrell</td>\n",
       "      <td>gas_transport</td>\n",
       "      <td>45.00</td>\n",
       "      <td>Jeremy</td>\n",
       "      <td>White</td>\n",
       "      <td>M</td>\n",
       "      <td>9443 Cynthia Court Apt. 038</td>\n",
       "      <td>Boulder</td>\n",
       "      <td>...</td>\n",
       "      <td>46.2306</td>\n",
       "      <td>-112.1138</td>\n",
       "      <td>1939</td>\n",
       "      <td>Patent attorney</td>\n",
       "      <td>1967-01-12</td>\n",
       "      <td>6b849c168bdad6f867558c3793159a81</td>\n",
       "      <td>1325376076</td>\n",
       "      <td>47.034331</td>\n",
       "      <td>-112.561071</td>\n",
       "      <td>0</td>\n",
       "    </tr>\n",
       "    <tr>\n",
       "      <th>4</th>\n",
       "      <td>2019-01-01 00:03:06</td>\n",
       "      <td>375534208663984</td>\n",
       "      <td>fraud_Keeling-Crist</td>\n",
       "      <td>misc_pos</td>\n",
       "      <td>41.96</td>\n",
       "      <td>Tyler</td>\n",
       "      <td>Garcia</td>\n",
       "      <td>M</td>\n",
       "      <td>408 Bradley Rest</td>\n",
       "      <td>Doe Hill</td>\n",
       "      <td>...</td>\n",
       "      <td>38.4207</td>\n",
       "      <td>-79.4629</td>\n",
       "      <td>99</td>\n",
       "      <td>Dance movement psychotherapist</td>\n",
       "      <td>1986-03-28</td>\n",
       "      <td>a41d7549acf90789359a9aa5346dcb46</td>\n",
       "      <td>1325376186</td>\n",
       "      <td>38.674999</td>\n",
       "      <td>-78.632459</td>\n",
       "      <td>0</td>\n",
       "    </tr>\n",
       "  </tbody>\n",
       "</table>\n",
       "<p>5 rows × 22 columns</p>\n",
       "</div>"
      ],
      "text/plain": [
       "  trans_date_trans_time            cc_num                            merchant  \\\n",
       "0   2019-01-01 00:00:18  2703186189652095          fraud_Rippin, Kub and Mann   \n",
       "1   2019-01-01 00:00:44      630423337322     fraud_Heller, Gutmann and Zieme   \n",
       "2   2019-01-01 00:00:51    38859492057661                fraud_Lind-Buckridge   \n",
       "3   2019-01-01 00:01:16  3534093764340240  fraud_Kutch, Hermiston and Farrell   \n",
       "4   2019-01-01 00:03:06   375534208663984                 fraud_Keeling-Crist   \n",
       "\n",
       "        category     amt      first     last gender  \\\n",
       "0       misc_net    4.97   Jennifer    Banks      F   \n",
       "1    grocery_pos  107.23  Stephanie     Gill      F   \n",
       "2  entertainment  220.11     Edward  Sanchez      M   \n",
       "3  gas_transport   45.00     Jeremy    White      M   \n",
       "4       misc_pos   41.96      Tyler   Garcia      M   \n",
       "\n",
       "                         street            city  ...      lat      long  \\\n",
       "0                561 Perry Cove  Moravian Falls  ...  36.0788  -81.1781   \n",
       "1  43039 Riley Greens Suite 393          Orient  ...  48.8878 -118.2105   \n",
       "2      594 White Dale Suite 530      Malad City  ...  42.1808 -112.2620   \n",
       "3   9443 Cynthia Court Apt. 038         Boulder  ...  46.2306 -112.1138   \n",
       "4              408 Bradley Rest        Doe Hill  ...  38.4207  -79.4629   \n",
       "\n",
       "   city_pop                                job         dob  \\\n",
       "0      3495          Psychologist, counselling  1988-03-09   \n",
       "1       149  Special educational needs teacher  1978-06-21   \n",
       "2      4154        Nature conservation officer  1962-01-19   \n",
       "3      1939                    Patent attorney  1967-01-12   \n",
       "4        99     Dance movement psychotherapist  1986-03-28   \n",
       "\n",
       "                          trans_num   unix_time  merch_lat  merch_long  \\\n",
       "0  0b242abb623afc578575680df30655b9  1325376018  36.011293  -82.048315   \n",
       "1  1f76529f8574734946361c461b024d99  1325376044  49.159047 -118.186462   \n",
       "2  a1a22d70485983eac12b5b88dad1cf95  1325376051  43.150704 -112.154481   \n",
       "3  6b849c168bdad6f867558c3793159a81  1325376076  47.034331 -112.561071   \n",
       "4  a41d7549acf90789359a9aa5346dcb46  1325376186  38.674999  -78.632459   \n",
       "\n",
       "   is_fraud  \n",
       "0         0  \n",
       "1         0  \n",
       "2         0  \n",
       "3         0  \n",
       "4         0  \n",
       "\n",
       "[5 rows x 22 columns]"
      ]
     },
     "execution_count": 6,
     "metadata": {},
     "output_type": "execute_result"
    }
   ],
   "source": [
    "df = df.iloc[: , 1:]\n",
    "df.head()"
   ]
  },
  {
   "cell_type": "markdown",
   "metadata": {},
   "source": [
    "## Exploration of data"
   ]
  },
  {
   "cell_type": "code",
   "execution_count": 7,
   "metadata": {
    "colab": {
     "base_uri": "https://localhost:8080/"
    },
    "executionInfo": {
     "elapsed": 10340,
     "status": "ok",
     "timestamp": 1619796322120,
     "user": {
      "displayName": "Puneet Sran",
      "photoUrl": "",
      "userId": "17086932055982370157"
     },
     "user_tz": 420
    },
    "id": "ydr1tZ1i5Vzb",
    "outputId": "3923e8c2-6f7b-42aa-b091-50606c27c093"
   },
   "outputs": [
    {
     "name": "stdout",
     "output_type": "stream",
     "text": [
      "<class 'pandas.core.frame.DataFrame'>\n",
      "RangeIndex: 1296675 entries, 0 to 1296674\n",
      "Data columns (total 22 columns):\n",
      " #   Column                 Non-Null Count    Dtype  \n",
      "---  ------                 --------------    -----  \n",
      " 0   trans_date_trans_time  1296675 non-null  object \n",
      " 1   cc_num                 1296675 non-null  int64  \n",
      " 2   merchant               1296675 non-null  object \n",
      " 3   category               1296675 non-null  object \n",
      " 4   amt                    1296675 non-null  float64\n",
      " 5   first                  1296675 non-null  object \n",
      " 6   last                   1296675 non-null  object \n",
      " 7   gender                 1296675 non-null  object \n",
      " 8   street                 1296675 non-null  object \n",
      " 9   city                   1296675 non-null  object \n",
      " 10  state                  1296675 non-null  object \n",
      " 11  zip                    1296675 non-null  int64  \n",
      " 12  lat                    1296675 non-null  float64\n",
      " 13  long                   1296675 non-null  float64\n",
      " 14  city_pop               1296675 non-null  int64  \n",
      " 15  job                    1296675 non-null  object \n",
      " 16  dob                    1296675 non-null  object \n",
      " 17  trans_num              1296675 non-null  object \n",
      " 18  unix_time              1296675 non-null  int64  \n",
      " 19  merch_lat              1296675 non-null  float64\n",
      " 20  merch_long             1296675 non-null  float64\n",
      " 21  is_fraud               1296675 non-null  int64  \n",
      "dtypes: float64(5), int64(5), object(12)\n",
      "memory usage: 217.6+ MB\n"
     ]
    }
   ],
   "source": [
    "df.info()"
   ]
  },
  {
   "cell_type": "code",
   "execution_count": 8,
   "metadata": {},
   "outputs": [
    {
     "data": {
      "text/plain": [
       "trans_date_trans_time    0\n",
       "cc_num                   0\n",
       "merchant                 0\n",
       "category                 0\n",
       "amt                      0\n",
       "first                    0\n",
       "last                     0\n",
       "gender                   0\n",
       "street                   0\n",
       "city                     0\n",
       "state                    0\n",
       "zip                      0\n",
       "lat                      0\n",
       "long                     0\n",
       "city_pop                 0\n",
       "job                      0\n",
       "dob                      0\n",
       "trans_num                0\n",
       "unix_time                0\n",
       "merch_lat                0\n",
       "merch_long               0\n",
       "is_fraud                 0\n",
       "dtype: int64"
      ]
     },
     "execution_count": 8,
     "metadata": {},
     "output_type": "execute_result"
    }
   ],
   "source": [
    "df.isna().sum()"
   ]
  },
  {
   "cell_type": "markdown",
   "metadata": {},
   "source": [
    "### Correlation"
   ]
  },
  {
   "cell_type": "code",
   "execution_count": 9,
   "metadata": {
    "colab": {
     "base_uri": "https://localhost:8080/",
     "height": 728
    },
    "executionInfo": {
     "elapsed": 12024,
     "status": "ok",
     "timestamp": 1619796323813,
     "user": {
      "displayName": "Puneet Sran",
      "photoUrl": "",
      "userId": "17086932055982370157"
     },
     "user_tz": 420
    },
    "id": "Rtof7Gv6DeBa",
    "outputId": "94a57406-04e1-46ed-e160-19a832584ef6"
   },
   "outputs": [
    {
     "data": {
      "image/png": "[encoded data removed]",
      "text/plain": [
       "<Figure size 1440x720 with 2 Axes>"
      ]
     },
     "metadata": {
      "needs_background": "light"
     },
     "output_type": "display_data"
    }
   ],
   "source": [
    "# plot heatmap of all features to view correlation\n",
    "plt.figure(figsize=(20,10))\n",
    "sns.heatmap(df.corr(), cmap='coolwarm', vmin=-1,vmax=1,\n",
    "           annot=True, linewidths=2)\n",
    "plt.tight_layout()\n",
    "plt.show()"
   ]
  },
  {
   "cell_type": "code",
   "execution_count": 10,
   "metadata": {
    "colab": {
     "base_uri": "https://localhost:8080/",
     "height": 728
    },
    "executionInfo": {
     "elapsed": 12723,
     "status": "ok",
     "timestamp": 1619796324517,
     "user": {
      "displayName": "Puneet Sran",
      "photoUrl": "",
      "userId": "17086932055982370157"
     },
     "user_tz": 420
    },
    "id": "dhPrSLzGDhBv",
    "outputId": "827c5331-9d8c-4e99-f4bf-4711149280ad"
   },
   "outputs": [
    {
     "data": {
      "image/png": "[encoded data removed]",
      "text/plain": [
       "<Figure size 360x720 with 2 Axes>"
      ]
     },
     "metadata": {
      "needs_background": "light"
     },
     "output_type": "display_data"
    }
   ],
   "source": [
    "# plot heatmap with just the target variable\n",
    "plt.figure(figsize=(5,10))\n",
    "sns.heatmap(df.corr()[['is_fraud']].sort_values(by=['is_fraud']), cmap='coolwarm', vmin=-1,vmax=1,\n",
    "           annot=True, linewidths=2)\n",
    "plt.tight_layout()\n",
    "plt.show()"
   ]
  },
  {
   "cell_type": "code",
   "execution_count": 11,
   "metadata": {
    "executionInfo": {
     "elapsed": 12718,
     "status": "ok",
     "timestamp": 1619796324517,
     "user": {
      "displayName": "Puneet Sran",
      "photoUrl": "",
      "userId": "17086932055982370157"
     },
     "user_tz": 420
    },
    "id": "h3RY9CGeDjYW"
   },
   "outputs": [],
   "source": [
    "# sns.pairplot(df)"
   ]
  },
  {
   "cell_type": "code",
   "execution_count": 12,
   "metadata": {},
   "outputs": [
    {
     "data": {
      "text/plain": [
       "0                   fraud_Rippin, Kub and Mann\n",
       "1              fraud_Heller, Gutmann and Zieme\n",
       "2                         fraud_Lind-Buckridge\n",
       "3           fraud_Kutch, Hermiston and Farrell\n",
       "4                          fraud_Keeling-Crist\n",
       "                          ...                 \n",
       "1296670                      fraud_Reichel Inc\n",
       "1296671               fraud_Abernathy and Sons\n",
       "1296672                   fraud_Stiedemann Ltd\n",
       "1296673    fraud_Reinger, Weissnat and Strosin\n",
       "1296674    fraud_Langosh, Wintheiser and Hyatt\n",
       "Name: merchant, Length: 1296675, dtype: object"
      ]
     },
     "execution_count": 12,
     "metadata": {},
     "output_type": "execute_result"
    }
   ],
   "source": [
    "df['merchant']"
   ]
  },
  {
   "cell_type": "markdown",
   "metadata": {},
   "source": [
    "I want to replace get rid of commas and fraud_ fromt the merchant column:"
   ]
  },
  {
   "cell_type": "code",
   "execution_count": 13,
   "metadata": {},
   "outputs": [],
   "source": [
    "df['merchant'] = df['merchant'].str.replace('fraud_', '').str.replace(',', '').str.replace(' ','_')"
   ]
  },
  {
   "cell_type": "code",
   "execution_count": 14,
   "metadata": {},
   "outputs": [
    {
     "data": {
      "text/plain": [
       "0                   Rippin_Kub_and_Mann\n",
       "1              Heller_Gutmann_and_Zieme\n",
       "2                        Lind-Buckridge\n",
       "3           Kutch_Hermiston_and_Farrell\n",
       "4                         Keeling-Crist\n",
       "                       ...             \n",
       "1296670                     Reichel_Inc\n",
       "1296671              Abernathy_and_Sons\n",
       "1296672                  Stiedemann_Ltd\n",
       "1296673    Reinger_Weissnat_and_Strosin\n",
       "1296674    Langosh_Wintheiser_and_Hyatt\n",
       "Name: merchant, Length: 1296675, dtype: object"
      ]
     },
     "execution_count": 14,
     "metadata": {},
     "output_type": "execute_result"
    }
   ],
   "source": [
    "df['merchant']"
   ]
  },
  {
   "cell_type": "code",
   "execution_count": 15,
   "metadata": {},
   "outputs": [
    {
     "data": {
      "text/plain": [
       "693"
      ]
     },
     "execution_count": 15,
     "metadata": {},
     "output_type": "execute_result"
    }
   ],
   "source": [
    "df['merchant'].nunique()"
   ]
  },
  {
   "cell_type": "code",
   "execution_count": 16,
   "metadata": {},
   "outputs": [
    {
     "data": {
      "text/plain": [
       "Kilback_LLC                      4403\n",
       "Cormier_LLC                      3649\n",
       "Schumm_PLC                       3634\n",
       "Kuhn_LLC                         3510\n",
       "Boyer_PLC                        3493\n",
       "                                 ... \n",
       "Douglas_DuBuque_and_McKenzie      775\n",
       "Treutel-King                      775\n",
       "Medhurst_Labadie_and_Gottlieb     759\n",
       "Reichert-Weissnat                 753\n",
       "Hahn_Douglas_and_Schowalter       727\n",
       "Name: merchant, Length: 693, dtype: int64"
      ]
     },
     "execution_count": 16,
     "metadata": {},
     "output_type": "execute_result"
    }
   ],
   "source": [
    "df['merchant'].value_counts()"
   ]
  },
  {
   "cell_type": "code",
   "execution_count": 17,
   "metadata": {},
   "outputs": [
    {
     "data": {
      "text/plain": [
       "Kilback_LLC                      0.339561\n",
       "Cormier_LLC                      0.281412\n",
       "Schumm_PLC                       0.280255\n",
       "Kuhn_LLC                         0.270692\n",
       "Boyer_PLC                        0.269381\n",
       "                                   ...   \n",
       "Douglas_DuBuque_and_McKenzie     0.059768\n",
       "Treutel-King                     0.059768\n",
       "Medhurst_Labadie_and_Gottlieb    0.058534\n",
       "Reichert-Weissnat                0.058072\n",
       "Hahn_Douglas_and_Schowalter      0.056066\n",
       "Name: merchant, Length: 693, dtype: float64"
      ]
     },
     "execution_count": 17,
     "metadata": {},
     "output_type": "execute_result"
    }
   ],
   "source": [
    "merchant_values = df['merchant'].value_counts()/len(df)*100\n",
    "merchant_values"
   ]
  },
  {
   "cell_type": "code",
   "execution_count": 18,
   "metadata": {},
   "outputs": [
    {
     "data": {
      "text/plain": [
       "Kilback_LLC                             0.339561\n",
       "Cormier_LLC                             0.281412\n",
       "Schumm_PLC                              0.280255\n",
       "Kuhn_LLC                                0.270692\n",
       "Boyer_PLC                               0.269381\n",
       "Dickinson_Ltd                           0.264831\n",
       "Cummerata-Jones                         0.211001\n",
       "Kutch_LLC                               0.210847\n",
       "Olson_Becker_and_Koch                   0.209999\n",
       "Stroman_Hudson_and_Erdman               0.209844\n",
       "Rodriguez_Group                         0.209459\n",
       "Erdman-Kertzmann                        0.208610\n",
       "Jenkins_Hauck_and_Friesen               0.208610\n",
       "Kling_Inc                               0.207222\n",
       "Connelly_Reichert_and_Fritsch           0.206991\n",
       "Friesen-Stamm                           0.206682\n",
       "Prohaska-Murray                         0.206605\n",
       "Huels-Hahn                              0.206528\n",
       "Berge_LLC                               0.206451\n",
       "Bartoletti-Wunsch                       0.206374\n",
       "Christiansen_Goyette_and_Schamberger    0.206374\n",
       "Corwin-Collins                          0.206297\n",
       "Eichmann_Bogan_and_Rodriguez            0.204986\n",
       "Greenholt_Jacobi_and_Gleason            0.204832\n",
       "Bins-Rice                               0.204754\n",
       "Brekke_and_Sons                         0.204600\n",
       "Schmitt_Inc                             0.204446\n",
       "Mraz-Herzog                             0.204060\n",
       "Tillman_Dickinson_and_Labadie           0.203983\n",
       "Kuvalis_Ltd                             0.203829\n",
       "Torp-Labadie                            0.203752\n",
       "Emard_Inc                               0.203675\n",
       "Bernhard_Inc                            0.203521\n",
       "Parisian_and_Sons                       0.203366\n",
       "Luettgen_PLC                            0.202826\n",
       "Raynor_Reinger_and_Hagenes              0.202132\n",
       "Schaefer_Maggio_and_Daugherty           0.202055\n",
       "Ledner-Pfannerstill                     0.201978\n",
       "Streich_Hansen_and_Veum                 0.201824\n",
       "Koss_and_Sons                           0.201747\n",
       "Kutch_Hermiston_and_Farrell             0.201515\n",
       "Conroy-Cruickshank                      0.200744\n",
       "Cummings_LLC                            0.200359\n",
       "Name: merchant, dtype: float64"
      ]
     },
     "execution_count": 18,
     "metadata": {},
     "output_type": "execute_result"
    }
   ],
   "source": [
    "threshold_merchant = 0.2\n",
    "\n",
    "imp_merchant = merchant_values[merchant_values > threshold_merchant]\n",
    "imp_merchant"
   ]
  },
  {
   "cell_type": "code",
   "execution_count": 19,
   "metadata": {},
   "outputs": [
    {
     "data": {
      "text/plain": [
       "41"
      ]
     },
     "execution_count": 19,
     "metadata": {},
     "output_type": "execute_result"
    }
   ],
   "source": [
    "imp_merchant.nunique()"
   ]
  },
  {
   "cell_type": "code",
   "execution_count": 20,
   "metadata": {},
   "outputs": [],
   "source": [
    "df['merchant'] = np.where(df['merchant'].isin(imp_merchant.index), df['merchant'], 'other')"
   ]
  },
  {
   "cell_type": "code",
   "execution_count": 21,
   "metadata": {},
   "outputs": [
    {
     "data": {
      "text/plain": [
       "44"
      ]
     },
     "execution_count": 21,
     "metadata": {},
     "output_type": "execute_result"
    }
   ],
   "source": [
    "df['merchant'].nunique()"
   ]
  },
  {
   "cell_type": "code",
   "execution_count": 22,
   "metadata": {},
   "outputs": [
    {
     "data": {
      "text/plain": [
       "0                                other\n",
       "1                                other\n",
       "2                                other\n",
       "3          Kutch_Hermiston_and_Farrell\n",
       "4                                other\n",
       "                      ...             \n",
       "1296670                          other\n",
       "1296671                          other\n",
       "1296672                          other\n",
       "1296673                          other\n",
       "1296674                          other\n",
       "Name: merchant, Length: 1296675, dtype: object"
      ]
     },
     "execution_count": 22,
     "metadata": {},
     "output_type": "execute_result"
    }
   ],
   "source": [
    "# apply other using lambda\n",
    "df['merchant'].apply(lambda x: 'other' if x not in imp_merchant.index else x)"
   ]
  },
  {
   "cell_type": "markdown",
   "metadata": {},
   "source": [
    "View 'category' column"
   ]
  },
  {
   "cell_type": "code",
   "execution_count": 23,
   "metadata": {},
   "outputs": [
    {
     "data": {
      "text/plain": [
       "gas_transport     131659\n",
       "grocery_pos       123638\n",
       "home              123115\n",
       "shopping_pos      116672\n",
       "kids_pets         113035\n",
       "shopping_net       97543\n",
       "entertainment      94014\n",
       "food_dining        91461\n",
       "personal_care      90758\n",
       "health_fitness     85879\n",
       "misc_pos           79655\n",
       "misc_net           63287\n",
       "grocery_net        45452\n",
       "travel             40507\n",
       "Name: category, dtype: int64"
      ]
     },
     "execution_count": 23,
     "metadata": {},
     "output_type": "execute_result"
    }
   ],
   "source": [
    "df['category'].value_counts()"
   ]
  },
  {
   "cell_type": "markdown",
   "metadata": {},
   "source": [
    "Since there seems to be some additional features in the category column, I think I can extract them and create new features.\n",
    "\n",
    "I will first create a new_category feature that simplifies the categories and gets rid of 'pos' or 'net' from the category."
   ]
  },
  {
   "cell_type": "code",
   "execution_count": 24,
   "metadata": {},
   "outputs": [],
   "source": [
    "df['new_category'] = df['category']"
   ]
  },
  {
   "cell_type": "code",
   "execution_count": 25,
   "metadata": {},
   "outputs": [
    {
     "data": {
      "text/plain": [
       "shopping          214215\n",
       "grocery           169090\n",
       "misc              142942\n",
       "gas_transport     131659\n",
       "home              123115\n",
       "kids_pets         113035\n",
       "entertainment      94014\n",
       "food_dining        91461\n",
       "personal_care      90758\n",
       "health_fitness     85879\n",
       "travel             40507\n",
       "Name: new_category, dtype: int64"
      ]
     },
     "execution_count": 25,
     "metadata": {},
     "output_type": "execute_result"
    }
   ],
   "source": [
    "df.loc[df['category'] == 'grocery_pos', 'new_category'] = 'grocery'\n",
    "df.loc[df['category'] == 'shopping_pos', 'new_category'] = 'shopping'\n",
    "df.loc[df['category'] == 'shopping_net', 'new_category'] = 'shopping'\n",
    "df.loc[df['category'] == 'misc_pos', 'new_category'] = 'misc'\n",
    "df.loc[df['category'] == 'misc_net', 'new_category'] = 'misc'\n",
    "df.loc[df['category'] == 'grocery_net', 'new_category'] = 'grocery'\n",
    "df['new_category'].value_counts()"
   ]
  },
  {
   "cell_type": "markdown",
   "metadata": {},
   "source": [
    "I can create additional features based on categories that are either 'pos' or 'net'"
   ]
  },
  {
   "cell_type": "code",
   "execution_count": 26,
   "metadata": {},
   "outputs": [],
   "source": [
    "df['category_pos'] = 0"
   ]
  },
  {
   "cell_type": "code",
   "execution_count": 27,
   "metadata": {},
   "outputs": [],
   "source": [
    "df['category_net'] = 0"
   ]
  },
  {
   "cell_type": "code",
   "execution_count": 28,
   "metadata": {},
   "outputs": [
    {
     "data": {
      "text/plain": [
       "0    976710\n",
       "1    319965\n",
       "Name: category_pos, dtype: int64"
      ]
     },
     "execution_count": 28,
     "metadata": {},
     "output_type": "execute_result"
    }
   ],
   "source": [
    "df.loc[df['category'] == 'grocery_pos', 'category_pos'] = 1\n",
    "df.loc[df['category'] == 'misc_pos', 'category_pos'] = 1\n",
    "df.loc[df['category'] == 'shopping_pos', 'category_pos'] = 1\n",
    "df['category_pos'].value_counts()"
   ]
  },
  {
   "cell_type": "code",
   "execution_count": 29,
   "metadata": {},
   "outputs": [
    {
     "data": {
      "text/plain": [
       "0    976710\n",
       "1    319965\n",
       "Name: category_pos, dtype: int64"
      ]
     },
     "execution_count": 29,
     "metadata": {},
     "output_type": "execute_result"
    }
   ],
   "source": [
    "df.loc[df['category'] == 'shopping_net', 'category_net'] = 1\n",
    "df.loc[df['category'] == 'misc_net', 'category_net'] = 1\n",
    "df.loc[df['category'] == 'grocery_net', 'category_net'] = 1\n",
    "df['category_pos'].value_counts()"
   ]
  },
  {
   "cell_type": "markdown",
   "metadata": {},
   "source": [
    "#### First & Last Names"
   ]
  },
  {
   "cell_type": "code",
   "execution_count": 30,
   "metadata": {},
   "outputs": [
    {
     "data": {
      "text/plain": [
       "Christopher    26669\n",
       "Robert         21667\n",
       "Jessica        20581\n",
       "James          20039\n",
       "Michael        20009\n",
       "               ...  \n",
       "Cameron            9\n",
       "Phyllis            8\n",
       "Molly              8\n",
       "Angelica           7\n",
       "Samantha           7\n",
       "Name: first, Length: 352, dtype: int64"
      ]
     },
     "execution_count": 30,
     "metadata": {},
     "output_type": "execute_result"
    }
   ],
   "source": [
    "df['first'].value_counts()"
   ]
  },
  {
   "cell_type": "code",
   "execution_count": 31,
   "metadata": {},
   "outputs": [
    {
     "data": {
      "text/plain": [
       "Christopher    2.056722\n",
       "Robert         1.670966\n",
       "Jessica        1.587213\n",
       "James          1.545414\n",
       "Michael        1.543101\n",
       "                 ...   \n",
       "Cameron        0.000694\n",
       "Phyllis        0.000617\n",
       "Molly          0.000617\n",
       "Angelica       0.000540\n",
       "Samantha       0.000540\n",
       "Name: first, Length: 352, dtype: float64"
      ]
     },
     "execution_count": 31,
     "metadata": {},
     "output_type": "execute_result"
    }
   ],
   "source": [
    "first_name_values = df['first'].value_counts()/len(df)*100\n",
    "first_name_values"
   ]
  },
  {
   "cell_type": "code",
   "execution_count": 32,
   "metadata": {},
   "outputs": [
    {
     "data": {
      "text/plain": [
       "Christopher    2.056722\n",
       "Robert         1.670966\n",
       "Jessica        1.587213\n",
       "James          1.545414\n",
       "Michael        1.543101\n",
       "David          1.539707\n",
       "Jennifer       1.306418\n",
       "William        1.262537\n",
       "Mary           1.260609\n",
       "John           1.258989\n",
       "Margaret       1.180866\n",
       "Joseph         1.140764\n",
       "Daniel         1.069428\n",
       "Lisa           1.061716\n",
       "Amanda         1.026472\n",
       "Ashley         1.025392\n",
       "Jeffrey        0.989531\n",
       "Michelle       0.971793\n",
       "Samuel         0.939248\n",
       "Kimberly       0.911177\n",
       "Steven         0.909094\n",
       "Kenneth        0.901922\n",
       "Stephanie      0.823491\n",
       "Lauren         0.792874\n",
       "Melissa        0.790792\n",
       "Susan          0.783620\n",
       "Adam           0.759172\n",
       "Nathan         0.755702\n",
       "Christine      0.749995\n",
       "Jacqueline     0.718299\n",
       "Rebecca        0.717065\n",
       "Charles        0.715677\n",
       "Scott          0.714211\n",
       "Sarah          0.714134\n",
       "Angela         0.702181\n",
       "Barbara        0.676500\n",
       "Linda          0.671949\n",
       "Jason          0.658608\n",
       "Monica         0.639405\n",
       "Matthew        0.633158\n",
       "Justin         0.596757\n",
       "Thomas         0.596371\n",
       "Mark           0.595755\n",
       "Rachel         0.593827\n",
       "Danielle       0.551565\n",
       "Kayla          0.551025\n",
       "Jeremy         0.550176\n",
       "Andrew         0.544624\n",
       "Lori           0.542542\n",
       "Vincent        0.516321\n",
       "Dawn           0.513313\n",
       "Tyler          0.512619\n",
       "Karen          0.511308\n",
       "Sharon         0.511154\n",
       "Gina           0.506912\n",
       "Name: first, dtype: float64"
      ]
     },
     "execution_count": 32,
     "metadata": {},
     "output_type": "execute_result"
    }
   ],
   "source": [
    "threshold_first_name = 0.5\n",
    "\n",
    "imp_first_name = first_name_values[first_name_values > threshold_first_name]\n",
    "imp_first_name"
   ]
  },
  {
   "cell_type": "code",
   "execution_count": 33,
   "metadata": {},
   "outputs": [
    {
     "data": {
      "text/plain": [
       "55"
      ]
     },
     "execution_count": 33,
     "metadata": {},
     "output_type": "execute_result"
    }
   ],
   "source": [
    "imp_first_name.nunique()"
   ]
  },
  {
   "cell_type": "code",
   "execution_count": 34,
   "metadata": {},
   "outputs": [],
   "source": [
    "df['first'] = np.where(df['first'].isin(imp_first_name.index), df['first'], 'other')"
   ]
  },
  {
   "cell_type": "code",
   "execution_count": 35,
   "metadata": {},
   "outputs": [
    {
     "data": {
      "text/plain": [
       "56"
      ]
     },
     "execution_count": 35,
     "metadata": {},
     "output_type": "execute_result"
    }
   ],
   "source": [
    "df['first'].nunique()"
   ]
  },
  {
   "cell_type": "code",
   "execution_count": 36,
   "metadata": {},
   "outputs": [
    {
     "data": {
      "text/plain": [
       "0             Jennifer\n",
       "1            Stephanie\n",
       "2                other\n",
       "3               Jeremy\n",
       "4                Tyler\n",
       "              ...     \n",
       "1296670          other\n",
       "1296671        Jeffrey\n",
       "1296672    Christopher\n",
       "1296673         Joseph\n",
       "1296674        Jeffrey\n",
       "Name: first, Length: 1296675, dtype: object"
      ]
     },
     "execution_count": 36,
     "metadata": {},
     "output_type": "execute_result"
    }
   ],
   "source": [
    "# apply other using lambda\n",
    "df['first'].apply(lambda x: 'other' if x not in imp_first_name.index else x)"
   ]
  },
  {
   "cell_type": "code",
   "execution_count": 37,
   "metadata": {},
   "outputs": [
    {
     "data": {
      "text/plain": [
       "Smith        28794\n",
       "Williams     23605\n",
       "Davis        21910\n",
       "Johnson      20034\n",
       "Rodriguez    17394\n",
       "             ...  \n",
       "Contreras        9\n",
       "Wells            9\n",
       "Strong           8\n",
       "Schaefer         7\n",
       "Blake            7\n",
       "Name: last, Length: 481, dtype: int64"
      ]
     },
     "execution_count": 37,
     "metadata": {},
     "output_type": "execute_result"
    }
   ],
   "source": [
    "df['last'].value_counts()"
   ]
  },
  {
   "cell_type": "code",
   "execution_count": 38,
   "metadata": {},
   "outputs": [
    {
     "data": {
      "text/plain": [
       "Smith        2.220603\n",
       "Williams     1.820425\n",
       "Davis        1.689706\n",
       "Johnson      1.545029\n",
       "Rodriguez    1.341431\n",
       "               ...   \n",
       "Contreras    0.000694\n",
       "Wells        0.000694\n",
       "Strong       0.000617\n",
       "Schaefer     0.000540\n",
       "Blake        0.000540\n",
       "Name: last, Length: 481, dtype: float64"
      ]
     },
     "execution_count": 38,
     "metadata": {},
     "output_type": "execute_result"
    }
   ],
   "source": [
    "last_name_values = df['last'].value_counts()/len(df)*100\n",
    "last_name_values"
   ]
  },
  {
   "cell_type": "code",
   "execution_count": 39,
   "metadata": {},
   "outputs": [
    {
     "data": {
      "text/plain": [
       "Smith        2.220603\n",
       "Williams     1.820425\n",
       "Davis        1.689706\n",
       "Johnson      1.545029\n",
       "Rodriguez    1.341431\n",
       "Martinez     1.141766\n",
       "Jones        1.077834\n",
       "Lewis        0.983516\n",
       "Gonzalez     0.909943\n",
       "Miller       0.902154\n",
       "Lowe         0.872077\n",
       "Martin       0.867758\n",
       "Bell         0.831666\n",
       "Perez        0.750304\n",
       "Robinson     0.716216\n",
       "Bishop       0.713672\n",
       "Garcia       0.708427\n",
       "Mendoza      0.675805\n",
       "Thomas       0.672798\n",
       "Clark        0.672104\n",
       "Sanders      0.636088\n",
       "Taylor       0.633775\n",
       "Tucker       0.633621\n",
       "Anderson     0.633158\n",
       "Foster       0.632001\n",
       "Allen        0.631230\n",
       "Gomez        0.630613\n",
       "Brown        0.597374\n",
       "Patterson    0.582336\n",
       "Mendez       0.554495\n",
       "Harris       0.553955\n",
       "White        0.551179\n",
       "Lambert      0.549868\n",
       "Sanchez      0.545626\n",
       "Flores       0.520485\n",
       "Hernandez    0.519637\n",
       "Fuller       0.515858\n",
       "Campbell     0.515241\n",
       "Johnston     0.511848\n",
       "Jenkins      0.504290\n",
       "Name: last, dtype: float64"
      ]
     },
     "execution_count": 39,
     "metadata": {},
     "output_type": "execute_result"
    }
   ],
   "source": [
    "threshold_last_name = 0.5\n",
    "\n",
    "imp_last_name = last_name_values[last_name_values > threshold_last_name]\n",
    "imp_last_name"
   ]
  },
  {
   "cell_type": "code",
   "execution_count": 40,
   "metadata": {},
   "outputs": [
    {
     "data": {
      "text/plain": [
       "40"
      ]
     },
     "execution_count": 40,
     "metadata": {},
     "output_type": "execute_result"
    }
   ],
   "source": [
    "imp_last_name.nunique()"
   ]
  },
  {
   "cell_type": "code",
   "execution_count": 41,
   "metadata": {},
   "outputs": [],
   "source": [
    "df['last'] = np.where(df['last'].isin(imp_last_name.index), df['last'], 'other')"
   ]
  },
  {
   "cell_type": "code",
   "execution_count": 42,
   "metadata": {},
   "outputs": [
    {
     "data": {
      "text/plain": [
       "41"
      ]
     },
     "execution_count": 42,
     "metadata": {},
     "output_type": "execute_result"
    }
   ],
   "source": [
    "df['last'].nunique()"
   ]
  },
  {
   "cell_type": "code",
   "execution_count": 43,
   "metadata": {},
   "outputs": [
    {
     "data": {
      "text/plain": [
       "0              other\n",
       "1              other\n",
       "2            Sanchez\n",
       "3              White\n",
       "4             Garcia\n",
       "             ...    \n",
       "1296670    Patterson\n",
       "1296671        White\n",
       "1296672        other\n",
       "1296673        other\n",
       "1296674        Smith\n",
       "Name: last, Length: 1296675, dtype: object"
      ]
     },
     "execution_count": 43,
     "metadata": {},
     "output_type": "execute_result"
    }
   ],
   "source": [
    "# apply other using lambda\n",
    "df['last'].apply(lambda x: 'other' if x not in imp_last_name.index else x)"
   ]
  },
  {
   "cell_type": "code",
   "execution_count": 44,
   "metadata": {},
   "outputs": [
    {
     "data": {
      "text/plain": [
       "other        874401\n",
       "Smith         28794\n",
       "Williams      23605\n",
       "Davis         21910\n",
       "Johnson       20034\n",
       "Rodriguez     17394\n",
       "Martinez      14805\n",
       "Jones         13976\n",
       "Lewis         12753\n",
       "Gonzalez      11799\n",
       "Miller        11698\n",
       "Lowe          11308\n",
       "Martin        11252\n",
       "Bell          10784\n",
       "Perez          9729\n",
       "Robinson       9287\n",
       "Bishop         9254\n",
       "Garcia         9186\n",
       "Mendoza        8763\n",
       "Thomas         8724\n",
       "Clark          8715\n",
       "Sanders        8248\n",
       "Taylor         8218\n",
       "Tucker         8216\n",
       "Anderson       8210\n",
       "Foster         8195\n",
       "Allen          8185\n",
       "Gomez          8177\n",
       "Brown          7746\n",
       "Patterson      7551\n",
       "Mendez         7190\n",
       "Harris         7183\n",
       "White          7147\n",
       "Lambert        7130\n",
       "Sanchez        7075\n",
       "Flores         6749\n",
       "Hernandez      6738\n",
       "Fuller         6689\n",
       "Campbell       6681\n",
       "Johnston       6637\n",
       "Jenkins        6539\n",
       "Name: last, dtype: int64"
      ]
     },
     "execution_count": 44,
     "metadata": {},
     "output_type": "execute_result"
    }
   ],
   "source": [
    "df['last'].value_counts()"
   ]
  },
  {
   "cell_type": "code",
   "execution_count": 45,
   "metadata": {},
   "outputs": [],
   "source": [
    "df.drop(['cc_num', 'trans_num', 'street', 'state', 'zip', 'lat', 'long', \n",
    "         'unix_time', 'merch_lat', 'merch_long'], \n",
    "        axis = 1, inplace = True)"
   ]
  },
  {
   "cell_type": "code",
   "execution_count": 46,
   "metadata": {},
   "outputs": [
    {
     "data": {
      "text/plain": [
       "Index(['trans_date_trans_time', 'merchant', 'category', 'amt', 'first', 'last',\n",
       "       'gender', 'city', 'city_pop', 'job', 'dob', 'is_fraud', 'new_category',\n",
       "       'category_pos', 'category_net'],\n",
       "      dtype='object')"
      ]
     },
     "execution_count": 46,
     "metadata": {},
     "output_type": "execute_result"
    }
   ],
   "source": [
    "df.columns"
   ]
  },
  {
   "cell_type": "code",
   "execution_count": 47,
   "metadata": {},
   "outputs": [
    {
     "data": {
      "text/html": [
       "<div>\n",
       "<style scoped>\n",
       "    .dataframe tbody tr th:only-of-type {\n",
       "        vertical-align: middle;\n",
       "    }\n",
       "\n",
       "    .dataframe tbody tr th {\n",
       "        vertical-align: top;\n",
       "    }\n",
       "\n",
       "    .dataframe thead th {\n",
       "        text-align: right;\n",
       "    }\n",
       "</style>\n",
       "<table border=\"1\" class=\"dataframe\">\n",
       "  <thead>\n",
       "    <tr style=\"text-align: right;\">\n",
       "      <th></th>\n",
       "      <th>trans_date_trans_time</th>\n",
       "      <th>merchant</th>\n",
       "      <th>category</th>\n",
       "      <th>amt</th>\n",
       "      <th>first</th>\n",
       "      <th>last</th>\n",
       "      <th>gender</th>\n",
       "      <th>city</th>\n",
       "      <th>city_pop</th>\n",
       "      <th>job</th>\n",
       "      <th>dob</th>\n",
       "      <th>is_fraud</th>\n",
       "      <th>new_category</th>\n",
       "      <th>category_pos</th>\n",
       "      <th>category_net</th>\n",
       "    </tr>\n",
       "  </thead>\n",
       "  <tbody>\n",
       "    <tr>\n",
       "      <th>0</th>\n",
       "      <td>2019-01-01 00:00:18</td>\n",
       "      <td>other</td>\n",
       "      <td>misc_net</td>\n",
       "      <td>4.97</td>\n",
       "      <td>Jennifer</td>\n",
       "      <td>other</td>\n",
       "      <td>F</td>\n",
       "      <td>Moravian Falls</td>\n",
       "      <td>3495</td>\n",
       "      <td>Psychologist, counselling</td>\n",
       "      <td>1988-03-09</td>\n",
       "      <td>0</td>\n",
       "      <td>misc</td>\n",
       "      <td>0</td>\n",
       "      <td>1</td>\n",
       "    </tr>\n",
       "    <tr>\n",
       "      <th>1</th>\n",
       "      <td>2019-01-01 00:00:44</td>\n",
       "      <td>other</td>\n",
       "      <td>grocery_pos</td>\n",
       "      <td>107.23</td>\n",
       "      <td>Stephanie</td>\n",
       "      <td>other</td>\n",
       "      <td>F</td>\n",
       "      <td>Orient</td>\n",
       "      <td>149</td>\n",
       "      <td>Special educational needs teacher</td>\n",
       "      <td>1978-06-21</td>\n",
       "      <td>0</td>\n",
       "      <td>grocery</td>\n",
       "      <td>1</td>\n",
       "      <td>0</td>\n",
       "    </tr>\n",
       "  </tbody>\n",
       "</table>\n",
       "</div>"
      ],
      "text/plain": [
       "  trans_date_trans_time merchant     category     amt      first   last  \\\n",
       "0   2019-01-01 00:00:18    other     misc_net    4.97   Jennifer  other   \n",
       "1   2019-01-01 00:00:44    other  grocery_pos  107.23  Stephanie  other   \n",
       "\n",
       "  gender            city  city_pop                                job  \\\n",
       "0      F  Moravian Falls      3495          Psychologist, counselling   \n",
       "1      F          Orient       149  Special educational needs teacher   \n",
       "\n",
       "          dob  is_fraud new_category  category_pos  category_net  \n",
       "0  1988-03-09         0         misc             0             1  \n",
       "1  1978-06-21         0      grocery             1             0  "
      ]
     },
     "execution_count": 47,
     "metadata": {},
     "output_type": "execute_result"
    }
   ],
   "source": [
    "df.head(2)"
   ]
  },
  {
   "cell_type": "code",
   "execution_count": 48,
   "metadata": {},
   "outputs": [
    {
     "data": {
      "text/html": [
       "<div>\n",
       "<style scoped>\n",
       "    .dataframe tbody tr th:only-of-type {\n",
       "        vertical-align: middle;\n",
       "    }\n",
       "\n",
       "    .dataframe tbody tr th {\n",
       "        vertical-align: top;\n",
       "    }\n",
       "\n",
       "    .dataframe thead th {\n",
       "        text-align: right;\n",
       "    }\n",
       "</style>\n",
       "<table border=\"1\" class=\"dataframe\">\n",
       "  <thead>\n",
       "    <tr style=\"text-align: right;\">\n",
       "      <th></th>\n",
       "      <th>trans_date_trans_time</th>\n",
       "      <th>merchant</th>\n",
       "      <th>category</th>\n",
       "      <th>amt</th>\n",
       "      <th>first</th>\n",
       "      <th>last</th>\n",
       "      <th>gender</th>\n",
       "      <th>city</th>\n",
       "      <th>city_pop</th>\n",
       "      <th>job</th>\n",
       "      <th>dob</th>\n",
       "      <th>is_fraud</th>\n",
       "      <th>new_category</th>\n",
       "      <th>category_pos</th>\n",
       "      <th>category_net</th>\n",
       "    </tr>\n",
       "  </thead>\n",
       "  <tbody>\n",
       "    <tr>\n",
       "      <th>0</th>\n",
       "      <td>2019-01-01 00:00:18</td>\n",
       "      <td>other</td>\n",
       "      <td>misc_net</td>\n",
       "      <td>4.97</td>\n",
       "      <td>Jennifer</td>\n",
       "      <td>other</td>\n",
       "      <td>0</td>\n",
       "      <td>Moravian Falls</td>\n",
       "      <td>3495</td>\n",
       "      <td>Psychologist, counselling</td>\n",
       "      <td>1988-03-09</td>\n",
       "      <td>0</td>\n",
       "      <td>misc</td>\n",
       "      <td>0</td>\n",
       "      <td>1</td>\n",
       "    </tr>\n",
       "    <tr>\n",
       "      <th>1</th>\n",
       "      <td>2019-01-01 00:00:44</td>\n",
       "      <td>other</td>\n",
       "      <td>grocery_pos</td>\n",
       "      <td>107.23</td>\n",
       "      <td>Stephanie</td>\n",
       "      <td>other</td>\n",
       "      <td>0</td>\n",
       "      <td>Orient</td>\n",
       "      <td>149</td>\n",
       "      <td>Special educational needs teacher</td>\n",
       "      <td>1978-06-21</td>\n",
       "      <td>0</td>\n",
       "      <td>grocery</td>\n",
       "      <td>1</td>\n",
       "      <td>0</td>\n",
       "    </tr>\n",
       "  </tbody>\n",
       "</table>\n",
       "</div>"
      ],
      "text/plain": [
       "  trans_date_trans_time merchant     category     amt      first   last  \\\n",
       "0   2019-01-01 00:00:18    other     misc_net    4.97   Jennifer  other   \n",
       "1   2019-01-01 00:00:44    other  grocery_pos  107.23  Stephanie  other   \n",
       "\n",
       "   gender            city  city_pop                                job  \\\n",
       "0       0  Moravian Falls      3495          Psychologist, counselling   \n",
       "1       0          Orient       149  Special educational needs teacher   \n",
       "\n",
       "          dob  is_fraud new_category  category_pos  category_net  \n",
       "0  1988-03-09         0         misc             0             1  \n",
       "1  1978-06-21         0      grocery             1             0  "
      ]
     },
     "execution_count": 48,
     "metadata": {},
     "output_type": "execute_result"
    }
   ],
   "source": [
    "df[\"gender\"] = np.where(df[\"gender\"]==\"M\", 1, 0)\n",
    "df.head(2)"
   ]
  },
  {
   "cell_type": "code",
   "execution_count": 49,
   "metadata": {},
   "outputs": [],
   "source": [
    "df.rename(columns = {'gender':'is_male'}, inplace=True)"
   ]
  },
  {
   "cell_type": "code",
   "execution_count": 50,
   "metadata": {},
   "outputs": [
    {
     "data": {
      "text/html": [
       "<div>\n",
       "<style scoped>\n",
       "    .dataframe tbody tr th:only-of-type {\n",
       "        vertical-align: middle;\n",
       "    }\n",
       "\n",
       "    .dataframe tbody tr th {\n",
       "        vertical-align: top;\n",
       "    }\n",
       "\n",
       "    .dataframe thead th {\n",
       "        text-align: right;\n",
       "    }\n",
       "</style>\n",
       "<table border=\"1\" class=\"dataframe\">\n",
       "  <thead>\n",
       "    <tr style=\"text-align: right;\">\n",
       "      <th></th>\n",
       "      <th>trans_date_trans_time</th>\n",
       "      <th>merchant</th>\n",
       "      <th>category</th>\n",
       "      <th>amt</th>\n",
       "      <th>first</th>\n",
       "      <th>last</th>\n",
       "      <th>is_male</th>\n",
       "      <th>city</th>\n",
       "      <th>city_pop</th>\n",
       "      <th>job</th>\n",
       "      <th>dob</th>\n",
       "      <th>is_fraud</th>\n",
       "      <th>new_category</th>\n",
       "      <th>category_pos</th>\n",
       "      <th>category_net</th>\n",
       "    </tr>\n",
       "  </thead>\n",
       "  <tbody>\n",
       "    <tr>\n",
       "      <th>0</th>\n",
       "      <td>2019-01-01 00:00:18</td>\n",
       "      <td>other</td>\n",
       "      <td>misc_net</td>\n",
       "      <td>4.97</td>\n",
       "      <td>Jennifer</td>\n",
       "      <td>other</td>\n",
       "      <td>0</td>\n",
       "      <td>Moravian Falls</td>\n",
       "      <td>3495</td>\n",
       "      <td>Psychologist, counselling</td>\n",
       "      <td>1988-03-09</td>\n",
       "      <td>0</td>\n",
       "      <td>misc</td>\n",
       "      <td>0</td>\n",
       "      <td>1</td>\n",
       "    </tr>\n",
       "    <tr>\n",
       "      <th>1</th>\n",
       "      <td>2019-01-01 00:00:44</td>\n",
       "      <td>other</td>\n",
       "      <td>grocery_pos</td>\n",
       "      <td>107.23</td>\n",
       "      <td>Stephanie</td>\n",
       "      <td>other</td>\n",
       "      <td>0</td>\n",
       "      <td>Orient</td>\n",
       "      <td>149</td>\n",
       "      <td>Special educational needs teacher</td>\n",
       "      <td>1978-06-21</td>\n",
       "      <td>0</td>\n",
       "      <td>grocery</td>\n",
       "      <td>1</td>\n",
       "      <td>0</td>\n",
       "    </tr>\n",
       "  </tbody>\n",
       "</table>\n",
       "</div>"
      ],
      "text/plain": [
       "  trans_date_trans_time merchant     category     amt      first   last  \\\n",
       "0   2019-01-01 00:00:18    other     misc_net    4.97   Jennifer  other   \n",
       "1   2019-01-01 00:00:44    other  grocery_pos  107.23  Stephanie  other   \n",
       "\n",
       "   is_male            city  city_pop                                job  \\\n",
       "0        0  Moravian Falls      3495          Psychologist, counselling   \n",
       "1        0          Orient       149  Special educational needs teacher   \n",
       "\n",
       "          dob  is_fraud new_category  category_pos  category_net  \n",
       "0  1988-03-09         0         misc             0             1  \n",
       "1  1978-06-21         0      grocery             1             0  "
      ]
     },
     "execution_count": 50,
     "metadata": {},
     "output_type": "execute_result"
    }
   ],
   "source": [
    "df.head(2)"
   ]
  },
  {
   "cell_type": "code",
   "execution_count": 51,
   "metadata": {},
   "outputs": [],
   "source": [
    "# from datetime import datetime, date\n",
    "import datetime"
   ]
  },
  {
   "cell_type": "code",
   "execution_count": 52,
   "metadata": {},
   "outputs": [],
   "source": [
    "def from_dob_to_age(born):\n",
    "    today = datetime.date.today()\n",
    "    return today.year - born.year - ((today.month, today.day) < (born.month, born.day))"
   ]
  },
  {
   "cell_type": "code",
   "execution_count": 53,
   "metadata": {},
   "outputs": [],
   "source": [
    "dob = datetime.date(1982,8,7)"
   ]
  },
  {
   "cell_type": "code",
   "execution_count": 54,
   "metadata": {},
   "outputs": [
    {
     "data": {
      "text/plain": [
       "38"
      ]
     },
     "execution_count": 54,
     "metadata": {},
     "output_type": "execute_result"
    }
   ],
   "source": [
    "from_dob_to_age(dob)"
   ]
  },
  {
   "cell_type": "code",
   "execution_count": 55,
   "metadata": {},
   "outputs": [],
   "source": [
    "df['age'] = pd.to_datetime(df.dob)"
   ]
  },
  {
   "cell_type": "code",
   "execution_count": 56,
   "metadata": {},
   "outputs": [
    {
     "data": {
      "text/plain": [
       "0         1988-03-09\n",
       "1         1978-06-21\n",
       "2         1962-01-19\n",
       "3         1967-01-12\n",
       "4         1986-03-28\n",
       "             ...    \n",
       "1296670   1961-11-24\n",
       "1296671   1979-12-11\n",
       "1296672   1967-08-30\n",
       "1296673   1980-08-18\n",
       "1296674   1995-08-16\n",
       "Name: age, Length: 1296675, dtype: datetime64[ns]"
      ]
     },
     "execution_count": 56,
     "metadata": {},
     "output_type": "execute_result"
    }
   ],
   "source": [
    "df['age']"
   ]
  },
  {
   "cell_type": "code",
   "execution_count": 57,
   "metadata": {},
   "outputs": [],
   "source": [
    "df['age'] = df['age'].apply(lambda x: from_dob_to_age(x))"
   ]
  },
  {
   "cell_type": "code",
   "execution_count": 58,
   "metadata": {},
   "outputs": [],
   "source": [
    "# year = df['dob'].str.split('-', expand=True)[0].astype('int')\n",
    "# month = df['dob'].str.split('-', expand=True)[1].astype('int')\n",
    "# day = df['dob'].str.split('-', expand=True)[2].astype('int')\n",
    "# born = [year, month, day]"
   ]
  },
  {
   "cell_type": "code",
   "execution_count": 59,
   "metadata": {},
   "outputs": [
    {
     "data": {
      "text/html": [
       "<div>\n",
       "<style scoped>\n",
       "    .dataframe tbody tr th:only-of-type {\n",
       "        vertical-align: middle;\n",
       "    }\n",
       "\n",
       "    .dataframe tbody tr th {\n",
       "        vertical-align: top;\n",
       "    }\n",
       "\n",
       "    .dataframe thead th {\n",
       "        text-align: right;\n",
       "    }\n",
       "</style>\n",
       "<table border=\"1\" class=\"dataframe\">\n",
       "  <thead>\n",
       "    <tr style=\"text-align: right;\">\n",
       "      <th></th>\n",
       "      <th>trans_date_trans_time</th>\n",
       "      <th>merchant</th>\n",
       "      <th>category</th>\n",
       "      <th>amt</th>\n",
       "      <th>first</th>\n",
       "      <th>last</th>\n",
       "      <th>is_male</th>\n",
       "      <th>city</th>\n",
       "      <th>city_pop</th>\n",
       "      <th>job</th>\n",
       "      <th>dob</th>\n",
       "      <th>is_fraud</th>\n",
       "      <th>new_category</th>\n",
       "      <th>category_pos</th>\n",
       "      <th>category_net</th>\n",
       "      <th>age</th>\n",
       "    </tr>\n",
       "  </thead>\n",
       "  <tbody>\n",
       "    <tr>\n",
       "      <th>0</th>\n",
       "      <td>2019-01-01 00:00:18</td>\n",
       "      <td>other</td>\n",
       "      <td>misc_net</td>\n",
       "      <td>4.97</td>\n",
       "      <td>Jennifer</td>\n",
       "      <td>other</td>\n",
       "      <td>0</td>\n",
       "      <td>Moravian Falls</td>\n",
       "      <td>3495</td>\n",
       "      <td>Psychologist, counselling</td>\n",
       "      <td>1988-03-09</td>\n",
       "      <td>0</td>\n",
       "      <td>misc</td>\n",
       "      <td>0</td>\n",
       "      <td>1</td>\n",
       "      <td>33</td>\n",
       "    </tr>\n",
       "    <tr>\n",
       "      <th>1</th>\n",
       "      <td>2019-01-01 00:00:44</td>\n",
       "      <td>other</td>\n",
       "      <td>grocery_pos</td>\n",
       "      <td>107.23</td>\n",
       "      <td>Stephanie</td>\n",
       "      <td>other</td>\n",
       "      <td>0</td>\n",
       "      <td>Orient</td>\n",
       "      <td>149</td>\n",
       "      <td>Special educational needs teacher</td>\n",
       "      <td>1978-06-21</td>\n",
       "      <td>0</td>\n",
       "      <td>grocery</td>\n",
       "      <td>1</td>\n",
       "      <td>0</td>\n",
       "      <td>43</td>\n",
       "    </tr>\n",
       "  </tbody>\n",
       "</table>\n",
       "</div>"
      ],
      "text/plain": [
       "  trans_date_trans_time merchant     category     amt      first   last  \\\n",
       "0   2019-01-01 00:00:18    other     misc_net    4.97   Jennifer  other   \n",
       "1   2019-01-01 00:00:44    other  grocery_pos  107.23  Stephanie  other   \n",
       "\n",
       "   is_male            city  city_pop                                job  \\\n",
       "0        0  Moravian Falls      3495          Psychologist, counselling   \n",
       "1        0          Orient       149  Special educational needs teacher   \n",
       "\n",
       "          dob  is_fraud new_category  category_pos  category_net  age  \n",
       "0  1988-03-09         0         misc             0             1   33  \n",
       "1  1978-06-21         0      grocery             1             0   43  "
      ]
     },
     "execution_count": 59,
     "metadata": {},
     "output_type": "execute_result"
    }
   ],
   "source": [
    "df.head(2)"
   ]
  },
  {
   "cell_type": "code",
   "execution_count": 60,
   "metadata": {},
   "outputs": [
    {
     "data": {
      "text/plain": [
       "Birmingham     5617\n",
       "San Antonio    5130\n",
       "Utica          5105\n",
       "Phoenix        5075\n",
       "Meridian       5060\n",
       "               ... \n",
       "Karns City        7\n",
       "Chattanooga       7\n",
       "Vacaville         7\n",
       "Norfolk           7\n",
       "Bruce             7\n",
       "Name: city, Length: 894, dtype: int64"
      ]
     },
     "execution_count": 60,
     "metadata": {},
     "output_type": "execute_result"
    }
   ],
   "source": [
    "df['city'].value_counts()"
   ]
  },
  {
   "cell_type": "code",
   "execution_count": 61,
   "metadata": {},
   "outputs": [
    {
     "data": {
      "text/plain": [
       "Birmingham     0.433185\n",
       "San Antonio    0.395627\n",
       "Utica          0.393699\n",
       "Phoenix        0.391386\n",
       "Meridian       0.390229\n",
       "                 ...   \n",
       "Karns City     0.000540\n",
       "Chattanooga    0.000540\n",
       "Vacaville      0.000540\n",
       "Norfolk        0.000540\n",
       "Bruce          0.000540\n",
       "Name: city, Length: 894, dtype: float64"
      ]
     },
     "execution_count": 61,
     "metadata": {},
     "output_type": "execute_result"
    }
   ],
   "source": [
    "city_values = df['city'].value_counts()/len(df)*100\n",
    "city_values"
   ]
  },
  {
   "cell_type": "code",
   "execution_count": 62,
   "metadata": {},
   "outputs": [
    {
     "data": {
      "text/plain": [
       "Birmingham     0.433185\n",
       "San Antonio    0.395627\n",
       "Utica          0.393699\n",
       "Phoenix        0.391386\n",
       "Meridian       0.390229\n",
       "                 ...   \n",
       "Espanola       0.201361\n",
       "Issaquah       0.200667\n",
       "Ronceverte     0.200436\n",
       "Lawrence       0.200281\n",
       "San Diego      0.200127\n",
       "Name: city, Length: 88, dtype: float64"
      ]
     },
     "execution_count": 62,
     "metadata": {},
     "output_type": "execute_result"
    }
   ],
   "source": [
    "threshold_city = 0.2\n",
    "\n",
    "imp_city = city_values[city_values > threshold_city]\n",
    "imp_city"
   ]
  },
  {
   "cell_type": "code",
   "execution_count": 63,
   "metadata": {},
   "outputs": [
    {
     "data": {
      "text/plain": [
       "79"
      ]
     },
     "execution_count": 63,
     "metadata": {},
     "output_type": "execute_result"
    }
   ],
   "source": [
    "imp_city.nunique()"
   ]
  },
  {
   "cell_type": "code",
   "execution_count": 64,
   "metadata": {},
   "outputs": [],
   "source": [
    "df['city'] = np.where(df['city'].isin(imp_city.index), df['city'], 'other')"
   ]
  },
  {
   "cell_type": "code",
   "execution_count": 65,
   "metadata": {},
   "outputs": [
    {
     "data": {
      "text/plain": [
       "89"
      ]
     },
     "execution_count": 65,
     "metadata": {},
     "output_type": "execute_result"
    }
   ],
   "source": [
    "df['city'].nunique()"
   ]
  },
  {
   "cell_type": "code",
   "execution_count": 66,
   "metadata": {},
   "outputs": [
    {
     "data": {
      "text/plain": [
       "0           other\n",
       "1          Orient\n",
       "2           other\n",
       "3           other\n",
       "4           other\n",
       "            ...  \n",
       "1296670     other\n",
       "1296671     other\n",
       "1296672     other\n",
       "1296673     other\n",
       "1296674     other\n",
       "Name: city, Length: 1296675, dtype: object"
      ]
     },
     "execution_count": 66,
     "metadata": {},
     "output_type": "execute_result"
    }
   ],
   "source": [
    "# apply other using lambda\n",
    "df['city'].apply(lambda x: 'other' if x not in imp_city.index else x)"
   ]
  },
  {
   "cell_type": "code",
   "execution_count": 67,
   "metadata": {},
   "outputs": [
    {
     "data": {
      "text/plain": [
       "other          1000914\n",
       "Birmingham        5617\n",
       "San Antonio       5130\n",
       "Utica             5105\n",
       "Phoenix           5075\n",
       "                ...   \n",
       "Espanola          2611\n",
       "Issaquah          2602\n",
       "Ronceverte        2599\n",
       "Lawrence          2597\n",
       "San Diego         2595\n",
       "Name: city, Length: 89, dtype: int64"
      ]
     },
     "execution_count": 67,
     "metadata": {},
     "output_type": "execute_result"
    }
   ],
   "source": [
    "df['city'].value_counts()"
   ]
  },
  {
   "cell_type": "code",
   "execution_count": 68,
   "metadata": {},
   "outputs": [
    {
     "data": {
      "text/plain": [
       "Film/video editor             9779\n",
       "Exhibition designer           9199\n",
       "Naval architect               8684\n",
       "Surveyor, land/geomatics      8680\n",
       "Materials engineer            8270\n",
       "                              ... \n",
       "Information officer              8\n",
       "Veterinary surgeon               8\n",
       "Warehouse manager                7\n",
       "Contracting civil engineer       7\n",
       "Ship broker                      7\n",
       "Name: job, Length: 494, dtype: int64"
      ]
     },
     "execution_count": 68,
     "metadata": {},
     "output_type": "execute_result"
    }
   ],
   "source": [
    "df['job'].value_counts()"
   ]
  },
  {
   "cell_type": "code",
   "execution_count": 69,
   "metadata": {},
   "outputs": [],
   "source": [
    "df['job'] = df['job'].str.replace('/', '_').str.replace(',', '').str.replace(' ','_')"
   ]
  },
  {
   "cell_type": "code",
   "execution_count": 70,
   "metadata": {},
   "outputs": [
    {
     "data": {
      "text/plain": [
       "Film_video_editor                 9779\n",
       "Exhibition_designer               9199\n",
       "Naval_architect                   8684\n",
       "Surveyor_land_geomatics           8680\n",
       "Materials_engineer                8270\n",
       "                                  ... \n",
       "Information_officer                  8\n",
       "Armed_forces_technical_officer       8\n",
       "Contracting_civil_engineer           7\n",
       "Warehouse_manager                    7\n",
       "Ship_broker                          7\n",
       "Name: job, Length: 494, dtype: int64"
      ]
     },
     "execution_count": 70,
     "metadata": {},
     "output_type": "execute_result"
    }
   ],
   "source": [
    "df['job'].value_counts()"
   ]
  },
  {
   "cell_type": "code",
   "execution_count": 71,
   "metadata": {},
   "outputs": [
    {
     "data": {
      "text/plain": [
       "Film_video_editor                 0.754160\n",
       "Exhibition_designer               0.709430\n",
       "Naval_architect                   0.669713\n",
       "Surveyor_land_geomatics           0.669404\n",
       "Materials_engineer                0.637785\n",
       "                                    ...   \n",
       "Information_officer               0.000617\n",
       "Armed_forces_technical_officer    0.000617\n",
       "Contracting_civil_engineer        0.000540\n",
       "Warehouse_manager                 0.000540\n",
       "Ship_broker                       0.000540\n",
       "Name: job, Length: 494, dtype: float64"
      ]
     },
     "execution_count": 71,
     "metadata": {},
     "output_type": "execute_result"
    }
   ],
   "source": [
    "job_values = df['job'].value_counts()/len(df)*100\n",
    "job_values"
   ]
  },
  {
   "cell_type": "code",
   "execution_count": 72,
   "metadata": {},
   "outputs": [
    {
     "data": {
      "text/plain": [
       "Film_video_editor                                    0.754160\n",
       "Exhibition_designer                                  0.709430\n",
       "Naval_architect                                      0.669713\n",
       "Surveyor_land_geomatics                              0.669404\n",
       "Materials_engineer                                   0.637785\n",
       "Designer_ceramics_pottery                            0.634315\n",
       "Systems_developer                                    0.593827\n",
       "IT_trainer                                           0.592207\n",
       "Financial_adviser                                    0.590665\n",
       "Environmental_consultant                             0.582027\n",
       "Chartered_public_finance_accountant                  0.556038\n",
       "Scientist_audiological                               0.553261\n",
       "Chief_Executive_Officer                              0.553107\n",
       "Copywriter_advertising                               0.551102\n",
       "Comptroller                                          0.519020\n",
       "Sub                                                  0.516783\n",
       "Podiatrist                                           0.513082\n",
       "Agricultural_consultant                              0.512233\n",
       "Paramedic                                            0.511693\n",
       "Magazine_features_editor                             0.509148\n",
       "Historic_buildings_inspector_conservation_officer    0.478532\n",
       "Librarian_public                                     0.477066\n",
       "Building_surveyor                                    0.476449\n",
       "Musician                                             0.476449\n",
       "Water_engineer                                       0.475370\n",
       "Scientist_research_(maths)                           0.474984\n",
       "Mining_engineer                                      0.474367\n",
       "Barrister                                            0.472516\n",
       "Audiological_scientist                               0.471822\n",
       "Immunologist                                         0.469277\n",
       "Clothing_textile_technologist                        0.466501\n",
       "Prison_officer                                       0.439663\n",
       "Financial_trader                                     0.439046\n",
       "Energy_engineer                                      0.437118\n",
       "Claims_inspector_assessor                            0.437118\n",
       "Petroleum_engineer                                   0.437041\n",
       "Quantity_surveyor                                    0.435421\n",
       "Make                                                 0.435190\n",
       "Engineer_automotive                                  0.434496\n",
       "Mechanical_engineer                                  0.434342\n",
       "Geoscientist                                         0.433416\n",
       "Counsellor                                           0.433031\n",
       "Secondary_school_teacher                             0.432568\n",
       "Land_geomatics_surveyor                              0.432182\n",
       "Firefighter                                          0.431874\n",
       "Early_years_teacher                                  0.429252\n",
       "Sales_professional_IT                                0.425473\n",
       "Pensions_consultant                                  0.424470\n",
       "Psychologist_forensic                                0.422311\n",
       "Psychotherapist_child                                0.421077\n",
       "Librarian_academic                                   0.401257\n",
       "Name: job, dtype: float64"
      ]
     },
     "execution_count": 72,
     "metadata": {},
     "output_type": "execute_result"
    }
   ],
   "source": [
    "threshold_job = 0.4\n",
    "\n",
    "imp_job = job_values[job_values > threshold_job]\n",
    "imp_job"
   ]
  },
  {
   "cell_type": "code",
   "execution_count": 73,
   "metadata": {},
   "outputs": [
    {
     "data": {
      "text/plain": [
       "49"
      ]
     },
     "execution_count": 73,
     "metadata": {},
     "output_type": "execute_result"
    }
   ],
   "source": [
    "imp_job.nunique()"
   ]
  },
  {
   "cell_type": "code",
   "execution_count": 74,
   "metadata": {},
   "outputs": [],
   "source": [
    "df['job'] = np.where(df['job'].isin(imp_job.index), df['job'], 'other')"
   ]
  },
  {
   "cell_type": "code",
   "execution_count": 75,
   "metadata": {},
   "outputs": [
    {
     "data": {
      "text/plain": [
       "52"
      ]
     },
     "execution_count": 75,
     "metadata": {},
     "output_type": "execute_result"
    }
   ],
   "source": [
    "df['job'].nunique()"
   ]
  },
  {
   "cell_type": "code",
   "execution_count": 76,
   "metadata": {},
   "outputs": [
    {
     "data": {
      "text/plain": [
       "0                    other\n",
       "1                    other\n",
       "2                    other\n",
       "3                    other\n",
       "4                    other\n",
       "                ...       \n",
       "1296670       Geoscientist\n",
       "1296671              other\n",
       "1296672    Naval_architect\n",
       "1296673              other\n",
       "1296674              other\n",
       "Name: job, Length: 1296675, dtype: object"
      ]
     },
     "execution_count": 76,
     "metadata": {},
     "output_type": "execute_result"
    }
   ],
   "source": [
    "# apply other using lambda\n",
    "df['job'].apply(lambda x: 'other' if x not in imp_job.index else x)"
   ]
  },
  {
   "cell_type": "code",
   "execution_count": 77,
   "metadata": {},
   "outputs": [
    {
     "data": {
      "text/plain": [
       "other                                                965262\n",
       "Film_video_editor                                      9779\n",
       "Exhibition_designer                                    9199\n",
       "Naval_architect                                        8684\n",
       "Surveyor_land_geomatics                                8680\n",
       "Materials_engineer                                     8270\n",
       "Designer_ceramics_pottery                              8225\n",
       "Systems_developer                                      7700\n",
       "IT_trainer                                             7679\n",
       "Financial_adviser                                      7659\n",
       "Environmental_consultant                               7547\n",
       "Chartered_public_finance_accountant                    7210\n",
       "Scientist_audiological                                 7174\n",
       "Chief_Executive_Officer                                7172\n",
       "Copywriter_advertising                                 7146\n",
       "Comptroller                                            6730\n",
       "Sub                                                    6701\n",
       "Podiatrist                                             6653\n",
       "Agricultural_consultant                                6642\n",
       "Paramedic                                              6635\n",
       "Magazine_features_editor                               6602\n",
       "Historic_buildings_inspector_conservation_officer      6205\n",
       "Librarian_public                                       6186\n",
       "Building_surveyor                                      6178\n",
       "Musician                                               6178\n",
       "Water_engineer                                         6164\n",
       "Scientist_research_(maths)                             6159\n",
       "Mining_engineer                                        6151\n",
       "Barrister                                              6127\n",
       "Audiological_scientist                                 6118\n",
       "Immunologist                                           6085\n",
       "Clothing_textile_technologist                          6049\n",
       "Prison_officer                                         5701\n",
       "Financial_trader                                       5693\n",
       "Claims_inspector_assessor                              5668\n",
       "Energy_engineer                                        5668\n",
       "Petroleum_engineer                                     5667\n",
       "Quantity_surveyor                                      5646\n",
       "Make                                                   5643\n",
       "Engineer_automotive                                    5634\n",
       "Mechanical_engineer                                    5632\n",
       "Geoscientist                                           5620\n",
       "Counsellor                                             5615\n",
       "Secondary_school_teacher                               5609\n",
       "Land_geomatics_surveyor                                5604\n",
       "Firefighter                                            5600\n",
       "Early_years_teacher                                    5566\n",
       "Sales_professional_IT                                  5517\n",
       "Pensions_consultant                                    5504\n",
       "Psychologist_forensic                                  5476\n",
       "Psychotherapist_child                                  5460\n",
       "Librarian_academic                                     5203\n",
       "Name: job, dtype: int64"
      ]
     },
     "execution_count": 77,
     "metadata": {},
     "output_type": "execute_result"
    }
   ],
   "source": [
    "df['job'].value_counts()"
   ]
  },
  {
   "cell_type": "code",
   "execution_count": 78,
   "metadata": {},
   "outputs": [
    {
     "data": {
      "text/html": [
       "<div>\n",
       "<style scoped>\n",
       "    .dataframe tbody tr th:only-of-type {\n",
       "        vertical-align: middle;\n",
       "    }\n",
       "\n",
       "    .dataframe tbody tr th {\n",
       "        vertical-align: top;\n",
       "    }\n",
       "\n",
       "    .dataframe thead th {\n",
       "        text-align: right;\n",
       "    }\n",
       "</style>\n",
       "<table border=\"1\" class=\"dataframe\">\n",
       "  <thead>\n",
       "    <tr style=\"text-align: right;\">\n",
       "      <th></th>\n",
       "      <th>trans_date_trans_time</th>\n",
       "      <th>merchant</th>\n",
       "      <th>category</th>\n",
       "      <th>amt</th>\n",
       "      <th>first</th>\n",
       "      <th>last</th>\n",
       "      <th>is_male</th>\n",
       "      <th>city</th>\n",
       "      <th>city_pop</th>\n",
       "      <th>job</th>\n",
       "      <th>dob</th>\n",
       "      <th>is_fraud</th>\n",
       "      <th>new_category</th>\n",
       "      <th>category_pos</th>\n",
       "      <th>category_net</th>\n",
       "      <th>age</th>\n",
       "    </tr>\n",
       "  </thead>\n",
       "  <tbody>\n",
       "    <tr>\n",
       "      <th>0</th>\n",
       "      <td>2019-01-01 00:00:18</td>\n",
       "      <td>other</td>\n",
       "      <td>misc_net</td>\n",
       "      <td>4.97</td>\n",
       "      <td>Jennifer</td>\n",
       "      <td>other</td>\n",
       "      <td>0</td>\n",
       "      <td>other</td>\n",
       "      <td>3495</td>\n",
       "      <td>other</td>\n",
       "      <td>1988-03-09</td>\n",
       "      <td>0</td>\n",
       "      <td>misc</td>\n",
       "      <td>0</td>\n",
       "      <td>1</td>\n",
       "      <td>33</td>\n",
       "    </tr>\n",
       "    <tr>\n",
       "      <th>1</th>\n",
       "      <td>2019-01-01 00:00:44</td>\n",
       "      <td>other</td>\n",
       "      <td>grocery_pos</td>\n",
       "      <td>107.23</td>\n",
       "      <td>Stephanie</td>\n",
       "      <td>other</td>\n",
       "      <td>0</td>\n",
       "      <td>Orient</td>\n",
       "      <td>149</td>\n",
       "      <td>other</td>\n",
       "      <td>1978-06-21</td>\n",
       "      <td>0</td>\n",
       "      <td>grocery</td>\n",
       "      <td>1</td>\n",
       "      <td>0</td>\n",
       "      <td>43</td>\n",
       "    </tr>\n",
       "  </tbody>\n",
       "</table>\n",
       "</div>"
      ],
      "text/plain": [
       "  trans_date_trans_time merchant     category     amt      first   last  \\\n",
       "0   2019-01-01 00:00:18    other     misc_net    4.97   Jennifer  other   \n",
       "1   2019-01-01 00:00:44    other  grocery_pos  107.23  Stephanie  other   \n",
       "\n",
       "   is_male    city  city_pop    job         dob  is_fraud new_category  \\\n",
       "0        0   other      3495  other  1988-03-09         0         misc   \n",
       "1        0  Orient       149  other  1978-06-21         0      grocery   \n",
       "\n",
       "   category_pos  category_net  age  \n",
       "0             0             1   33  \n",
       "1             1             0   43  "
      ]
     },
     "execution_count": 78,
     "metadata": {},
     "output_type": "execute_result"
    }
   ],
   "source": [
    "df.head(2)"
   ]
  },
  {
   "cell_type": "markdown",
   "metadata": {},
   "source": [
    "### Feature Engineering of date & time column"
   ]
  },
  {
   "cell_type": "code",
   "execution_count": 79,
   "metadata": {},
   "outputs": [
    {
     "data": {
      "text/plain": [
       "0          2019-01-01\n",
       "1          2019-01-01\n",
       "2          2019-01-01\n",
       "3          2019-01-01\n",
       "4          2019-01-01\n",
       "              ...    \n",
       "1296670    2020-06-21\n",
       "1296671    2020-06-21\n",
       "1296672    2020-06-21\n",
       "1296673    2020-06-21\n",
       "1296674    2020-06-21\n",
       "Name: 0, Length: 1296675, dtype: object"
      ]
     },
     "execution_count": 79,
     "metadata": {},
     "output_type": "execute_result"
    }
   ],
   "source": [
    "date = df['trans_date_trans_time'].str.split(' ', expand=True)[0]\n",
    "date"
   ]
  },
  {
   "cell_type": "code",
   "execution_count": 80,
   "metadata": {},
   "outputs": [
    {
     "data": {
      "text/plain": [
       "0          00:00:18\n",
       "1          00:00:44\n",
       "2          00:00:51\n",
       "3          00:01:16\n",
       "4          00:03:06\n",
       "             ...   \n",
       "1296670    12:12:08\n",
       "1296671    12:12:19\n",
       "1296672    12:12:32\n",
       "1296673    12:13:36\n",
       "1296674    12:13:37\n",
       "Name: 1, Length: 1296675, dtype: object"
      ]
     },
     "execution_count": 80,
     "metadata": {},
     "output_type": "execute_result"
    }
   ],
   "source": [
    "time = df['trans_date_trans_time'].str.split(' ', expand=True)[1]\n",
    "time"
   ]
  },
  {
   "cell_type": "code",
   "execution_count": 81,
   "metadata": {},
   "outputs": [
    {
     "data": {
      "text/plain": [
       "0           0\n",
       "1           0\n",
       "2           0\n",
       "3           0\n",
       "4           0\n",
       "           ..\n",
       "1296670    12\n",
       "1296671    12\n",
       "1296672    12\n",
       "1296673    12\n",
       "1296674    12\n",
       "Name: trans_hour, Length: 1296675, dtype: int64"
      ]
     },
     "execution_count": 81,
     "metadata": {},
     "output_type": "execute_result"
    }
   ],
   "source": [
    "df['trans_hour'] = time.str.split(':', expand=True)[0].astype('int')\n",
    "df['trans_hour']"
   ]
  },
  {
   "cell_type": "code",
   "execution_count": 82,
   "metadata": {},
   "outputs": [
    {
     "data": {
      "text/plain": [
       "23    67104\n",
       "22    66982\n",
       "18    66051\n",
       "16    65726\n",
       "21    65533\n",
       "19    65508\n",
       "17    65450\n",
       "15    65391\n",
       "13    65314\n",
       "12    65257\n",
       "20    65098\n",
       "14    64885\n",
       "1     42869\n",
       "3     42769\n",
       "2     42656\n",
       "8     42505\n",
       "0     42502\n",
       "6     42300\n",
       "10    42271\n",
       "7     42203\n",
       "9     42185\n",
       "5     42171\n",
       "11    42082\n",
       "4     41863\n",
       "Name: trans_hour, dtype: int64"
      ]
     },
     "execution_count": 82,
     "metadata": {},
     "output_type": "execute_result"
    }
   ],
   "source": [
    "df['trans_hour'].value_counts()"
   ]
  },
  {
   "cell_type": "code",
   "execution_count": 83,
   "metadata": {},
   "outputs": [
    {
     "data": {
      "text/plain": [
       "0    788299\n",
       "1    508376\n",
       "Name: trans_is_AM, dtype: int64"
      ]
     },
     "execution_count": 83,
     "metadata": {},
     "output_type": "execute_result"
    }
   ],
   "source": [
    "df['trans_is_AM'] = np.where(df['trans_hour'] < 12, 1, 0)\n",
    "df['trans_is_AM'].value_counts()"
   ]
  },
  {
   "cell_type": "code",
   "execution_count": 84,
   "metadata": {},
   "outputs": [
    {
     "data": {
      "text/plain": [
       "0          2019\n",
       "1          2019\n",
       "2          2019\n",
       "3          2019\n",
       "4          2019\n",
       "           ... \n",
       "1296670    2020\n",
       "1296671    2020\n",
       "1296672    2020\n",
       "1296673    2020\n",
       "1296674    2020\n",
       "Name: trans_year, Length: 1296675, dtype: int64"
      ]
     },
     "execution_count": 84,
     "metadata": {},
     "output_type": "execute_result"
    }
   ],
   "source": [
    "df['trans_year'] = date.str.split('-', expand=True)[0].astype('int')\n",
    "df['trans_year']"
   ]
  },
  {
   "cell_type": "code",
   "execution_count": 85,
   "metadata": {},
   "outputs": [
    {
     "data": {
      "text/plain": [
       "2019    924850\n",
       "2020    371825\n",
       "Name: trans_year, dtype: int64"
      ]
     },
     "execution_count": 85,
     "metadata": {},
     "output_type": "execute_result"
    }
   ],
   "source": [
    "df['trans_year'].value_counts()"
   ]
  },
  {
   "cell_type": "code",
   "execution_count": 86,
   "metadata": {},
   "outputs": [],
   "source": [
    "df['trans_month'] = date.str.split('-', expand=True)[1].astype('int')"
   ]
  },
  {
   "cell_type": "code",
   "execution_count": 87,
   "metadata": {},
   "outputs": [
    {
     "data": {
      "text/plain": [
       "5     146875\n",
       "6     143811\n",
       "3     143789\n",
       "12    141060\n",
       "4     134970\n",
       "1     104727\n",
       "2      97657\n",
       "8      87359\n",
       "7      86596\n",
       "9      70652\n",
       "11     70421\n",
       "10     68758\n",
       "Name: trans_month, dtype: int64"
      ]
     },
     "execution_count": 87,
     "metadata": {},
     "output_type": "execute_result"
    }
   ],
   "source": [
    "df['trans_month'].value_counts()"
   ]
  },
  {
   "cell_type": "code",
   "execution_count": 88,
   "metadata": {},
   "outputs": [],
   "source": [
    "df['trans_day'] = date.str.split('-', expand=True)[2].astype('int')"
   ]
  },
  {
   "cell_type": "code",
   "execution_count": 89,
   "metadata": {},
   "outputs": [
    {
     "data": {
      "text/plain": [
       "1     47089\n",
       "15    46213\n",
       "8     46201\n",
       "16    44894\n",
       "2     44748\n",
       "9     44685\n",
       "7     44239\n",
       "14    44015\n",
       "28    43470\n",
       "17    42272\n",
       "22    42061\n",
       "12    42001\n",
       "10    41934\n",
       "21    41930\n",
       "5     41886\n",
       "3     41842\n",
       "4     41479\n",
       "19    41466\n",
       "11    41423\n",
       "6     41420\n",
       "24    41360\n",
       "20    41188\n",
       "13    41096\n",
       "30    41019\n",
       "18    40861\n",
       "23    40815\n",
       "26    40692\n",
       "25    40374\n",
       "27    39684\n",
       "29    39617\n",
       "31    24701\n",
       "Name: trans_day, dtype: int64"
      ]
     },
     "execution_count": 89,
     "metadata": {},
     "output_type": "execute_result"
    }
   ],
   "source": [
    "df['trans_day'].value_counts()"
   ]
  },
  {
   "cell_type": "code",
   "execution_count": 90,
   "metadata": {},
   "outputs": [
    {
     "data": {
      "text/html": [
       "<div>\n",
       "<style scoped>\n",
       "    .dataframe tbody tr th:only-of-type {\n",
       "        vertical-align: middle;\n",
       "    }\n",
       "\n",
       "    .dataframe tbody tr th {\n",
       "        vertical-align: top;\n",
       "    }\n",
       "\n",
       "    .dataframe thead th {\n",
       "        text-align: right;\n",
       "    }\n",
       "</style>\n",
       "<table border=\"1\" class=\"dataframe\">\n",
       "  <thead>\n",
       "    <tr style=\"text-align: right;\">\n",
       "      <th></th>\n",
       "      <th>trans_date_trans_time</th>\n",
       "      <th>merchant</th>\n",
       "      <th>category</th>\n",
       "      <th>amt</th>\n",
       "      <th>first</th>\n",
       "      <th>last</th>\n",
       "      <th>is_male</th>\n",
       "      <th>city</th>\n",
       "      <th>city_pop</th>\n",
       "      <th>job</th>\n",
       "      <th>...</th>\n",
       "      <th>is_fraud</th>\n",
       "      <th>new_category</th>\n",
       "      <th>category_pos</th>\n",
       "      <th>category_net</th>\n",
       "      <th>age</th>\n",
       "      <th>trans_hour</th>\n",
       "      <th>trans_is_AM</th>\n",
       "      <th>trans_year</th>\n",
       "      <th>trans_month</th>\n",
       "      <th>trans_day</th>\n",
       "    </tr>\n",
       "  </thead>\n",
       "  <tbody>\n",
       "    <tr>\n",
       "      <th>0</th>\n",
       "      <td>2019-01-01 00:00:18</td>\n",
       "      <td>other</td>\n",
       "      <td>misc_net</td>\n",
       "      <td>4.97</td>\n",
       "      <td>Jennifer</td>\n",
       "      <td>other</td>\n",
       "      <td>0</td>\n",
       "      <td>other</td>\n",
       "      <td>3495</td>\n",
       "      <td>other</td>\n",
       "      <td>...</td>\n",
       "      <td>0</td>\n",
       "      <td>misc</td>\n",
       "      <td>0</td>\n",
       "      <td>1</td>\n",
       "      <td>33</td>\n",
       "      <td>0</td>\n",
       "      <td>1</td>\n",
       "      <td>2019</td>\n",
       "      <td>1</td>\n",
       "      <td>1</td>\n",
       "    </tr>\n",
       "    <tr>\n",
       "      <th>1</th>\n",
       "      <td>2019-01-01 00:00:44</td>\n",
       "      <td>other</td>\n",
       "      <td>grocery_pos</td>\n",
       "      <td>107.23</td>\n",
       "      <td>Stephanie</td>\n",
       "      <td>other</td>\n",
       "      <td>0</td>\n",
       "      <td>Orient</td>\n",
       "      <td>149</td>\n",
       "      <td>other</td>\n",
       "      <td>...</td>\n",
       "      <td>0</td>\n",
       "      <td>grocery</td>\n",
       "      <td>1</td>\n",
       "      <td>0</td>\n",
       "      <td>43</td>\n",
       "      <td>0</td>\n",
       "      <td>1</td>\n",
       "      <td>2019</td>\n",
       "      <td>1</td>\n",
       "      <td>1</td>\n",
       "    </tr>\n",
       "    <tr>\n",
       "      <th>2</th>\n",
       "      <td>2019-01-01 00:00:51</td>\n",
       "      <td>other</td>\n",
       "      <td>entertainment</td>\n",
       "      <td>220.11</td>\n",
       "      <td>other</td>\n",
       "      <td>Sanchez</td>\n",
       "      <td>1</td>\n",
       "      <td>other</td>\n",
       "      <td>4154</td>\n",
       "      <td>other</td>\n",
       "      <td>...</td>\n",
       "      <td>0</td>\n",
       "      <td>entertainment</td>\n",
       "      <td>0</td>\n",
       "      <td>0</td>\n",
       "      <td>59</td>\n",
       "      <td>0</td>\n",
       "      <td>1</td>\n",
       "      <td>2019</td>\n",
       "      <td>1</td>\n",
       "      <td>1</td>\n",
       "    </tr>\n",
       "    <tr>\n",
       "      <th>3</th>\n",
       "      <td>2019-01-01 00:01:16</td>\n",
       "      <td>Kutch_Hermiston_and_Farrell</td>\n",
       "      <td>gas_transport</td>\n",
       "      <td>45.00</td>\n",
       "      <td>Jeremy</td>\n",
       "      <td>White</td>\n",
       "      <td>1</td>\n",
       "      <td>other</td>\n",
       "      <td>1939</td>\n",
       "      <td>other</td>\n",
       "      <td>...</td>\n",
       "      <td>0</td>\n",
       "      <td>gas_transport</td>\n",
       "      <td>0</td>\n",
       "      <td>0</td>\n",
       "      <td>54</td>\n",
       "      <td>0</td>\n",
       "      <td>1</td>\n",
       "      <td>2019</td>\n",
       "      <td>1</td>\n",
       "      <td>1</td>\n",
       "    </tr>\n",
       "    <tr>\n",
       "      <th>4</th>\n",
       "      <td>2019-01-01 00:03:06</td>\n",
       "      <td>other</td>\n",
       "      <td>misc_pos</td>\n",
       "      <td>41.96</td>\n",
       "      <td>Tyler</td>\n",
       "      <td>Garcia</td>\n",
       "      <td>1</td>\n",
       "      <td>other</td>\n",
       "      <td>99</td>\n",
       "      <td>other</td>\n",
       "      <td>...</td>\n",
       "      <td>0</td>\n",
       "      <td>misc</td>\n",
       "      <td>1</td>\n",
       "      <td>0</td>\n",
       "      <td>35</td>\n",
       "      <td>0</td>\n",
       "      <td>1</td>\n",
       "      <td>2019</td>\n",
       "      <td>1</td>\n",
       "      <td>1</td>\n",
       "    </tr>\n",
       "  </tbody>\n",
       "</table>\n",
       "<p>5 rows × 21 columns</p>\n",
       "</div>"
      ],
      "text/plain": [
       "  trans_date_trans_time                     merchant       category     amt  \\\n",
       "0   2019-01-01 00:00:18                        other       misc_net    4.97   \n",
       "1   2019-01-01 00:00:44                        other    grocery_pos  107.23   \n",
       "2   2019-01-01 00:00:51                        other  entertainment  220.11   \n",
       "3   2019-01-01 00:01:16  Kutch_Hermiston_and_Farrell  gas_transport   45.00   \n",
       "4   2019-01-01 00:03:06                        other       misc_pos   41.96   \n",
       "\n",
       "       first     last  is_male    city  city_pop    job  ... is_fraud  \\\n",
       "0   Jennifer    other        0   other      3495  other  ...        0   \n",
       "1  Stephanie    other        0  Orient       149  other  ...        0   \n",
       "2      other  Sanchez        1   other      4154  other  ...        0   \n",
       "3     Jeremy    White        1   other      1939  other  ...        0   \n",
       "4      Tyler   Garcia        1   other        99  other  ...        0   \n",
       "\n",
       "    new_category category_pos  category_net  age  trans_hour  trans_is_AM  \\\n",
       "0           misc            0             1   33           0            1   \n",
       "1        grocery            1             0   43           0            1   \n",
       "2  entertainment            0             0   59           0            1   \n",
       "3  gas_transport            0             0   54           0            1   \n",
       "4           misc            1             0   35           0            1   \n",
       "\n",
       "   trans_year  trans_month  trans_day  \n",
       "0        2019            1          1  \n",
       "1        2019            1          1  \n",
       "2        2019            1          1  \n",
       "3        2019            1          1  \n",
       "4        2019            1          1  \n",
       "\n",
       "[5 rows x 21 columns]"
      ]
     },
     "execution_count": 90,
     "metadata": {},
     "output_type": "execute_result"
    }
   ],
   "source": [
    "df.head()"
   ]
  },
  {
   "cell_type": "code",
   "execution_count": 91,
   "metadata": {},
   "outputs": [],
   "source": [
    "df.drop(['trans_date_trans_time', 'dob'], axis = 1, inplace = True)"
   ]
  },
  {
   "cell_type": "code",
   "execution_count": 92,
   "metadata": {},
   "outputs": [
    {
     "data": {
      "text/plain": [
       "merchant         object\n",
       "category         object\n",
       "amt             float64\n",
       "first            object\n",
       "last             object\n",
       "is_male           int64\n",
       "city             object\n",
       "city_pop          int64\n",
       "job              object\n",
       "is_fraud          int64\n",
       "new_category     object\n",
       "category_pos      int64\n",
       "category_net      int64\n",
       "age               int64\n",
       "trans_hour        int64\n",
       "trans_is_AM       int64\n",
       "trans_year        int64\n",
       "trans_month       int64\n",
       "trans_day         int64\n",
       "dtype: object"
      ]
     },
     "execution_count": 92,
     "metadata": {},
     "output_type": "execute_result"
    }
   ],
   "source": [
    "df.dtypes"
   ]
  },
  {
   "cell_type": "markdown",
   "metadata": {},
   "source": [
    "### One hot encoding:"
   ]
  },
  {
   "cell_type": "code",
   "execution_count": 93,
   "metadata": {},
   "outputs": [],
   "source": [
    "cat_features = [col for col in df.columns if df[col].dtype == 'object']"
   ]
  },
  {
   "cell_type": "code",
   "execution_count": 94,
   "metadata": {},
   "outputs": [
    {
     "data": {
      "text/plain": [
       "['merchant', 'category', 'first', 'last', 'city', 'job', 'new_category']"
      ]
     },
     "execution_count": 94,
     "metadata": {},
     "output_type": "execute_result"
    }
   ],
   "source": [
    "cat_features"
   ]
  },
  {
   "cell_type": "code",
   "execution_count": 95,
   "metadata": {},
   "outputs": [
    {
     "name": "stdout",
     "output_type": "stream",
     "text": [
      "merchant has total 44 unique features\n",
      "category has total 14 unique features\n",
      "first has total 56 unique features\n",
      "last has total 41 unique features\n",
      "city has total 89 unique features\n",
      "job has total 52 unique features\n",
      "new_category has total 11 unique features\n"
     ]
    }
   ],
   "source": [
    "for feature in cat_features:\n",
    "    print(f'{feature} has total {df[feature].nunique()} unique features')"
   ]
  },
  {
   "cell_type": "code",
   "execution_count": 96,
   "metadata": {},
   "outputs": [
    {
     "data": {
      "text/html": [
       "<div>\n",
       "<style scoped>\n",
       "    .dataframe tbody tr th:only-of-type {\n",
       "        vertical-align: middle;\n",
       "    }\n",
       "\n",
       "    .dataframe tbody tr th {\n",
       "        vertical-align: top;\n",
       "    }\n",
       "\n",
       "    .dataframe thead th {\n",
       "        text-align: right;\n",
       "    }\n",
       "</style>\n",
       "<table border=\"1\" class=\"dataframe\">\n",
       "  <thead>\n",
       "    <tr style=\"text-align: right;\">\n",
       "      <th></th>\n",
       "      <th>merchant</th>\n",
       "      <th>category</th>\n",
       "      <th>first</th>\n",
       "      <th>last</th>\n",
       "      <th>city</th>\n",
       "      <th>job</th>\n",
       "      <th>new_category</th>\n",
       "    </tr>\n",
       "  </thead>\n",
       "  <tbody>\n",
       "    <tr>\n",
       "      <th>0</th>\n",
       "      <td>other</td>\n",
       "      <td>misc_net</td>\n",
       "      <td>Jennifer</td>\n",
       "      <td>other</td>\n",
       "      <td>other</td>\n",
       "      <td>other</td>\n",
       "      <td>misc</td>\n",
       "    </tr>\n",
       "    <tr>\n",
       "      <th>1</th>\n",
       "      <td>other</td>\n",
       "      <td>grocery_pos</td>\n",
       "      <td>Stephanie</td>\n",
       "      <td>other</td>\n",
       "      <td>Orient</td>\n",
       "      <td>other</td>\n",
       "      <td>grocery</td>\n",
       "    </tr>\n",
       "    <tr>\n",
       "      <th>2</th>\n",
       "      <td>other</td>\n",
       "      <td>entertainment</td>\n",
       "      <td>other</td>\n",
       "      <td>Sanchez</td>\n",
       "      <td>other</td>\n",
       "      <td>other</td>\n",
       "      <td>entertainment</td>\n",
       "    </tr>\n",
       "    <tr>\n",
       "      <th>3</th>\n",
       "      <td>Kutch_Hermiston_and_Farrell</td>\n",
       "      <td>gas_transport</td>\n",
       "      <td>Jeremy</td>\n",
       "      <td>White</td>\n",
       "      <td>other</td>\n",
       "      <td>other</td>\n",
       "      <td>gas_transport</td>\n",
       "    </tr>\n",
       "    <tr>\n",
       "      <th>4</th>\n",
       "      <td>other</td>\n",
       "      <td>misc_pos</td>\n",
       "      <td>Tyler</td>\n",
       "      <td>Garcia</td>\n",
       "      <td>other</td>\n",
       "      <td>other</td>\n",
       "      <td>misc</td>\n",
       "    </tr>\n",
       "  </tbody>\n",
       "</table>\n",
       "</div>"
      ],
      "text/plain": [
       "                      merchant       category      first     last    city  \\\n",
       "0                        other       misc_net   Jennifer    other   other   \n",
       "1                        other    grocery_pos  Stephanie    other  Orient   \n",
       "2                        other  entertainment      other  Sanchez   other   \n",
       "3  Kutch_Hermiston_and_Farrell  gas_transport     Jeremy    White   other   \n",
       "4                        other       misc_pos      Tyler   Garcia   other   \n",
       "\n",
       "     job   new_category  \n",
       "0  other           misc  \n",
       "1  other        grocery  \n",
       "2  other  entertainment  \n",
       "3  other  gas_transport  \n",
       "4  other           misc  "
      ]
     },
     "execution_count": 96,
     "metadata": {},
     "output_type": "execute_result"
    }
   ],
   "source": [
    "df[cat_features].head()"
   ]
  },
  {
   "cell_type": "code",
   "execution_count": 97,
   "metadata": {},
   "outputs": [],
   "source": [
    "data_cat = df[cat_features]"
   ]
  },
  {
   "cell_type": "code",
   "execution_count": 98,
   "metadata": {},
   "outputs": [],
   "source": [
    "for col in cat_features:\n",
    "    col_encoded = pd.get_dummies(df[col], prefix=col, drop_first=True)\n",
    "    data_cat = pd.concat([data_cat, col_encoded], axis = 1)\n",
    "    data_cat.drop(col, axis = 1, inplace = True)"
   ]
  },
  {
   "cell_type": "code",
   "execution_count": 99,
   "metadata": {},
   "outputs": [
    {
     "data": {
      "text/plain": [
       "(1296675, 300)"
      ]
     },
     "execution_count": 99,
     "metadata": {},
     "output_type": "execute_result"
    }
   ],
   "source": [
    "data_cat.shape"
   ]
  },
  {
   "cell_type": "code",
   "execution_count": 100,
   "metadata": {},
   "outputs": [
    {
     "data": {
      "text/html": [
       "<div>\n",
       "<style scoped>\n",
       "    .dataframe tbody tr th:only-of-type {\n",
       "        vertical-align: middle;\n",
       "    }\n",
       "\n",
       "    .dataframe tbody tr th {\n",
       "        vertical-align: top;\n",
       "    }\n",
       "\n",
       "    .dataframe thead th {\n",
       "        text-align: right;\n",
       "    }\n",
       "</style>\n",
       "<table border=\"1\" class=\"dataframe\">\n",
       "  <thead>\n",
       "    <tr style=\"text-align: right;\">\n",
       "      <th></th>\n",
       "      <th>merchant_Berge_LLC</th>\n",
       "      <th>merchant_Bernhard_Inc</th>\n",
       "      <th>merchant_Bins-Rice</th>\n",
       "      <th>merchant_Boyer_PLC</th>\n",
       "      <th>merchant_Brekke_and_Sons</th>\n",
       "      <th>merchant_Christiansen_Goyette_and_Schamberger</th>\n",
       "      <th>merchant_Connelly_Reichert_and_Fritsch</th>\n",
       "      <th>merchant_Conroy-Cruickshank</th>\n",
       "      <th>merchant_Cormier_LLC</th>\n",
       "      <th>merchant_Corwin-Collins</th>\n",
       "      <th>...</th>\n",
       "      <th>new_category_food_dining</th>\n",
       "      <th>new_category_gas_transport</th>\n",
       "      <th>new_category_grocery</th>\n",
       "      <th>new_category_health_fitness</th>\n",
       "      <th>new_category_home</th>\n",
       "      <th>new_category_kids_pets</th>\n",
       "      <th>new_category_misc</th>\n",
       "      <th>new_category_personal_care</th>\n",
       "      <th>new_category_shopping</th>\n",
       "      <th>new_category_travel</th>\n",
       "    </tr>\n",
       "  </thead>\n",
       "  <tbody>\n",
       "    <tr>\n",
       "      <th>0</th>\n",
       "      <td>0</td>\n",
       "      <td>0</td>\n",
       "      <td>0</td>\n",
       "      <td>0</td>\n",
       "      <td>0</td>\n",
       "      <td>0</td>\n",
       "      <td>0</td>\n",
       "      <td>0</td>\n",
       "      <td>0</td>\n",
       "      <td>0</td>\n",
       "      <td>...</td>\n",
       "      <td>0</td>\n",
       "      <td>0</td>\n",
       "      <td>0</td>\n",
       "      <td>0</td>\n",
       "      <td>0</td>\n",
       "      <td>0</td>\n",
       "      <td>1</td>\n",
       "      <td>0</td>\n",
       "      <td>0</td>\n",
       "      <td>0</td>\n",
       "    </tr>\n",
       "    <tr>\n",
       "      <th>1</th>\n",
       "      <td>0</td>\n",
       "      <td>0</td>\n",
       "      <td>0</td>\n",
       "      <td>0</td>\n",
       "      <td>0</td>\n",
       "      <td>0</td>\n",
       "      <td>0</td>\n",
       "      <td>0</td>\n",
       "      <td>0</td>\n",
       "      <td>0</td>\n",
       "      <td>...</td>\n",
       "      <td>0</td>\n",
       "      <td>0</td>\n",
       "      <td>1</td>\n",
       "      <td>0</td>\n",
       "      <td>0</td>\n",
       "      <td>0</td>\n",
       "      <td>0</td>\n",
       "      <td>0</td>\n",
       "      <td>0</td>\n",
       "      <td>0</td>\n",
       "    </tr>\n",
       "    <tr>\n",
       "      <th>2</th>\n",
       "      <td>0</td>\n",
       "      <td>0</td>\n",
       "      <td>0</td>\n",
       "      <td>0</td>\n",
       "      <td>0</td>\n",
       "      <td>0</td>\n",
       "      <td>0</td>\n",
       "      <td>0</td>\n",
       "      <td>0</td>\n",
       "      <td>0</td>\n",
       "      <td>...</td>\n",
       "      <td>0</td>\n",
       "      <td>0</td>\n",
       "      <td>0</td>\n",
       "      <td>0</td>\n",
       "      <td>0</td>\n",
       "      <td>0</td>\n",
       "      <td>0</td>\n",
       "      <td>0</td>\n",
       "      <td>0</td>\n",
       "      <td>0</td>\n",
       "    </tr>\n",
       "    <tr>\n",
       "      <th>3</th>\n",
       "      <td>0</td>\n",
       "      <td>0</td>\n",
       "      <td>0</td>\n",
       "      <td>0</td>\n",
       "      <td>0</td>\n",
       "      <td>0</td>\n",
       "      <td>0</td>\n",
       "      <td>0</td>\n",
       "      <td>0</td>\n",
       "      <td>0</td>\n",
       "      <td>...</td>\n",
       "      <td>0</td>\n",
       "      <td>1</td>\n",
       "      <td>0</td>\n",
       "      <td>0</td>\n",
       "      <td>0</td>\n",
       "      <td>0</td>\n",
       "      <td>0</td>\n",
       "      <td>0</td>\n",
       "      <td>0</td>\n",
       "      <td>0</td>\n",
       "    </tr>\n",
       "    <tr>\n",
       "      <th>4</th>\n",
       "      <td>0</td>\n",
       "      <td>0</td>\n",
       "      <td>0</td>\n",
       "      <td>0</td>\n",
       "      <td>0</td>\n",
       "      <td>0</td>\n",
       "      <td>0</td>\n",
       "      <td>0</td>\n",
       "      <td>0</td>\n",
       "      <td>0</td>\n",
       "      <td>...</td>\n",
       "      <td>0</td>\n",
       "      <td>0</td>\n",
       "      <td>0</td>\n",
       "      <td>0</td>\n",
       "      <td>0</td>\n",
       "      <td>0</td>\n",
       "      <td>1</td>\n",
       "      <td>0</td>\n",
       "      <td>0</td>\n",
       "      <td>0</td>\n",
       "    </tr>\n",
       "  </tbody>\n",
       "</table>\n",
       "<p>5 rows × 300 columns</p>\n",
       "</div>"
      ],
      "text/plain": [
       "   merchant_Berge_LLC  merchant_Bernhard_Inc  merchant_Bins-Rice  \\\n",
       "0                   0                      0                   0   \n",
       "1                   0                      0                   0   \n",
       "2                   0                      0                   0   \n",
       "3                   0                      0                   0   \n",
       "4                   0                      0                   0   \n",
       "\n",
       "   merchant_Boyer_PLC  merchant_Brekke_and_Sons  \\\n",
       "0                   0                         0   \n",
       "1                   0                         0   \n",
       "2                   0                         0   \n",
       "3                   0                         0   \n",
       "4                   0                         0   \n",
       "\n",
       "   merchant_Christiansen_Goyette_and_Schamberger  \\\n",
       "0                                              0   \n",
       "1                                              0   \n",
       "2                                              0   \n",
       "3                                              0   \n",
       "4                                              0   \n",
       "\n",
       "   merchant_Connelly_Reichert_and_Fritsch  merchant_Conroy-Cruickshank  \\\n",
       "0                                       0                            0   \n",
       "1                                       0                            0   \n",
       "2                                       0                            0   \n",
       "3                                       0                            0   \n",
       "4                                       0                            0   \n",
       "\n",
       "   merchant_Cormier_LLC  merchant_Corwin-Collins  ...  \\\n",
       "0                     0                        0  ...   \n",
       "1                     0                        0  ...   \n",
       "2                     0                        0  ...   \n",
       "3                     0                        0  ...   \n",
       "4                     0                        0  ...   \n",
       "\n",
       "   new_category_food_dining  new_category_gas_transport  new_category_grocery  \\\n",
       "0                         0                           0                     0   \n",
       "1                         0                           0                     1   \n",
       "2                         0                           0                     0   \n",
       "3                         0                           1                     0   \n",
       "4                         0                           0                     0   \n",
       "\n",
       "   new_category_health_fitness  new_category_home  new_category_kids_pets  \\\n",
       "0                            0                  0                       0   \n",
       "1                            0                  0                       0   \n",
       "2                            0                  0                       0   \n",
       "3                            0                  0                       0   \n",
       "4                            0                  0                       0   \n",
       "\n",
       "   new_category_misc  new_category_personal_care  new_category_shopping  \\\n",
       "0                  1                           0                      0   \n",
       "1                  0                           0                      0   \n",
       "2                  0                           0                      0   \n",
       "3                  0                           0                      0   \n",
       "4                  1                           0                      0   \n",
       "\n",
       "   new_category_travel  \n",
       "0                    0  \n",
       "1                    0  \n",
       "2                    0  \n",
       "3                    0  \n",
       "4                    0  \n",
       "\n",
       "[5 rows x 300 columns]"
      ]
     },
     "execution_count": 100,
     "metadata": {},
     "output_type": "execute_result"
    }
   ],
   "source": [
    "data_cat.head()"
   ]
  },
  {
   "cell_type": "code",
   "execution_count": 101,
   "metadata": {},
   "outputs": [],
   "source": [
    "num_features = [col for col in df.columns if df[col].dtype != 'object']"
   ]
  },
  {
   "cell_type": "code",
   "execution_count": 102,
   "metadata": {},
   "outputs": [
    {
     "data": {
      "text/plain": [
       "['amt',\n",
       " 'is_male',\n",
       " 'city_pop',\n",
       " 'is_fraud',\n",
       " 'category_pos',\n",
       " 'category_net',\n",
       " 'age',\n",
       " 'trans_hour',\n",
       " 'trans_is_AM',\n",
       " 'trans_year',\n",
       " 'trans_month',\n",
       " 'trans_day']"
      ]
     },
     "execution_count": 102,
     "metadata": {},
     "output_type": "execute_result"
    }
   ],
   "source": [
    "num_features"
   ]
  },
  {
   "cell_type": "code",
   "execution_count": 103,
   "metadata": {},
   "outputs": [],
   "source": [
    "# concat\n",
    "df_final = pd.concat([df.loc[:,num_features], data_cat], axis = 1)"
   ]
  },
  {
   "cell_type": "code",
   "execution_count": 104,
   "metadata": {},
   "outputs": [
    {
     "data": {
      "text/html": [
       "<div>\n",
       "<style scoped>\n",
       "    .dataframe tbody tr th:only-of-type {\n",
       "        vertical-align: middle;\n",
       "    }\n",
       "\n",
       "    .dataframe tbody tr th {\n",
       "        vertical-align: top;\n",
       "    }\n",
       "\n",
       "    .dataframe thead th {\n",
       "        text-align: right;\n",
       "    }\n",
       "</style>\n",
       "<table border=\"1\" class=\"dataframe\">\n",
       "  <thead>\n",
       "    <tr style=\"text-align: right;\">\n",
       "      <th></th>\n",
       "      <th>amt</th>\n",
       "      <th>is_male</th>\n",
       "      <th>city_pop</th>\n",
       "      <th>is_fraud</th>\n",
       "      <th>category_pos</th>\n",
       "      <th>category_net</th>\n",
       "      <th>age</th>\n",
       "      <th>trans_hour</th>\n",
       "      <th>trans_is_AM</th>\n",
       "      <th>trans_year</th>\n",
       "      <th>...</th>\n",
       "      <th>new_category_food_dining</th>\n",
       "      <th>new_category_gas_transport</th>\n",
       "      <th>new_category_grocery</th>\n",
       "      <th>new_category_health_fitness</th>\n",
       "      <th>new_category_home</th>\n",
       "      <th>new_category_kids_pets</th>\n",
       "      <th>new_category_misc</th>\n",
       "      <th>new_category_personal_care</th>\n",
       "      <th>new_category_shopping</th>\n",
       "      <th>new_category_travel</th>\n",
       "    </tr>\n",
       "  </thead>\n",
       "  <tbody>\n",
       "    <tr>\n",
       "      <th>0</th>\n",
       "      <td>4.97</td>\n",
       "      <td>0</td>\n",
       "      <td>3495</td>\n",
       "      <td>0</td>\n",
       "      <td>0</td>\n",
       "      <td>1</td>\n",
       "      <td>33</td>\n",
       "      <td>0</td>\n",
       "      <td>1</td>\n",
       "      <td>2019</td>\n",
       "      <td>...</td>\n",
       "      <td>0</td>\n",
       "      <td>0</td>\n",
       "      <td>0</td>\n",
       "      <td>0</td>\n",
       "      <td>0</td>\n",
       "      <td>0</td>\n",
       "      <td>1</td>\n",
       "      <td>0</td>\n",
       "      <td>0</td>\n",
       "      <td>0</td>\n",
       "    </tr>\n",
       "    <tr>\n",
       "      <th>1</th>\n",
       "      <td>107.23</td>\n",
       "      <td>0</td>\n",
       "      <td>149</td>\n",
       "      <td>0</td>\n",
       "      <td>1</td>\n",
       "      <td>0</td>\n",
       "      <td>43</td>\n",
       "      <td>0</td>\n",
       "      <td>1</td>\n",
       "      <td>2019</td>\n",
       "      <td>...</td>\n",
       "      <td>0</td>\n",
       "      <td>0</td>\n",
       "      <td>1</td>\n",
       "      <td>0</td>\n",
       "      <td>0</td>\n",
       "      <td>0</td>\n",
       "      <td>0</td>\n",
       "      <td>0</td>\n",
       "      <td>0</td>\n",
       "      <td>0</td>\n",
       "    </tr>\n",
       "    <tr>\n",
       "      <th>2</th>\n",
       "      <td>220.11</td>\n",
       "      <td>1</td>\n",
       "      <td>4154</td>\n",
       "      <td>0</td>\n",
       "      <td>0</td>\n",
       "      <td>0</td>\n",
       "      <td>59</td>\n",
       "      <td>0</td>\n",
       "      <td>1</td>\n",
       "      <td>2019</td>\n",
       "      <td>...</td>\n",
       "      <td>0</td>\n",
       "      <td>0</td>\n",
       "      <td>0</td>\n",
       "      <td>0</td>\n",
       "      <td>0</td>\n",
       "      <td>0</td>\n",
       "      <td>0</td>\n",
       "      <td>0</td>\n",
       "      <td>0</td>\n",
       "      <td>0</td>\n",
       "    </tr>\n",
       "    <tr>\n",
       "      <th>3</th>\n",
       "      <td>45.00</td>\n",
       "      <td>1</td>\n",
       "      <td>1939</td>\n",
       "      <td>0</td>\n",
       "      <td>0</td>\n",
       "      <td>0</td>\n",
       "      <td>54</td>\n",
       "      <td>0</td>\n",
       "      <td>1</td>\n",
       "      <td>2019</td>\n",
       "      <td>...</td>\n",
       "      <td>0</td>\n",
       "      <td>1</td>\n",
       "      <td>0</td>\n",
       "      <td>0</td>\n",
       "      <td>0</td>\n",
       "      <td>0</td>\n",
       "      <td>0</td>\n",
       "      <td>0</td>\n",
       "      <td>0</td>\n",
       "      <td>0</td>\n",
       "    </tr>\n",
       "    <tr>\n",
       "      <th>4</th>\n",
       "      <td>41.96</td>\n",
       "      <td>1</td>\n",
       "      <td>99</td>\n",
       "      <td>0</td>\n",
       "      <td>1</td>\n",
       "      <td>0</td>\n",
       "      <td>35</td>\n",
       "      <td>0</td>\n",
       "      <td>1</td>\n",
       "      <td>2019</td>\n",
       "      <td>...</td>\n",
       "      <td>0</td>\n",
       "      <td>0</td>\n",
       "      <td>0</td>\n",
       "      <td>0</td>\n",
       "      <td>0</td>\n",
       "      <td>0</td>\n",
       "      <td>1</td>\n",
       "      <td>0</td>\n",
       "      <td>0</td>\n",
       "      <td>0</td>\n",
       "    </tr>\n",
       "  </tbody>\n",
       "</table>\n",
       "<p>5 rows × 312 columns</p>\n",
       "</div>"
      ],
      "text/plain": [
       "      amt  is_male  city_pop  is_fraud  category_pos  category_net  age  \\\n",
       "0    4.97        0      3495         0             0             1   33   \n",
       "1  107.23        0       149         0             1             0   43   \n",
       "2  220.11        1      4154         0             0             0   59   \n",
       "3   45.00        1      1939         0             0             0   54   \n",
       "4   41.96        1        99         0             1             0   35   \n",
       "\n",
       "   trans_hour  trans_is_AM  trans_year  ...  new_category_food_dining  \\\n",
       "0           0            1        2019  ...                         0   \n",
       "1           0            1        2019  ...                         0   \n",
       "2           0            1        2019  ...                         0   \n",
       "3           0            1        2019  ...                         0   \n",
       "4           0            1        2019  ...                         0   \n",
       "\n",
       "   new_category_gas_transport  new_category_grocery  \\\n",
       "0                           0                     0   \n",
       "1                           0                     1   \n",
       "2                           0                     0   \n",
       "3                           1                     0   \n",
       "4                           0                     0   \n",
       "\n",
       "   new_category_health_fitness  new_category_home  new_category_kids_pets  \\\n",
       "0                            0                  0                       0   \n",
       "1                            0                  0                       0   \n",
       "2                            0                  0                       0   \n",
       "3                            0                  0                       0   \n",
       "4                            0                  0                       0   \n",
       "\n",
       "   new_category_misc  new_category_personal_care  new_category_shopping  \\\n",
       "0                  1                           0                      0   \n",
       "1                  0                           0                      0   \n",
       "2                  0                           0                      0   \n",
       "3                  0                           0                      0   \n",
       "4                  1                           0                      0   \n",
       "\n",
       "   new_category_travel  \n",
       "0                    0  \n",
       "1                    0  \n",
       "2                    0  \n",
       "3                    0  \n",
       "4                    0  \n",
       "\n",
       "[5 rows x 312 columns]"
      ]
     },
     "execution_count": 104,
     "metadata": {},
     "output_type": "execute_result"
    }
   ],
   "source": [
    "df_final.head()"
   ]
  },
  {
   "cell_type": "markdown",
   "metadata": {},
   "source": [
    "### Assign features to X and y"
   ]
  },
  {
   "cell_type": "code",
   "execution_count": 105,
   "metadata": {},
   "outputs": [],
   "source": [
    "X = df_final.drop('is_fraud', axis = 1)\n",
    "y = df_final['is_fraud']"
   ]
  },
  {
   "cell_type": "code",
   "execution_count": 106,
   "metadata": {},
   "outputs": [],
   "source": [
    "# split data into new train and validation\n",
    "from sklearn.model_selection import train_test_split\n",
    "X_train, X_test, y_train, y_test = train_test_split(X,\n",
    "                                                    y,\n",
    "                                                    test_size = 0.2,\n",
    "                                                    random_state=42, stratify = y)"
   ]
  },
  {
   "cell_type": "markdown",
   "metadata": {},
   "source": [
    "### Models"
   ]
  },
  {
   "cell_type": "code",
   "execution_count": null,
   "metadata": {},
   "outputs": [],
   "source": [
    "from sklearn.ensemble import RandomForestClassifier\n",
    "from sklearn.tree import DecisionTreeClassifier\n",
    "from sklearn.neighbors import KNeighborsClassifier\n",
    "from sklearn.naive_bayes import GaussianNB\n",
    "from sklearn.svm import SVC\n",
    "from xgboost import XGBClassifier\n",
    "from sklearn.linear_model import LogisticRegression"
   ]
  },
  {
   "cell_type": "code",
   "execution_count": null,
   "metadata": {},
   "outputs": [],
   "source": [
    "from sklearn.pipeline import Pipeline\n",
    "from sklearn.model_selection import GridSearchCV,train_test_split\n",
    "# from sklearn.preprocessing import StandardScaler,MinMaxScaler,\n",
    "#from sklearn.model_selection import GridSearchCV"
   ]
  },
  {
   "cell_type": "code",
   "execution_count": null,
   "metadata": {},
   "outputs": [],
   "source": [
    "from sklearn.preprocessing import StandardScaler,MinMaxScaler"
   ]
  },
  {
   "cell_type": "code",
   "execution_count": null,
   "metadata": {},
   "outputs": [],
   "source": [
    "from tempfile import mkdtemp\n",
    "cachedir = mkdtemp()"
   ]
  },
  {
   "cell_type": "code",
   "execution_count": null,
   "metadata": {},
   "outputs": [],
   "source": [
    "estimators = [('scalers', StandardScaler()),\n",
    "              ('model',SVC())]\n",
    "\n",
    "pipe = Pipeline(estimators,memory=cachedir)\n",
    "\n",
    "param_grid=[{'model':[SVC()],'scalers':[StandardScaler(),MinMaxScaler()],\n",
    "             'model__gamma':[0.001,0.1,1,10], 'model__C':[0.01,0.1,1,10]},\n",
    "            {'model':[DecisionTreeClassifier()],'scalers':\n",
    "             [None],'model__max_depth':[3,7,12,15]},\n",
    "            {'model':[KNeighborsClassifier()],'scalers':[StandardScaler(),MinMaxScaler()],\n",
    "             'model__n_neighbors':[5,10,15,20]},\n",
    "            {'model':[RandomForestClassifier()],'scalers':[None,StandardScaler(),MinMaxScaler()],\n",
    "             'model__n_estimators':[50,100,150,200],'model__max_depth':[3,7,12,15]},\n",
    "            {'model':[LogisticRegression()],'scalers':[None,StandardScaler(),MinMaxScaler()],\n",
    "             'model__C':[0.01,0.1,1,10],'model__penalty':['l1','l2']},\n",
    "            {'model':[XGBClassifier(use_label_encoder=False)],'scalers':[None,StandardScaler(),MinMaxScaler()],\n",
    "             'model__max_depth':[3,7,12,15],'model__learning_rate':[0.2,0.4,0.7,1]},\n",
    "            {'model':[GaussianNB()],'scalers':[None,StandardScaler(),MinMaxScaler()]}]"
   ]
  },
  {
   "cell_type": "code",
   "execution_count": null,
   "metadata": {},
   "outputs": [],
   "source": [
    "grid_model = GridSearchCV(pipe,param_grid=param_grid,verbose=2,n_jobs=-1)"
   ]
  },
  {
   "cell_type": "code",
   "execution_count": null,
   "metadata": {},
   "outputs": [],
   "source": [
    "grid_model.fit(X_train,y_train)"
   ]
  },
  {
   "cell_type": "code",
   "execution_count": null,
   "metadata": {},
   "outputs": [],
   "source": [
    "grid_model.best_estimator_"
   ]
  },
  {
   "cell_type": "code",
   "execution_count": null,
   "metadata": {},
   "outputs": [],
   "source": [
    "grid_model.best_score_"
   ]
  },
  {
   "cell_type": "code",
   "execution_count": null,
   "metadata": {},
   "outputs": [],
   "source": [
    "grid_model.score(X_test,y_test)"
   ]
  },
  {
   "cell_type": "code",
   "execution_count": null,
   "metadata": {},
   "outputs": [],
   "source": [
    "dcd"
   ]
  },
  {
   "cell_type": "code",
   "execution_count": null,
   "metadata": {
    "executionInfo": {
     "elapsed": 50906,
     "status": "ok",
     "timestamp": 1619796362801,
     "user": {
      "displayName": "Puneet Sran",
      "photoUrl": "",
      "userId": "17086932055982370157"
     },
     "user_tz": 420
    },
    "id": "gT4XslpHTv7i"
   },
   "outputs": [],
   "source": [
    "from sklearn.naive_bayes import GaussianNB, MultinomialNB, BernoulliNB"
   ]
  },
  {
   "cell_type": "code",
   "execution_count": null,
   "metadata": {
    "executionInfo": {
     "elapsed": 50903,
     "status": "ok",
     "timestamp": 1619796362801,
     "user": {
      "displayName": "Puneet Sran",
      "photoUrl": "",
      "userId": "17086932055982370157"
     },
     "user_tz": 420
    },
    "id": "-X30cmEeVSGa"
   },
   "outputs": [],
   "source": [
    "from sklearn.linear_model import LogisticRegression"
   ]
  },
  {
   "cell_type": "code",
   "execution_count": null,
   "metadata": {
    "executionInfo": {
     "elapsed": 51261,
     "status": "ok",
     "timestamp": 1619796363161,
     "user": {
      "displayName": "Puneet Sran",
      "photoUrl": "",
      "userId": "17086932055982370157"
     },
     "user_tz": 420
    },
    "id": "p_lipWn0T5V3"
   },
   "outputs": [],
   "source": [
    "x = df.drop(columns='is_fraud')\n",
    "y = df['is_fraud']"
   ]
  },
  {
   "cell_type": "code",
   "execution_count": null,
   "metadata": {
    "colab": {
     "base_uri": "https://localhost:8080/"
    },
    "executionInfo": {
     "elapsed": 51257,
     "status": "ok",
     "timestamp": 1619796363161,
     "user": {
      "displayName": "Puneet Sran",
      "photoUrl": "",
      "userId": "17086932055982370157"
     },
     "user_tz": 420
    },
    "id": "nfN7Di8hWemS",
    "outputId": "c4515821-0688-4fbf-8087-b736f8562ca7"
   },
   "outputs": [],
   "source": [
    "x.shape"
   ]
  },
  {
   "cell_type": "code",
   "execution_count": null,
   "metadata": {
    "executionInfo": {
     "elapsed": 54586,
     "status": "ok",
     "timestamp": 1619796366502,
     "user": {
      "displayName": "Puneet Sran",
      "photoUrl": "",
      "userId": "17086932055982370157"
     },
     "user_tz": 420
    },
    "id": "ReOjApUfWQyp"
   },
   "outputs": [],
   "source": [
    "from sklearn.preprocessing import MinMaxScaler"
   ]
  },
  {
   "cell_type": "code",
   "execution_count": null,
   "metadata": {
    "colab": {
     "base_uri": "https://localhost:8080/",
     "height": 52
    },
    "executionInfo": {
     "elapsed": 70368,
     "status": "ok",
     "timestamp": 1619796382287,
     "user": {
      "displayName": "Puneet Sran",
      "photoUrl": "",
      "userId": "17086932055982370157"
     },
     "user_tz": 420
    },
    "id": "geOaO9mPWQ1z",
    "outputId": "be5febbe-99c5-4feb-a7a7-62919f201546"
   },
   "outputs": [],
   "source": [
    "norm_scaler = MinMaxScaler()\n",
    "norm_scaler = norm_scaler.fit(X_train_new)\n",
    "X_train_norm_scaled = norm_scaler.transform(X_train_new)\n",
    "X_validation_norm_scaled = norm_scaler.transform(X_validation)\n",
    "\n",
    "display(X_train_norm_scaled.shape)\n",
    "display(X_validation_norm_scaled.shape)"
   ]
  },
  {
   "cell_type": "code",
   "execution_count": null,
   "metadata": {
    "colab": {
     "base_uri": "https://localhost:8080/"
    },
    "executionInfo": {
     "elapsed": 41573,
     "status": "ok",
     "timestamp": 1619796467089,
     "user": {
      "displayName": "Puneet Sran",
      "photoUrl": "",
      "userId": "17086932055982370157"
     },
     "user_tz": 420
    },
    "id": "Ae0HP3eTWQ5I",
    "outputId": "7b8a251b-5b0b-40b5-e7d6-cb51854e5f64"
   },
   "outputs": [],
   "source": [
    "# 1. Instantiate the logistic regression model on min-max scaled data\n",
    "logistic_regression_model_min_max = LogisticRegression(solver='lbfgs')\n",
    "\n",
    "# 2. Fit the model to train set\n",
    "logistic_regression_model_min_max.fit(X_train_norm_scaled, y_train_new)\n",
    "\n",
    "# Accuracy\n",
    "print(f\"Train accuracy of min/max scaled data: {logistic_regression_model_min_max.score(X_train_norm_scaled, y_train_new)}\")\n",
    "print(f\"Validation accuracy of min/max scaled data: {logistic_regression_model_min_max.score(X_validation_norm_scaled, y_validation)}\")"
   ]
  },
  {
   "cell_type": "code",
   "execution_count": null,
   "metadata": {
    "colab": {
     "base_uri": "https://localhost:8080/"
    },
    "executionInfo": {
     "elapsed": 2647,
     "status": "ok",
     "timestamp": 1619796502056,
     "user": {
      "displayName": "Puneet Sran",
      "photoUrl": "",
      "userId": "17086932055982370157"
     },
     "user_tz": 420
    },
    "id": "rKQ1W9OiZHeT",
    "outputId": "7eb4d607-b4fb-4d17-e614-32eeafd2ea47"
   },
   "outputs": [],
   "source": [
    "# Instatiate our model\n",
    "nbmodel = BernoulliNB()\n",
    "# Fit our model\n",
    "nbmodel.fit(X_train_norm_scaled,y_train_new)"
   ]
  }
 ],
 "metadata": {
  "colab": {
   "collapsed_sections": [],
   "name": "hackathon_mastercard_fraud.ipynb",
   "provenance": []
  },
  "kernelspec": {
   "display_name": "Python 3",
   "language": "python",
   "name": "python3"
  },
  "language_info": {
   "codemirror_mode": {
    "name": "ipython",
    "version": 3
   },
   "file_extension": ".py",
   "mimetype": "text/x-python",
   "name": "python",
   "nbconvert_exporter": "python",
   "pygments_lexer": "ipython3",
   "version": "3.8.5"
  }
 },
 "nbformat": 4,
 "nbformat_minor": 4
}
