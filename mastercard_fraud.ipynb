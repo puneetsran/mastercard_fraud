{
 "cells": [
  {
   "cell_type": "markdown",
   "metadata": {
    "executionInfo": {
     "elapsed": 721,
     "status": "ok",
     "timestamp": 1619796312446,
     "user": {
      "displayName": "Puneet Sran",
      "photoUrl": "",
      "userId": "17086932055982370157"
     },
     "user_tz": 420
    },
    "id": "CpfyKFJM4sMu"
   },
   "source": [
    "# MasterCard Fraud"
   ]
  },
  {
   "cell_type": "code",
   "execution_count": 1,
   "metadata": {
    "executionInfo": {
     "elapsed": 721,
     "status": "ok",
     "timestamp": 1619796312446,
     "user": {
      "displayName": "Puneet Sran",
      "photoUrl": "",
      "userId": "17086932055982370157"
     },
     "user_tz": 420
    },
    "id": "CpfyKFJM4sMu"
   },
   "outputs": [],
   "source": [
    "import seaborn as sns\n",
    "import numpy as np\n",
    "import matplotlib.pyplot as plt\n",
    "import pandas as pd\n",
    "import warnings\n",
    "warnings.filterwarnings(\"ignore\")"
   ]
  },
  {
   "cell_type": "code",
   "execution_count": 2,
   "metadata": {
    "executionInfo": {
     "elapsed": 715,
     "status": "ok",
     "timestamp": 1619796312446,
     "user": {
      "displayName": "Puneet Sran",
      "photoUrl": "",
      "userId": "17086932055982370157"
     },
     "user_tz": 420
    },
    "id": "FcO9q_9JLh8A"
   },
   "outputs": [],
   "source": [
    "from sklearn.naive_bayes import GaussianNB, MultinomialNB, BernoulliNB"
   ]
  },
  {
   "cell_type": "code",
   "execution_count": 3,
   "metadata": {
    "executionInfo": {
     "elapsed": 710,
     "status": "ok",
     "timestamp": 1619796312446,
     "user": {
      "displayName": "Puneet Sran",
      "photoUrl": "",
      "userId": "17086932055982370157"
     },
     "user_tz": 420
    },
    "id": "52Mlz-EGMw_q"
   },
   "outputs": [],
   "source": [
    "from sklearn.preprocessing import OneHotEncoder\n",
    "from sklearn.feature_extraction.text import CountVectorizer"
   ]
  },
  {
   "cell_type": "code",
   "execution_count": 4,
   "metadata": {
    "executionInfo": {
     "elapsed": 1601,
     "status": "ok",
     "timestamp": 1619796313341,
     "user": {
      "displayName": "Puneet Sran",
      "photoUrl": "",
      "userId": "17086932055982370157"
     },
     "user_tz": 420
    },
    "id": "ogjTPnw_5ckP"
   },
   "outputs": [],
   "source": [
    "import plotly\n",
    "import plotly.express as px"
   ]
  },
  {
   "cell_type": "code",
   "execution_count": 5,
   "metadata": {
    "colab": {
     "base_uri": "https://localhost:8080/",
     "height": 1000
    },
    "executionInfo": {
     "elapsed": 9529,
     "status": "ok",
     "timestamp": 1619796321289,
     "user": {
      "displayName": "Puneet Sran",
      "photoUrl": "",
      "userId": "17086932055982370157"
     },
     "user_tz": 420
    },
    "id": "s_2u6msv5Vne",
    "outputId": "e2303e12-93c7-425a-873d-cc4da08f9c13"
   },
   "outputs": [],
   "source": [
    "# read in data\n",
    "df = pd.read_csv('data/fraudTrain.csv')"
   ]
  },
  {
   "cell_type": "code",
   "execution_count": 6,
   "metadata": {},
   "outputs": [
    {
     "data": {
      "text/html": [
       "<div>\n",
       "<style scoped>\n",
       "    .dataframe tbody tr th:only-of-type {\n",
       "        vertical-align: middle;\n",
       "    }\n",
       "\n",
       "    .dataframe tbody tr th {\n",
       "        vertical-align: top;\n",
       "    }\n",
       "\n",
       "    .dataframe thead th {\n",
       "        text-align: right;\n",
       "    }\n",
       "</style>\n",
       "<table border=\"1\" class=\"dataframe\">\n",
       "  <thead>\n",
       "    <tr style=\"text-align: right;\">\n",
       "      <th></th>\n",
       "      <th>trans_date_trans_time</th>\n",
       "      <th>cc_num</th>\n",
       "      <th>merchant</th>\n",
       "      <th>category</th>\n",
       "      <th>amt</th>\n",
       "      <th>first</th>\n",
       "      <th>last</th>\n",
       "      <th>gender</th>\n",
       "      <th>street</th>\n",
       "      <th>city</th>\n",
       "      <th>...</th>\n",
       "      <th>lat</th>\n",
       "      <th>long</th>\n",
       "      <th>city_pop</th>\n",
       "      <th>job</th>\n",
       "      <th>dob</th>\n",
       "      <th>trans_num</th>\n",
       "      <th>unix_time</th>\n",
       "      <th>merch_lat</th>\n",
       "      <th>merch_long</th>\n",
       "      <th>is_fraud</th>\n",
       "    </tr>\n",
       "  </thead>\n",
       "  <tbody>\n",
       "    <tr>\n",
       "      <th>0</th>\n",
       "      <td>2019-01-01 00:00:18</td>\n",
       "      <td>2703186189652095</td>\n",
       "      <td>fraud_Rippin, Kub and Mann</td>\n",
       "      <td>misc_net</td>\n",
       "      <td>4.97</td>\n",
       "      <td>Jennifer</td>\n",
       "      <td>Banks</td>\n",
       "      <td>F</td>\n",
       "      <td>561 Perry Cove</td>\n",
       "      <td>Moravian Falls</td>\n",
       "      <td>...</td>\n",
       "      <td>36.0788</td>\n",
       "      <td>-81.1781</td>\n",
       "      <td>3495</td>\n",
       "      <td>Psychologist, counselling</td>\n",
       "      <td>1988-03-09</td>\n",
       "      <td>0b242abb623afc578575680df30655b9</td>\n",
       "      <td>1325376018</td>\n",
       "      <td>36.011293</td>\n",
       "      <td>-82.048315</td>\n",
       "      <td>0</td>\n",
       "    </tr>\n",
       "    <tr>\n",
       "      <th>1</th>\n",
       "      <td>2019-01-01 00:00:44</td>\n",
       "      <td>630423337322</td>\n",
       "      <td>fraud_Heller, Gutmann and Zieme</td>\n",
       "      <td>grocery_pos</td>\n",
       "      <td>107.23</td>\n",
       "      <td>Stephanie</td>\n",
       "      <td>Gill</td>\n",
       "      <td>F</td>\n",
       "      <td>43039 Riley Greens Suite 393</td>\n",
       "      <td>Orient</td>\n",
       "      <td>...</td>\n",
       "      <td>48.8878</td>\n",
       "      <td>-118.2105</td>\n",
       "      <td>149</td>\n",
       "      <td>Special educational needs teacher</td>\n",
       "      <td>1978-06-21</td>\n",
       "      <td>1f76529f8574734946361c461b024d99</td>\n",
       "      <td>1325376044</td>\n",
       "      <td>49.159047</td>\n",
       "      <td>-118.186462</td>\n",
       "      <td>0</td>\n",
       "    </tr>\n",
       "    <tr>\n",
       "      <th>2</th>\n",
       "      <td>2019-01-01 00:00:51</td>\n",
       "      <td>38859492057661</td>\n",
       "      <td>fraud_Lind-Buckridge</td>\n",
       "      <td>entertainment</td>\n",
       "      <td>220.11</td>\n",
       "      <td>Edward</td>\n",
       "      <td>Sanchez</td>\n",
       "      <td>M</td>\n",
       "      <td>594 White Dale Suite 530</td>\n",
       "      <td>Malad City</td>\n",
       "      <td>...</td>\n",
       "      <td>42.1808</td>\n",
       "      <td>-112.2620</td>\n",
       "      <td>4154</td>\n",
       "      <td>Nature conservation officer</td>\n",
       "      <td>1962-01-19</td>\n",
       "      <td>a1a22d70485983eac12b5b88dad1cf95</td>\n",
       "      <td>1325376051</td>\n",
       "      <td>43.150704</td>\n",
       "      <td>-112.154481</td>\n",
       "      <td>0</td>\n",
       "    </tr>\n",
       "    <tr>\n",
       "      <th>3</th>\n",
       "      <td>2019-01-01 00:01:16</td>\n",
       "      <td>3534093764340240</td>\n",
       "      <td>fraud_Kutch, Hermiston and Farrell</td>\n",
       "      <td>gas_transport</td>\n",
       "      <td>45.00</td>\n",
       "      <td>Jeremy</td>\n",
       "      <td>White</td>\n",
       "      <td>M</td>\n",
       "      <td>9443 Cynthia Court Apt. 038</td>\n",
       "      <td>Boulder</td>\n",
       "      <td>...</td>\n",
       "      <td>46.2306</td>\n",
       "      <td>-112.1138</td>\n",
       "      <td>1939</td>\n",
       "      <td>Patent attorney</td>\n",
       "      <td>1967-01-12</td>\n",
       "      <td>6b849c168bdad6f867558c3793159a81</td>\n",
       "      <td>1325376076</td>\n",
       "      <td>47.034331</td>\n",
       "      <td>-112.561071</td>\n",
       "      <td>0</td>\n",
       "    </tr>\n",
       "    <tr>\n",
       "      <th>4</th>\n",
       "      <td>2019-01-01 00:03:06</td>\n",
       "      <td>375534208663984</td>\n",
       "      <td>fraud_Keeling-Crist</td>\n",
       "      <td>misc_pos</td>\n",
       "      <td>41.96</td>\n",
       "      <td>Tyler</td>\n",
       "      <td>Garcia</td>\n",
       "      <td>M</td>\n",
       "      <td>408 Bradley Rest</td>\n",
       "      <td>Doe Hill</td>\n",
       "      <td>...</td>\n",
       "      <td>38.4207</td>\n",
       "      <td>-79.4629</td>\n",
       "      <td>99</td>\n",
       "      <td>Dance movement psychotherapist</td>\n",
       "      <td>1986-03-28</td>\n",
       "      <td>a41d7549acf90789359a9aa5346dcb46</td>\n",
       "      <td>1325376186</td>\n",
       "      <td>38.674999</td>\n",
       "      <td>-78.632459</td>\n",
       "      <td>0</td>\n",
       "    </tr>\n",
       "  </tbody>\n",
       "</table>\n",
       "<p>5 rows × 22 columns</p>\n",
       "</div>"
      ],
      "text/plain": [
       "  trans_date_trans_time            cc_num                            merchant  \\\n",
       "0   2019-01-01 00:00:18  2703186189652095          fraud_Rippin, Kub and Mann   \n",
       "1   2019-01-01 00:00:44      630423337322     fraud_Heller, Gutmann and Zieme   \n",
       "2   2019-01-01 00:00:51    38859492057661                fraud_Lind-Buckridge   \n",
       "3   2019-01-01 00:01:16  3534093764340240  fraud_Kutch, Hermiston and Farrell   \n",
       "4   2019-01-01 00:03:06   375534208663984                 fraud_Keeling-Crist   \n",
       "\n",
       "        category     amt      first     last gender  \\\n",
       "0       misc_net    4.97   Jennifer    Banks      F   \n",
       "1    grocery_pos  107.23  Stephanie     Gill      F   \n",
       "2  entertainment  220.11     Edward  Sanchez      M   \n",
       "3  gas_transport   45.00     Jeremy    White      M   \n",
       "4       misc_pos   41.96      Tyler   Garcia      M   \n",
       "\n",
       "                         street            city  ...      lat      long  \\\n",
       "0                561 Perry Cove  Moravian Falls  ...  36.0788  -81.1781   \n",
       "1  43039 Riley Greens Suite 393          Orient  ...  48.8878 -118.2105   \n",
       "2      594 White Dale Suite 530      Malad City  ...  42.1808 -112.2620   \n",
       "3   9443 Cynthia Court Apt. 038         Boulder  ...  46.2306 -112.1138   \n",
       "4              408 Bradley Rest        Doe Hill  ...  38.4207  -79.4629   \n",
       "\n",
       "   city_pop                                job         dob  \\\n",
       "0      3495          Psychologist, counselling  1988-03-09   \n",
       "1       149  Special educational needs teacher  1978-06-21   \n",
       "2      4154        Nature conservation officer  1962-01-19   \n",
       "3      1939                    Patent attorney  1967-01-12   \n",
       "4        99     Dance movement psychotherapist  1986-03-28   \n",
       "\n",
       "                          trans_num   unix_time  merch_lat  merch_long  \\\n",
       "0  0b242abb623afc578575680df30655b9  1325376018  36.011293  -82.048315   \n",
       "1  1f76529f8574734946361c461b024d99  1325376044  49.159047 -118.186462   \n",
       "2  a1a22d70485983eac12b5b88dad1cf95  1325376051  43.150704 -112.154481   \n",
       "3  6b849c168bdad6f867558c3793159a81  1325376076  47.034331 -112.561071   \n",
       "4  a41d7549acf90789359a9aa5346dcb46  1325376186  38.674999  -78.632459   \n",
       "\n",
       "   is_fraud  \n",
       "0         0  \n",
       "1         0  \n",
       "2         0  \n",
       "3         0  \n",
       "4         0  \n",
       "\n",
       "[5 rows x 22 columns]"
      ]
     },
     "execution_count": 6,
     "metadata": {},
     "output_type": "execute_result"
    }
   ],
   "source": [
    "df = df.iloc[: , 1:]\n",
    "df.head()"
   ]
  },
  {
   "cell_type": "markdown",
   "metadata": {},
   "source": [
    "## Exploration of data"
   ]
  },
  {
   "cell_type": "code",
   "execution_count": 7,
   "metadata": {
    "colab": {
     "base_uri": "https://localhost:8080/"
    },
    "executionInfo": {
     "elapsed": 10340,
     "status": "ok",
     "timestamp": 1619796322120,
     "user": {
      "displayName": "Puneet Sran",
      "photoUrl": "",
      "userId": "17086932055982370157"
     },
     "user_tz": 420
    },
    "id": "ydr1tZ1i5Vzb",
    "outputId": "3923e8c2-6f7b-42aa-b091-50606c27c093"
   },
   "outputs": [
    {
     "name": "stdout",
     "output_type": "stream",
     "text": [
      "<class 'pandas.core.frame.DataFrame'>\n",
      "RangeIndex: 1296675 entries, 0 to 1296674\n",
      "Data columns (total 22 columns):\n",
      " #   Column                 Non-Null Count    Dtype  \n",
      "---  ------                 --------------    -----  \n",
      " 0   trans_date_trans_time  1296675 non-null  object \n",
      " 1   cc_num                 1296675 non-null  int64  \n",
      " 2   merchant               1296675 non-null  object \n",
      " 3   category               1296675 non-null  object \n",
      " 4   amt                    1296675 non-null  float64\n",
      " 5   first                  1296675 non-null  object \n",
      " 6   last                   1296675 non-null  object \n",
      " 7   gender                 1296675 non-null  object \n",
      " 8   street                 1296675 non-null  object \n",
      " 9   city                   1296675 non-null  object \n",
      " 10  state                  1296675 non-null  object \n",
      " 11  zip                    1296675 non-null  int64  \n",
      " 12  lat                    1296675 non-null  float64\n",
      " 13  long                   1296675 non-null  float64\n",
      " 14  city_pop               1296675 non-null  int64  \n",
      " 15  job                    1296675 non-null  object \n",
      " 16  dob                    1296675 non-null  object \n",
      " 17  trans_num              1296675 non-null  object \n",
      " 18  unix_time              1296675 non-null  int64  \n",
      " 19  merch_lat              1296675 non-null  float64\n",
      " 20  merch_long             1296675 non-null  float64\n",
      " 21  is_fraud               1296675 non-null  int64  \n",
      "dtypes: float64(5), int64(5), object(12)\n",
      "memory usage: 217.6+ MB\n"
     ]
    }
   ],
   "source": [
    "df.info()"
   ]
  },
  {
   "cell_type": "code",
   "execution_count": 8,
   "metadata": {},
   "outputs": [
    {
     "data": {
      "text/plain": [
       "trans_date_trans_time    0\n",
       "cc_num                   0\n",
       "merchant                 0\n",
       "category                 0\n",
       "amt                      0\n",
       "first                    0\n",
       "last                     0\n",
       "gender                   0\n",
       "street                   0\n",
       "city                     0\n",
       "state                    0\n",
       "zip                      0\n",
       "lat                      0\n",
       "long                     0\n",
       "city_pop                 0\n",
       "job                      0\n",
       "dob                      0\n",
       "trans_num                0\n",
       "unix_time                0\n",
       "merch_lat                0\n",
       "merch_long               0\n",
       "is_fraud                 0\n",
       "dtype: int64"
      ]
     },
     "execution_count": 8,
     "metadata": {},
     "output_type": "execute_result"
    }
   ],
   "source": [
    "df.isna().sum()"
   ]
  },
  {
   "cell_type": "markdown",
   "metadata": {},
   "source": [
    "### Correlation"
   ]
  },
  {
   "cell_type": "code",
   "execution_count": 9,
   "metadata": {
    "colab": {
     "base_uri": "https://localhost:8080/",
     "height": 728
    },
    "executionInfo": {
     "elapsed": 12024,
     "status": "ok",
     "timestamp": 1619796323813,
     "user": {
      "displayName": "Puneet Sran",
      "photoUrl": "",
      "userId": "17086932055982370157"
     },
     "user_tz": 420
    },
    "id": "Rtof7Gv6DeBa",
    "outputId": "94a57406-04e1-46ed-e160-19a832584ef6"
   },
   "outputs": [
    {
     "data": {
      "image/png": "[encoded data removed]",
      "text/plain": [
       "<Figure size 1440x720 with 2 Axes>"
      ]
     },
     "metadata": {
      "needs_background": "light"
     },
     "output_type": "display_data"
    }
   ],
   "source": [
    "# plot heatmap of all features to view correlation\n",
    "plt.figure(figsize=(20,10))\n",
    "sns.heatmap(df.corr(), cmap='coolwarm', vmin=-1,vmax=1,\n",
    "           annot=True, linewidths=2)\n",
    "plt.tight_layout()\n",
    "plt.show()"
   ]
  },
  {
   "cell_type": "code",
   "execution_count": 10,
   "metadata": {
    "colab": {
     "base_uri": "https://localhost:8080/",
     "height": 728
    },
    "executionInfo": {
     "elapsed": 12723,
     "status": "ok",
     "timestamp": 1619796324517,
     "user": {
      "displayName": "Puneet Sran",
      "photoUrl": "",
      "userId": "17086932055982370157"
     },
     "user_tz": 420
    },
    "id": "dhPrSLzGDhBv",
    "outputId": "827c5331-9d8c-4e99-f4bf-4711149280ad"
   },
   "outputs": [
    {
     "data": {
      "image/png": "[encoded data removed]",
      "text/plain": [
       "<Figure size 360x720 with 2 Axes>"
      ]
     },
     "metadata": {
      "needs_background": "light"
     },
     "output_type": "display_data"
    }
   ],
   "source": [
    "# plot heatmap with just the target variable\n",
    "plt.figure(figsize=(5,10))\n",
    "sns.heatmap(df.corr()[['is_fraud']].sort_values(by=['is_fraud']), cmap='coolwarm', vmin=-1,vmax=1,\n",
    "           annot=True, linewidths=2)\n",
    "plt.tight_layout()\n",
    "plt.show()"
   ]
  },
  {
   "cell_type": "code",
   "execution_count": 11,
   "metadata": {
    "executionInfo": {
     "elapsed": 12718,
     "status": "ok",
     "timestamp": 1619796324517,
     "user": {
      "displayName": "Puneet Sran",
      "photoUrl": "",
      "userId": "17086932055982370157"
     },
     "user_tz": 420
    },
    "id": "h3RY9CGeDjYW"
   },
   "outputs": [],
   "source": [
    "# sns.pairplot(df)"
   ]
  },
  {
   "cell_type": "markdown",
   "metadata": {},
   "source": [
    "### Check Imbalance in Data"
   ]
  },
  {
   "cell_type": "code",
   "execution_count": 12,
   "metadata": {},
   "outputs": [
    {
     "data": {
      "text/plain": [
       "0    1289169\n",
       "1       7506\n",
       "Name: is_fraud, dtype: int64"
      ]
     },
     "execution_count": 12,
     "metadata": {},
     "output_type": "execute_result"
    }
   ],
   "source": [
    "x = df['is_fraud'].value_counts()\n",
    "x"
   ]
  },
  {
   "cell_type": "code",
   "execution_count": 13,
   "metadata": {},
   "outputs": [
    {
     "data": {
      "text/plain": [
       "Int64Index([0, 1], dtype='int64')"
      ]
     },
     "execution_count": 13,
     "metadata": {},
     "output_type": "execute_result"
    }
   ],
   "source": [
    "labels = x.index\n",
    "labels"
   ]
  },
  {
   "cell_type": "code",
   "execution_count": 14,
   "metadata": {},
   "outputs": [
    {
     "data": {
      "image/png": "[encoded data removed]",
      "text/plain": [
       "<Figure size 576x576 with 1 Axes>"
      ]
     },
     "metadata": {},
     "output_type": "display_data"
    }
   ],
   "source": [
    "plt.figure(figsize=(8,8))\n",
    "plt.pie(x, labels = labels)\n",
    "plt.show()"
   ]
  },
  {
   "cell_type": "markdown",
   "metadata": {},
   "source": [
    "**Lots of Imbalance!!**"
   ]
  },
  {
   "cell_type": "markdown",
   "metadata": {},
   "source": [
    "### Upsample data"
   ]
  },
  {
   "cell_type": "code",
   "execution_count": 15,
   "metadata": {},
   "outputs": [],
   "source": [
    "from sklearn.utils import resample"
   ]
  },
  {
   "cell_type": "code",
   "execution_count": 16,
   "metadata": {},
   "outputs": [],
   "source": [
    "df_yes= df[df['is_fraud'] ==1]\n",
    "df_no= df[df['is_fraud'] ==0]"
   ]
  },
  {
   "cell_type": "code",
   "execution_count": 17,
   "metadata": {},
   "outputs": [
    {
     "name": "stdout",
     "output_type": "stream",
     "text": [
      "(7506, 22)\n",
      "(1289169, 22)\n"
     ]
    }
   ],
   "source": [
    "print(df_yes.shape)\n",
    "print(df_no.shape)"
   ]
  },
  {
   "cell_type": "code",
   "execution_count": 18,
   "metadata": {},
   "outputs": [],
   "source": [
    "df_yes_up = resample(df_yes, replace=True, n_samples = df_no.shape[0], random_state=10)"
   ]
  },
  {
   "cell_type": "code",
   "execution_count": 19,
   "metadata": {},
   "outputs": [
    {
     "data": {
      "text/html": [
       "<div>\n",
       "<style scoped>\n",
       "    .dataframe tbody tr th:only-of-type {\n",
       "        vertical-align: middle;\n",
       "    }\n",
       "\n",
       "    .dataframe tbody tr th {\n",
       "        vertical-align: top;\n",
       "    }\n",
       "\n",
       "    .dataframe thead th {\n",
       "        text-align: right;\n",
       "    }\n",
       "</style>\n",
       "<table border=\"1\" class=\"dataframe\">\n",
       "  <thead>\n",
       "    <tr style=\"text-align: right;\">\n",
       "      <th></th>\n",
       "      <th>trans_date_trans_time</th>\n",
       "      <th>cc_num</th>\n",
       "      <th>merchant</th>\n",
       "      <th>category</th>\n",
       "      <th>amt</th>\n",
       "      <th>first</th>\n",
       "      <th>last</th>\n",
       "      <th>gender</th>\n",
       "      <th>street</th>\n",
       "      <th>city</th>\n",
       "      <th>...</th>\n",
       "      <th>lat</th>\n",
       "      <th>long</th>\n",
       "      <th>city_pop</th>\n",
       "      <th>job</th>\n",
       "      <th>dob</th>\n",
       "      <th>trans_num</th>\n",
       "      <th>unix_time</th>\n",
       "      <th>merch_lat</th>\n",
       "      <th>merch_long</th>\n",
       "      <th>is_fraud</th>\n",
       "    </tr>\n",
       "  </thead>\n",
       "  <tbody>\n",
       "    <tr>\n",
       "      <th>136228</th>\n",
       "      <td>2019-03-16 03:45:54</td>\n",
       "      <td>6011552879910390</td>\n",
       "      <td>fraud_Friesen-Stamm</td>\n",
       "      <td>gas_transport</td>\n",
       "      <td>7.82</td>\n",
       "      <td>Robert</td>\n",
       "      <td>Long</td>\n",
       "      <td>M</td>\n",
       "      <td>529 Joshua Knoll Apt. 511</td>\n",
       "      <td>Lonetree</td>\n",
       "      <td>...</td>\n",
       "      <td>41.0552</td>\n",
       "      <td>-110.1603</td>\n",
       "      <td>49</td>\n",
       "      <td>Research scientist (physical sciences)</td>\n",
       "      <td>1981-07-05</td>\n",
       "      <td>b1b780995b7b597e32e702e5afb9b28d</td>\n",
       "      <td>1331869554</td>\n",
       "      <td>41.528662</td>\n",
       "      <td>-111.115379</td>\n",
       "      <td>1</td>\n",
       "    </tr>\n",
       "    <tr>\n",
       "      <th>1263816</th>\n",
       "      <td>2020-06-09 07:12:22</td>\n",
       "      <td>4914700582394237</td>\n",
       "      <td>fraud_Kiehn-Emmerich</td>\n",
       "      <td>grocery_pos</td>\n",
       "      <td>278.64</td>\n",
       "      <td>John</td>\n",
       "      <td>Williams</td>\n",
       "      <td>M</td>\n",
       "      <td>8929 Phillips Corners Suite 259</td>\n",
       "      <td>Harmony</td>\n",
       "      <td>...</td>\n",
       "      <td>40.8496</td>\n",
       "      <td>-80.1381</td>\n",
       "      <td>4589</td>\n",
       "      <td>Bookseller</td>\n",
       "      <td>1956-05-01</td>\n",
       "      <td>ec8ce10166125811bf9529f3d6af25d8</td>\n",
       "      <td>1370761942</td>\n",
       "      <td>40.142351</td>\n",
       "      <td>-80.523525</td>\n",
       "      <td>1</td>\n",
       "    </tr>\n",
       "    <tr>\n",
       "      <th>783622</th>\n",
       "      <td>2019-11-30 23:22:29</td>\n",
       "      <td>4800395067176717</td>\n",
       "      <td>fraud_Barrows PLC</td>\n",
       "      <td>shopping_pos</td>\n",
       "      <td>627.87</td>\n",
       "      <td>Daniel</td>\n",
       "      <td>Owens</td>\n",
       "      <td>M</td>\n",
       "      <td>88794 Mandy Lodge Apt. 874</td>\n",
       "      <td>Howells</td>\n",
       "      <td>...</td>\n",
       "      <td>41.6964</td>\n",
       "      <td>-96.9858</td>\n",
       "      <td>1063</td>\n",
       "      <td>Research scientist (maths)</td>\n",
       "      <td>1928-04-02</td>\n",
       "      <td>49f4089fedcd0897780872df637bc9cc</td>\n",
       "      <td>1354317749</td>\n",
       "      <td>42.439911</td>\n",
       "      <td>-97.723585</td>\n",
       "      <td>1</td>\n",
       "    </tr>\n",
       "    <tr>\n",
       "      <th>146953</th>\n",
       "      <td>2019-03-20 12:57:48</td>\n",
       "      <td>4373370572092720777</td>\n",
       "      <td>fraud_Dare, Casper and Bartoletti</td>\n",
       "      <td>kids_pets</td>\n",
       "      <td>20.71</td>\n",
       "      <td>Hailey</td>\n",
       "      <td>Rhodes</td>\n",
       "      <td>F</td>\n",
       "      <td>337 Michael Harbors Suite 722</td>\n",
       "      <td>Michigan</td>\n",
       "      <td>...</td>\n",
       "      <td>48.0204</td>\n",
       "      <td>-98.1186</td>\n",
       "      <td>454</td>\n",
       "      <td>Producer, television/film/video</td>\n",
       "      <td>1972-07-29</td>\n",
       "      <td>17d381aaba915fe6dea346e9889be851</td>\n",
       "      <td>1332248268</td>\n",
       "      <td>49.018526</td>\n",
       "      <td>-98.508584</td>\n",
       "      <td>1</td>\n",
       "    </tr>\n",
       "    <tr>\n",
       "      <th>594256</th>\n",
       "      <td>2019-09-09 03:10:27</td>\n",
       "      <td>30499715231997</td>\n",
       "      <td>fraud_Vandervort-Funk</td>\n",
       "      <td>grocery_pos</td>\n",
       "      <td>290.77</td>\n",
       "      <td>Austin</td>\n",
       "      <td>Phillips</td>\n",
       "      <td>M</td>\n",
       "      <td>89871 Woodard Spring Suite 714</td>\n",
       "      <td>Mineral</td>\n",
       "      <td>...</td>\n",
       "      <td>37.9986</td>\n",
       "      <td>-77.8781</td>\n",
       "      <td>9141</td>\n",
       "      <td>Personnel officer</td>\n",
       "      <td>1938-03-15</td>\n",
       "      <td>cb0ed8ab7bb0e540100aba6948dae1d0</td>\n",
       "      <td>1347160227</td>\n",
       "      <td>37.135464</td>\n",
       "      <td>-76.897650</td>\n",
       "      <td>1</td>\n",
       "    </tr>\n",
       "    <tr>\n",
       "      <th>...</th>\n",
       "      <td>...</td>\n",
       "      <td>...</td>\n",
       "      <td>...</td>\n",
       "      <td>...</td>\n",
       "      <td>...</td>\n",
       "      <td>...</td>\n",
       "      <td>...</td>\n",
       "      <td>...</td>\n",
       "      <td>...</td>\n",
       "      <td>...</td>\n",
       "      <td>...</td>\n",
       "      <td>...</td>\n",
       "      <td>...</td>\n",
       "      <td>...</td>\n",
       "      <td>...</td>\n",
       "      <td>...</td>\n",
       "      <td>...</td>\n",
       "      <td>...</td>\n",
       "      <td>...</td>\n",
       "      <td>...</td>\n",
       "      <td>...</td>\n",
       "    </tr>\n",
       "    <tr>\n",
       "      <th>281212</th>\n",
       "      <td>2019-05-19 03:30:56</td>\n",
       "      <td>2720433095629877</td>\n",
       "      <td>fraud_Stehr, Jewess and Schimmel</td>\n",
       "      <td>misc_net</td>\n",
       "      <td>749.17</td>\n",
       "      <td>Mark</td>\n",
       "      <td>Wood</td>\n",
       "      <td>M</td>\n",
       "      <td>854 Walker Dale Suite 488</td>\n",
       "      <td>Bowdoin</td>\n",
       "      <td>...</td>\n",
       "      <td>44.0575</td>\n",
       "      <td>-69.9656</td>\n",
       "      <td>3224</td>\n",
       "      <td>Engineer, electronics</td>\n",
       "      <td>1997-08-22</td>\n",
       "      <td>0aab95b83406bbca0e0ad70f9d248efc</td>\n",
       "      <td>1337398256</td>\n",
       "      <td>44.078361</td>\n",
       "      <td>-69.408981</td>\n",
       "      <td>1</td>\n",
       "    </tr>\n",
       "    <tr>\n",
       "      <th>297386</th>\n",
       "      <td>2019-05-25 22:22:08</td>\n",
       "      <td>371226440126102</td>\n",
       "      <td>fraud_Padberg-Sauer</td>\n",
       "      <td>home</td>\n",
       "      <td>215.28</td>\n",
       "      <td>Stacy</td>\n",
       "      <td>Lambert</td>\n",
       "      <td>F</td>\n",
       "      <td>85430 Julie Trafficway Suite 792</td>\n",
       "      <td>Mulberry Grove</td>\n",
       "      <td>...</td>\n",
       "      <td>38.9311</td>\n",
       "      <td>-89.2463</td>\n",
       "      <td>1810</td>\n",
       "      <td>Race relations officer</td>\n",
       "      <td>1974-12-24</td>\n",
       "      <td>60c407c871271609caad278d98f39751</td>\n",
       "      <td>1337984528</td>\n",
       "      <td>39.631119</td>\n",
       "      <td>-89.014211</td>\n",
       "      <td>1</td>\n",
       "    </tr>\n",
       "    <tr>\n",
       "      <th>1059788</th>\n",
       "      <td>2020-03-16 03:07:39</td>\n",
       "      <td>5289285402893489</td>\n",
       "      <td>fraud_Buckridge PLC</td>\n",
       "      <td>misc_pos</td>\n",
       "      <td>858.02</td>\n",
       "      <td>Amanda</td>\n",
       "      <td>Adams</td>\n",
       "      <td>F</td>\n",
       "      <td>08580 Jeremy Falls</td>\n",
       "      <td>Bay City</td>\n",
       "      <td>...</td>\n",
       "      <td>45.5197</td>\n",
       "      <td>-123.8761</td>\n",
       "      <td>1530</td>\n",
       "      <td>Colour technologist</td>\n",
       "      <td>1986-11-24</td>\n",
       "      <td>955b655d170b110fad4818d2e1033ea3</td>\n",
       "      <td>1363403259</td>\n",
       "      <td>44.739347</td>\n",
       "      <td>-124.300237</td>\n",
       "      <td>1</td>\n",
       "    </tr>\n",
       "    <tr>\n",
       "      <th>74186</th>\n",
       "      <td>2019-02-12 23:08:25</td>\n",
       "      <td>6011109736646996</td>\n",
       "      <td>fraud_Crooks and Sons</td>\n",
       "      <td>personal_care</td>\n",
       "      <td>20.98</td>\n",
       "      <td>Rebecca</td>\n",
       "      <td>Erickson</td>\n",
       "      <td>F</td>\n",
       "      <td>594 Berry Lights Apt. 392</td>\n",
       "      <td>Wilmington</td>\n",
       "      <td>...</td>\n",
       "      <td>34.2651</td>\n",
       "      <td>-77.8670</td>\n",
       "      <td>186140</td>\n",
       "      <td>English as a second language teacher</td>\n",
       "      <td>1983-02-08</td>\n",
       "      <td>97aa35feb442e6e1070a75bbbb04aa4b</td>\n",
       "      <td>1329088105</td>\n",
       "      <td>34.768195</td>\n",
       "      <td>-78.709642</td>\n",
       "      <td>1</td>\n",
       "    </tr>\n",
       "    <tr>\n",
       "      <th>386766</th>\n",
       "      <td>2019-06-26 11:19:50</td>\n",
       "      <td>4301028321766222513</td>\n",
       "      <td>fraud_Mosciski, Gislason and Mertz</td>\n",
       "      <td>grocery_pos</td>\n",
       "      <td>299.32</td>\n",
       "      <td>Joe</td>\n",
       "      <td>Howard</td>\n",
       "      <td>M</td>\n",
       "      <td>109 Brian Lights Apt. 504</td>\n",
       "      <td>Shippingport</td>\n",
       "      <td>...</td>\n",
       "      <td>40.6025</td>\n",
       "      <td>-80.3863</td>\n",
       "      <td>198</td>\n",
       "      <td>Secretary/administrator</td>\n",
       "      <td>1978-10-26</td>\n",
       "      <td>7485865f51bdb1c684be68f30d4508c3</td>\n",
       "      <td>1340709590</td>\n",
       "      <td>41.082500</td>\n",
       "      <td>-80.906891</td>\n",
       "      <td>1</td>\n",
       "    </tr>\n",
       "  </tbody>\n",
       "</table>\n",
       "<p>1289169 rows × 22 columns</p>\n",
       "</div>"
      ],
      "text/plain": [
       "        trans_date_trans_time               cc_num  \\\n",
       "136228    2019-03-16 03:45:54     6011552879910390   \n",
       "1263816   2020-06-09 07:12:22     4914700582394237   \n",
       "783622    2019-11-30 23:22:29     4800395067176717   \n",
       "146953    2019-03-20 12:57:48  4373370572092720777   \n",
       "594256    2019-09-09 03:10:27       30499715231997   \n",
       "...                       ...                  ...   \n",
       "281212    2019-05-19 03:30:56     2720433095629877   \n",
       "297386    2019-05-25 22:22:08      371226440126102   \n",
       "1059788   2020-03-16 03:07:39     5289285402893489   \n",
       "74186     2019-02-12 23:08:25     6011109736646996   \n",
       "386766    2019-06-26 11:19:50  4301028321766222513   \n",
       "\n",
       "                                   merchant       category     amt    first  \\\n",
       "136228                  fraud_Friesen-Stamm  gas_transport    7.82   Robert   \n",
       "1263816                fraud_Kiehn-Emmerich    grocery_pos  278.64     John   \n",
       "783622                    fraud_Barrows PLC   shopping_pos  627.87   Daniel   \n",
       "146953    fraud_Dare, Casper and Bartoletti      kids_pets   20.71   Hailey   \n",
       "594256                fraud_Vandervort-Funk    grocery_pos  290.77   Austin   \n",
       "...                                     ...            ...     ...      ...   \n",
       "281212     fraud_Stehr, Jewess and Schimmel       misc_net  749.17     Mark   \n",
       "297386                  fraud_Padberg-Sauer           home  215.28    Stacy   \n",
       "1059788                 fraud_Buckridge PLC       misc_pos  858.02   Amanda   \n",
       "74186                 fraud_Crooks and Sons  personal_care   20.98  Rebecca   \n",
       "386766   fraud_Mosciski, Gislason and Mertz    grocery_pos  299.32      Joe   \n",
       "\n",
       "             last gender                            street            city  \\\n",
       "136228       Long      M         529 Joshua Knoll Apt. 511        Lonetree   \n",
       "1263816  Williams      M   8929 Phillips Corners Suite 259         Harmony   \n",
       "783622      Owens      M        88794 Mandy Lodge Apt. 874         Howells   \n",
       "146953     Rhodes      F     337 Michael Harbors Suite 722        Michigan   \n",
       "594256   Phillips      M    89871 Woodard Spring Suite 714         Mineral   \n",
       "...           ...    ...                               ...             ...   \n",
       "281212       Wood      M         854 Walker Dale Suite 488         Bowdoin   \n",
       "297386    Lambert      F  85430 Julie Trafficway Suite 792  Mulberry Grove   \n",
       "1059788     Adams      F                08580 Jeremy Falls        Bay City   \n",
       "74186    Erickson      F         594 Berry Lights Apt. 392      Wilmington   \n",
       "386766     Howard      M         109 Brian Lights Apt. 504    Shippingport   \n",
       "\n",
       "         ...      lat      long  city_pop  \\\n",
       "136228   ...  41.0552 -110.1603        49   \n",
       "1263816  ...  40.8496  -80.1381      4589   \n",
       "783622   ...  41.6964  -96.9858      1063   \n",
       "146953   ...  48.0204  -98.1186       454   \n",
       "594256   ...  37.9986  -77.8781      9141   \n",
       "...      ...      ...       ...       ...   \n",
       "281212   ...  44.0575  -69.9656      3224   \n",
       "297386   ...  38.9311  -89.2463      1810   \n",
       "1059788  ...  45.5197 -123.8761      1530   \n",
       "74186    ...  34.2651  -77.8670    186140   \n",
       "386766   ...  40.6025  -80.3863       198   \n",
       "\n",
       "                                            job         dob  \\\n",
       "136228   Research scientist (physical sciences)  1981-07-05   \n",
       "1263816                              Bookseller  1956-05-01   \n",
       "783622               Research scientist (maths)  1928-04-02   \n",
       "146953          Producer, television/film/video  1972-07-29   \n",
       "594256                        Personnel officer  1938-03-15   \n",
       "...                                         ...         ...   \n",
       "281212                    Engineer, electronics  1997-08-22   \n",
       "297386                   Race relations officer  1974-12-24   \n",
       "1059788                     Colour technologist  1986-11-24   \n",
       "74186      English as a second language teacher  1983-02-08   \n",
       "386766                  Secretary/administrator  1978-10-26   \n",
       "\n",
       "                                trans_num   unix_time  merch_lat  merch_long  \\\n",
       "136228   b1b780995b7b597e32e702e5afb9b28d  1331869554  41.528662 -111.115379   \n",
       "1263816  ec8ce10166125811bf9529f3d6af25d8  1370761942  40.142351  -80.523525   \n",
       "783622   49f4089fedcd0897780872df637bc9cc  1354317749  42.439911  -97.723585   \n",
       "146953   17d381aaba915fe6dea346e9889be851  1332248268  49.018526  -98.508584   \n",
       "594256   cb0ed8ab7bb0e540100aba6948dae1d0  1347160227  37.135464  -76.897650   \n",
       "...                                   ...         ...        ...         ...   \n",
       "281212   0aab95b83406bbca0e0ad70f9d248efc  1337398256  44.078361  -69.408981   \n",
       "297386   60c407c871271609caad278d98f39751  1337984528  39.631119  -89.014211   \n",
       "1059788  955b655d170b110fad4818d2e1033ea3  1363403259  44.739347 -124.300237   \n",
       "74186    97aa35feb442e6e1070a75bbbb04aa4b  1329088105  34.768195  -78.709642   \n",
       "386766   7485865f51bdb1c684be68f30d4508c3  1340709590  41.082500  -80.906891   \n",
       "\n",
       "         is_fraud  \n",
       "136228          1  \n",
       "1263816         1  \n",
       "783622          1  \n",
       "146953          1  \n",
       "594256          1  \n",
       "...           ...  \n",
       "281212          1  \n",
       "297386          1  \n",
       "1059788         1  \n",
       "74186           1  \n",
       "386766          1  \n",
       "\n",
       "[1289169 rows x 22 columns]"
      ]
     },
     "execution_count": 19,
     "metadata": {},
     "output_type": "execute_result"
    }
   ],
   "source": [
    "df_yes_up"
   ]
  },
  {
   "cell_type": "code",
   "execution_count": 20,
   "metadata": {},
   "outputs": [],
   "source": [
    "df = pd.concat([df_no,df_yes_up]).sample(frac=1)"
   ]
  },
  {
   "cell_type": "markdown",
   "metadata": {},
   "source": [
    "### Feature Encoding"
   ]
  },
  {
   "cell_type": "code",
   "execution_count": 21,
   "metadata": {},
   "outputs": [
    {
     "data": {
      "text/plain": [
       "667341        fraud_Langworth, Boehm and Gulgowski\n",
       "1088437                            fraud_Kuhic LLC\n",
       "534416                     fraud_Kuphal-Bartoletti\n",
       "40637                             fraud_Reilly LLC\n",
       "239634     fraud_Greenfelder, Bartoletti and Davis\n",
       "                            ...                   \n",
       "315300                            fraud_Dooley Inc\n",
       "494698                       fraud_Vandervort-Funk\n",
       "614871                        fraud_Corwin-Collins\n",
       "403886         fraud_Schumm, McLaughlin and Carter\n",
       "803007                           fraud_Mraz-Herzog\n",
       "Name: merchant, Length: 2578338, dtype: object"
      ]
     },
     "execution_count": 21,
     "metadata": {},
     "output_type": "execute_result"
    }
   ],
   "source": [
    "df['merchant']"
   ]
  },
  {
   "cell_type": "markdown",
   "metadata": {},
   "source": [
    "I want to replace get rid of commas and fraud_ fromt the merchant column:"
   ]
  },
  {
   "cell_type": "code",
   "execution_count": 22,
   "metadata": {},
   "outputs": [],
   "source": [
    "df['merchant'] = df['merchant'].str.replace('fraud_', '').str.replace(',', '').str.replace(' ','_')"
   ]
  },
  {
   "cell_type": "code",
   "execution_count": 23,
   "metadata": {},
   "outputs": [
    {
     "data": {
      "text/plain": [
       "667341        Langworth_Boehm_and_Gulgowski\n",
       "1088437                           Kuhic_LLC\n",
       "534416                    Kuphal-Bartoletti\n",
       "40637                            Reilly_LLC\n",
       "239634     Greenfelder_Bartoletti_and_Davis\n",
       "                         ...               \n",
       "315300                           Dooley_Inc\n",
       "494698                      Vandervort-Funk\n",
       "614871                       Corwin-Collins\n",
       "403886         Schumm_McLaughlin_and_Carter\n",
       "803007                          Mraz-Herzog\n",
       "Name: merchant, Length: 2578338, dtype: object"
      ]
     },
     "execution_count": 23,
     "metadata": {},
     "output_type": "execute_result"
    }
   ],
   "source": [
    "df['merchant']"
   ]
  },
  {
   "cell_type": "code",
   "execution_count": 24,
   "metadata": {},
   "outputs": [
    {
     "data": {
      "text/plain": [
       "693"
      ]
     },
     "execution_count": 24,
     "metadata": {},
     "output_type": "execute_result"
    }
   ],
   "source": [
    "df['merchant'].nunique()"
   ]
  },
  {
   "cell_type": "code",
   "execution_count": 25,
   "metadata": {},
   "outputs": [
    {
     "data": {
      "text/plain": [
       "Kilback_LLC                       12451\n",
       "Cormier_LLC                       11814\n",
       "Kuhn_LLC                          11092\n",
       "Rau_and_Sons                      10688\n",
       "Doyle_Ltd                         10615\n",
       "                                  ...  \n",
       "Schroeder_Wolff_and_Hermiston       825\n",
       "Larson_Quitzon_and_Spencer          821\n",
       "Hodkiewicz_Prohaska_and_Paucek      787\n",
       "Ritchie_Bradtke_and_Stiedemann      786\n",
       "Reichert-Weissnat                   753\n",
       "Name: merchant, Length: 693, dtype: int64"
      ]
     },
     "execution_count": 25,
     "metadata": {},
     "output_type": "execute_result"
    }
   ],
   "source": [
    "df['merchant'].value_counts()"
   ]
  },
  {
   "cell_type": "code",
   "execution_count": 26,
   "metadata": {},
   "outputs": [
    {
     "data": {
      "text/plain": [
       "Kilback_LLC                       0.482908\n",
       "Cormier_LLC                       0.458202\n",
       "Kuhn_LLC                          0.430200\n",
       "Rau_and_Sons                      0.414531\n",
       "Doyle_Ltd                         0.411699\n",
       "                                    ...   \n",
       "Schroeder_Wolff_and_Hermiston     0.031997\n",
       "Larson_Quitzon_and_Spencer        0.031842\n",
       "Hodkiewicz_Prohaska_and_Paucek    0.030524\n",
       "Ritchie_Bradtke_and_Stiedemann    0.030485\n",
       "Reichert-Weissnat                 0.029205\n",
       "Name: merchant, Length: 693, dtype: float64"
      ]
     },
     "execution_count": 26,
     "metadata": {},
     "output_type": "execute_result"
    }
   ],
   "source": [
    "merchant_values = df['merchant'].value_counts()/len(df)*100\n",
    "merchant_values"
   ]
  },
  {
   "cell_type": "code",
   "execution_count": 27,
   "metadata": {},
   "outputs": [
    {
     "data": {
      "text/plain": [
       "Kilback_LLC                 0.482908\n",
       "Cormier_LLC                 0.458202\n",
       "Kuhn_LLC                    0.430200\n",
       "Rau_and_Sons                0.414531\n",
       "Doyle_Ltd                   0.411699\n",
       "                              ...   \n",
       "Weimann_Kuhic_and_Beahan    0.202727\n",
       "Bernhard_Inc                0.202650\n",
       "Lesch_Ltd                   0.202495\n",
       "Heller-Langosh              0.202340\n",
       "Conroy-Cruickshank          0.200400\n",
       "Name: merchant, Length: 147, dtype: float64"
      ]
     },
     "execution_count": 27,
     "metadata": {},
     "output_type": "execute_result"
    }
   ],
   "source": [
    "threshold_merchant = 0.2\n",
    "\n",
    "imp_merchant = merchant_values[merchant_values > threshold_merchant]\n",
    "imp_merchant"
   ]
  },
  {
   "cell_type": "code",
   "execution_count": 28,
   "metadata": {},
   "outputs": [
    {
     "data": {
      "text/plain": [
       "144"
      ]
     },
     "execution_count": 28,
     "metadata": {},
     "output_type": "execute_result"
    }
   ],
   "source": [
    "imp_merchant.nunique()"
   ]
  },
  {
   "cell_type": "code",
   "execution_count": 29,
   "metadata": {},
   "outputs": [],
   "source": [
    "df['merchant'] = np.where(df['merchant'].isin(imp_merchant.index), df['merchant'], 'other')"
   ]
  },
  {
   "cell_type": "code",
   "execution_count": 30,
   "metadata": {},
   "outputs": [
    {
     "data": {
      "text/plain": [
       "148"
      ]
     },
     "execution_count": 30,
     "metadata": {},
     "output_type": "execute_result"
    }
   ],
   "source": [
    "df['merchant'].nunique()"
   ]
  },
  {
   "cell_type": "code",
   "execution_count": 31,
   "metadata": {},
   "outputs": [
    {
     "data": {
      "text/plain": [
       "667341     Langworth_Boehm_and_Gulgowski\n",
       "1088437                        Kuhic_LLC\n",
       "534416                             other\n",
       "40637                              other\n",
       "239634                             other\n",
       "                       ...              \n",
       "315300                        Dooley_Inc\n",
       "494698                   Vandervort-Funk\n",
       "614871                             other\n",
       "403886                             other\n",
       "803007                             other\n",
       "Name: merchant, Length: 2578338, dtype: object"
      ]
     },
     "execution_count": 31,
     "metadata": {},
     "output_type": "execute_result"
    }
   ],
   "source": [
    "# apply other using lambda\n",
    "df['merchant'].apply(lambda x: 'other' if x not in imp_merchant.index else x)"
   ]
  },
  {
   "cell_type": "markdown",
   "metadata": {},
   "source": [
    "View 'category' column"
   ]
  },
  {
   "cell_type": "code",
   "execution_count": 32,
   "metadata": {},
   "outputs": [
    {
     "data": {
      "text/plain": [
       "grocery_pos       421862\n",
       "shopping_net      389569\n",
       "shopping_pos      260573\n",
       "gas_transport     237309\n",
       "misc_net          219961\n",
       "home              156915\n",
       "kids_pets         153616\n",
       "entertainment     133396\n",
       "personal_care     128258\n",
       "misc_pos          122525\n",
       "food_dining       117331\n",
       "health_fitness    108468\n",
       "grocery_net        68492\n",
       "travel             60063\n",
       "Name: category, dtype: int64"
      ]
     },
     "execution_count": 32,
     "metadata": {},
     "output_type": "execute_result"
    }
   ],
   "source": [
    "df['category'].value_counts()"
   ]
  },
  {
   "cell_type": "markdown",
   "metadata": {},
   "source": [
    "Since there seems to be some additional features in the category column, I think I can extract them and create new features.\n",
    "\n",
    "I will first create a new_category feature that simplifies the categories and gets rid of 'pos' or 'net' from the category."
   ]
  },
  {
   "cell_type": "code",
   "execution_count": 33,
   "metadata": {},
   "outputs": [],
   "source": [
    "df['new_category'] = df['category']"
   ]
  },
  {
   "cell_type": "code",
   "execution_count": 34,
   "metadata": {},
   "outputs": [
    {
     "data": {
      "text/plain": [
       "shopping          650142\n",
       "grocery           490354\n",
       "misc              342486\n",
       "gas_transport     237309\n",
       "home              156915\n",
       "kids_pets         153616\n",
       "entertainment     133396\n",
       "personal_care     128258\n",
       "food_dining       117331\n",
       "health_fitness    108468\n",
       "travel             60063\n",
       "Name: new_category, dtype: int64"
      ]
     },
     "execution_count": 34,
     "metadata": {},
     "output_type": "execute_result"
    }
   ],
   "source": [
    "df.loc[df['category'] == 'grocery_pos', 'new_category'] = 'grocery'\n",
    "df.loc[df['category'] == 'shopping_pos', 'new_category'] = 'shopping'\n",
    "df.loc[df['category'] == 'shopping_net', 'new_category'] = 'shopping'\n",
    "df.loc[df['category'] == 'misc_pos', 'new_category'] = 'misc'\n",
    "df.loc[df['category'] == 'misc_net', 'new_category'] = 'misc'\n",
    "df.loc[df['category'] == 'grocery_net', 'new_category'] = 'grocery'\n",
    "df['new_category'].value_counts()"
   ]
  },
  {
   "cell_type": "markdown",
   "metadata": {},
   "source": [
    "I can create additional features based on categories that are either 'pos' or 'net'"
   ]
  },
  {
   "cell_type": "code",
   "execution_count": 35,
   "metadata": {},
   "outputs": [],
   "source": [
    "df['category_pos'] = 0"
   ]
  },
  {
   "cell_type": "code",
   "execution_count": 36,
   "metadata": {},
   "outputs": [],
   "source": [
    "df['category_net'] = 0"
   ]
  },
  {
   "cell_type": "code",
   "execution_count": 37,
   "metadata": {},
   "outputs": [
    {
     "data": {
      "text/plain": [
       "0    1773378\n",
       "1     804960\n",
       "Name: category_pos, dtype: int64"
      ]
     },
     "execution_count": 37,
     "metadata": {},
     "output_type": "execute_result"
    }
   ],
   "source": [
    "df.loc[df['category'] == 'grocery_pos', 'category_pos'] = 1\n",
    "df.loc[df['category'] == 'misc_pos', 'category_pos'] = 1\n",
    "df.loc[df['category'] == 'shopping_pos', 'category_pos'] = 1\n",
    "df['category_pos'].value_counts()"
   ]
  },
  {
   "cell_type": "code",
   "execution_count": 38,
   "metadata": {},
   "outputs": [
    {
     "data": {
      "text/plain": [
       "0    1773378\n",
       "1     804960\n",
       "Name: category_pos, dtype: int64"
      ]
     },
     "execution_count": 38,
     "metadata": {},
     "output_type": "execute_result"
    }
   ],
   "source": [
    "df.loc[df['category'] == 'shopping_net', 'category_net'] = 1\n",
    "df.loc[df['category'] == 'misc_net', 'category_net'] = 1\n",
    "df.loc[df['category'] == 'grocery_net', 'category_net'] = 1\n",
    "df['category_pos'].value_counts()"
   ]
  },
  {
   "cell_type": "markdown",
   "metadata": {},
   "source": [
    "#### First & Last Names"
   ]
  },
  {
   "cell_type": "code",
   "execution_count": 39,
   "metadata": {},
   "outputs": [
    {
     "data": {
      "text/plain": [
       "Christopher    54407\n",
       "Robert         49378\n",
       "David          44002\n",
       "James          39925\n",
       "Michael        38887\n",
       "               ...  \n",
       "Michele          506\n",
       "Tommy            504\n",
       "Ricky            503\n",
       "Peggy            500\n",
       "Connor           498\n",
       "Name: first, Length: 352, dtype: int64"
      ]
     },
     "execution_count": 39,
     "metadata": {},
     "output_type": "execute_result"
    }
   ],
   "source": [
    "df['first'].value_counts()"
   ]
  },
  {
   "cell_type": "code",
   "execution_count": 40,
   "metadata": {},
   "outputs": [
    {
     "data": {
      "text/plain": [
       "Christopher    2.110158\n",
       "Robert         1.915110\n",
       "David          1.706603\n",
       "James          1.548478\n",
       "Michael        1.508220\n",
       "                 ...   \n",
       "Michele        0.019625\n",
       "Tommy          0.019547\n",
       "Ricky          0.019509\n",
       "Peggy          0.019392\n",
       "Connor         0.019315\n",
       "Name: first, Length: 352, dtype: float64"
      ]
     },
     "execution_count": 40,
     "metadata": {},
     "output_type": "execute_result"
    }
   ],
   "source": [
    "first_name_values = df['first'].value_counts()/len(df)*100\n",
    "first_name_values"
   ]
  },
  {
   "cell_type": "code",
   "execution_count": 41,
   "metadata": {},
   "outputs": [
    {
     "data": {
      "text/plain": [
       "Christopher    2.110158\n",
       "Robert         1.915110\n",
       "David          1.706603\n",
       "James          1.548478\n",
       "Michael        1.508220\n",
       "Jessica        1.496041\n",
       "Jennifer       1.468077\n",
       "William        1.284975\n",
       "John           1.248285\n",
       "Mary           1.210198\n",
       "Amanda         1.151672\n",
       "Daniel         1.149966\n",
       "Lisa           1.056029\n",
       "Joseph         0.983773\n",
       "Christine      0.940839\n",
       "Michelle       0.904381\n",
       "Jeffrey        0.903605\n",
       "Samuel         0.898757\n",
       "Jacqueline     0.893444\n",
       "Kimberly       0.885066\n",
       "Ashley         0.882351\n",
       "Margaret       0.833871\n",
       "Adam           0.826695\n",
       "Mark           0.825765\n",
       "Steven         0.814944\n",
       "Nathan         0.779727\n",
       "Jeremy         0.766851\n",
       "Scott          0.763166\n",
       "Kenneth        0.759288\n",
       "Melissa        0.757853\n",
       "Charles        0.752888\n",
       "Jason          0.725002\n",
       "Susan          0.715034\n",
       "Linda          0.695991\n",
       "Sarah          0.684782\n",
       "Karen          0.681136\n",
       "Angela         0.668066\n",
       "Stephanie      0.664963\n",
       "Rachel         0.622804\n",
       "Matthew        0.613923\n",
       "Ryan           0.588286\n",
       "Justin         0.557801\n",
       "Rebecca        0.534686\n",
       "Larry          0.533716\n",
       "Patricia       0.524795\n",
       "Dawn           0.512035\n",
       "Name: first, dtype: float64"
      ]
     },
     "execution_count": 41,
     "metadata": {},
     "output_type": "execute_result"
    }
   ],
   "source": [
    "threshold_first_name = 0.5\n",
    "\n",
    "imp_first_name = first_name_values[first_name_values > threshold_first_name]\n",
    "imp_first_name"
   ]
  },
  {
   "cell_type": "code",
   "execution_count": 42,
   "metadata": {},
   "outputs": [
    {
     "data": {
      "text/plain": [
       "46"
      ]
     },
     "execution_count": 42,
     "metadata": {},
     "output_type": "execute_result"
    }
   ],
   "source": [
    "imp_first_name.nunique()"
   ]
  },
  {
   "cell_type": "code",
   "execution_count": 43,
   "metadata": {},
   "outputs": [],
   "source": [
    "df['first'] = np.where(df['first'].isin(imp_first_name.index), df['first'], 'other')"
   ]
  },
  {
   "cell_type": "code",
   "execution_count": 44,
   "metadata": {},
   "outputs": [
    {
     "data": {
      "text/plain": [
       "47"
      ]
     },
     "execution_count": 44,
     "metadata": {},
     "output_type": "execute_result"
    }
   ],
   "source": [
    "df['first'].nunique()"
   ]
  },
  {
   "cell_type": "code",
   "execution_count": 45,
   "metadata": {},
   "outputs": [
    {
     "data": {
      "text/plain": [
       "667341           other\n",
       "1088437    Christopher\n",
       "534416     Christopher\n",
       "40637            other\n",
       "239634          Robert\n",
       "              ...     \n",
       "315300           other\n",
       "494698           other\n",
       "614871         Melissa\n",
       "403886        Kimberly\n",
       "803007           other\n",
       "Name: first, Length: 2578338, dtype: object"
      ]
     },
     "execution_count": 45,
     "metadata": {},
     "output_type": "execute_result"
    }
   ],
   "source": [
    "# apply other using lambda\n",
    "df['first'].apply(lambda x: 'other' if x not in imp_first_name.index else x)"
   ]
  },
  {
   "cell_type": "code",
   "execution_count": 46,
   "metadata": {},
   "outputs": [
    {
     "data": {
      "text/plain": [
       "Smith        52795\n",
       "Johnson      46721\n",
       "Davis        44911\n",
       "Williams     42164\n",
       "Martinez     37243\n",
       "             ...  \n",
       "Alexander      501\n",
       "Berry          500\n",
       "Grant          498\n",
       "Schmidt        491\n",
       "Bush           485\n",
       "Name: last, Length: 481, dtype: int64"
      ]
     },
     "execution_count": 46,
     "metadata": {},
     "output_type": "execute_result"
    }
   ],
   "source": [
    "df['last'].value_counts()"
   ]
  },
  {
   "cell_type": "code",
   "execution_count": 47,
   "metadata": {},
   "outputs": [
    {
     "data": {
      "text/plain": [
       "Smith        2.047637\n",
       "Johnson      1.812059\n",
       "Davis        1.741859\n",
       "Williams     1.635317\n",
       "Martinez     1.444458\n",
       "               ...   \n",
       "Alexander    0.019431\n",
       "Berry        0.019392\n",
       "Grant        0.019315\n",
       "Schmidt      0.019043\n",
       "Bush         0.018811\n",
       "Name: last, Length: 481, dtype: float64"
      ]
     },
     "execution_count": 47,
     "metadata": {},
     "output_type": "execute_result"
    }
   ],
   "source": [
    "last_name_values = df['last'].value_counts()/len(df)*100\n",
    "last_name_values"
   ]
  },
  {
   "cell_type": "code",
   "execution_count": 48,
   "metadata": {},
   "outputs": [
    {
     "data": {
      "text/plain": [
       "Smith        2.047637\n",
       "Johnson      1.812059\n",
       "Davis        1.741859\n",
       "Williams     1.635317\n",
       "Martinez     1.444458\n",
       "Jones        1.343268\n",
       "Rodriguez    1.310301\n",
       "Thomas       1.046178\n",
       "Lewis        0.975978\n",
       "Garcia       0.888673\n",
       "Gonzalez     0.880490\n",
       "Miller       0.794233\n",
       "Allen        0.787523\n",
       "Clark        0.747769\n",
       "Brown        0.714918\n",
       "Martin       0.711039\n",
       "Hernandez    0.704407\n",
       "Sanchez      0.685248\n",
       "Campbell     0.667096\n",
       "Robinson     0.662132\n",
       "Mendoza      0.650186\n",
       "Taylor       0.634091\n",
       "Bishop       0.633043\n",
       "Anderson     0.608376\n",
       "White        0.589760\n",
       "Foster       0.584369\n",
       "Bell         0.558887\n",
       "Sanders      0.533716\n",
       "Lowe         0.528713\n",
       "Patterson    0.526308\n",
       "Perez        0.510406\n",
       "Gomez        0.502029\n",
       "Name: last, dtype: float64"
      ]
     },
     "execution_count": 48,
     "metadata": {},
     "output_type": "execute_result"
    }
   ],
   "source": [
    "threshold_last_name = 0.5\n",
    "\n",
    "imp_last_name = last_name_values[last_name_values > threshold_last_name]\n",
    "imp_last_name"
   ]
  },
  {
   "cell_type": "code",
   "execution_count": 49,
   "metadata": {},
   "outputs": [
    {
     "data": {
      "text/plain": [
       "32"
      ]
     },
     "execution_count": 49,
     "metadata": {},
     "output_type": "execute_result"
    }
   ],
   "source": [
    "imp_last_name.nunique()"
   ]
  },
  {
   "cell_type": "code",
   "execution_count": 50,
   "metadata": {},
   "outputs": [],
   "source": [
    "df['last'] = np.where(df['last'].isin(imp_last_name.index), df['last'], 'other')"
   ]
  },
  {
   "cell_type": "code",
   "execution_count": 51,
   "metadata": {},
   "outputs": [
    {
     "data": {
      "text/plain": [
       "33"
      ]
     },
     "execution_count": 51,
     "metadata": {},
     "output_type": "execute_result"
    }
   ],
   "source": [
    "df['last'].nunique()"
   ]
  },
  {
   "cell_type": "code",
   "execution_count": 52,
   "metadata": {},
   "outputs": [
    {
     "data": {
      "text/plain": [
       "667341       other\n",
       "1088437    Johnson\n",
       "534416       other\n",
       "40637        other\n",
       "239634       other\n",
       "            ...   \n",
       "315300       other\n",
       "494698       other\n",
       "614871       other\n",
       "403886       other\n",
       "803007       other\n",
       "Name: last, Length: 2578338, dtype: object"
      ]
     },
     "execution_count": 52,
     "metadata": {},
     "output_type": "execute_result"
    }
   ],
   "source": [
    "# apply other using lambda\n",
    "df['last'].apply(lambda x: 'other' if x not in imp_last_name.index else x)"
   ]
  },
  {
   "cell_type": "code",
   "execution_count": 53,
   "metadata": {},
   "outputs": [
    {
     "data": {
      "text/plain": [
       "other        1844531\n",
       "Smith          52795\n",
       "Johnson        46721\n",
       "Davis          44911\n",
       "Williams       42164\n",
       "Martinez       37243\n",
       "Jones          34634\n",
       "Rodriguez      33784\n",
       "Thomas         26974\n",
       "Lewis          25164\n",
       "Garcia         22913\n",
       "Gonzalez       22702\n",
       "Miller         20478\n",
       "Allen          20305\n",
       "Clark          19280\n",
       "Brown          18433\n",
       "Martin         18333\n",
       "Hernandez      18162\n",
       "Sanchez        17668\n",
       "Campbell       17200\n",
       "Robinson       17072\n",
       "Mendoza        16764\n",
       "Taylor         16349\n",
       "Bishop         16322\n",
       "Anderson       15686\n",
       "White          15206\n",
       "Foster         15067\n",
       "Bell           14410\n",
       "Sanders        13761\n",
       "Lowe           13632\n",
       "Patterson      13570\n",
       "Perez          13160\n",
       "Gomez          12944\n",
       "Name: last, dtype: int64"
      ]
     },
     "execution_count": 53,
     "metadata": {},
     "output_type": "execute_result"
    }
   ],
   "source": [
    "df['last'].value_counts()"
   ]
  },
  {
   "cell_type": "code",
   "execution_count": 54,
   "metadata": {},
   "outputs": [],
   "source": [
    "df.drop(['cc_num', 'trans_num', 'street', 'state', 'zip', 'lat', 'long', \n",
    "         'unix_time', 'merch_lat', 'merch_long'], \n",
    "        axis = 1, inplace = True)"
   ]
  },
  {
   "cell_type": "code",
   "execution_count": 55,
   "metadata": {},
   "outputs": [
    {
     "data": {
      "text/plain": [
       "Index(['trans_date_trans_time', 'merchant', 'category', 'amt', 'first', 'last',\n",
       "       'gender', 'city', 'city_pop', 'job', 'dob', 'is_fraud', 'new_category',\n",
       "       'category_pos', 'category_net'],\n",
       "      dtype='object')"
      ]
     },
     "execution_count": 55,
     "metadata": {},
     "output_type": "execute_result"
    }
   ],
   "source": [
    "df.columns"
   ]
  },
  {
   "cell_type": "code",
   "execution_count": 56,
   "metadata": {},
   "outputs": [
    {
     "data": {
      "text/html": [
       "<div>\n",
       "<style scoped>\n",
       "    .dataframe tbody tr th:only-of-type {\n",
       "        vertical-align: middle;\n",
       "    }\n",
       "\n",
       "    .dataframe tbody tr th {\n",
       "        vertical-align: top;\n",
       "    }\n",
       "\n",
       "    .dataframe thead th {\n",
       "        text-align: right;\n",
       "    }\n",
       "</style>\n",
       "<table border=\"1\" class=\"dataframe\">\n",
       "  <thead>\n",
       "    <tr style=\"text-align: right;\">\n",
       "      <th></th>\n",
       "      <th>trans_date_trans_time</th>\n",
       "      <th>merchant</th>\n",
       "      <th>category</th>\n",
       "      <th>amt</th>\n",
       "      <th>first</th>\n",
       "      <th>last</th>\n",
       "      <th>gender</th>\n",
       "      <th>city</th>\n",
       "      <th>city_pop</th>\n",
       "      <th>job</th>\n",
       "      <th>dob</th>\n",
       "      <th>is_fraud</th>\n",
       "      <th>new_category</th>\n",
       "      <th>category_pos</th>\n",
       "      <th>category_net</th>\n",
       "    </tr>\n",
       "  </thead>\n",
       "  <tbody>\n",
       "    <tr>\n",
       "      <th>667341</th>\n",
       "      <td>2019-10-11 22:30:02</td>\n",
       "      <td>Langworth_Boehm_and_Gulgowski</td>\n",
       "      <td>shopping_net</td>\n",
       "      <td>1041.65</td>\n",
       "      <td>other</td>\n",
       "      <td>other</td>\n",
       "      <td>M</td>\n",
       "      <td>Nelson</td>\n",
       "      <td>732</td>\n",
       "      <td>Television/film/video producer</td>\n",
       "      <td>1956-12-13</td>\n",
       "      <td>1</td>\n",
       "      <td>shopping</td>\n",
       "      <td>0</td>\n",
       "      <td>1</td>\n",
       "    </tr>\n",
       "    <tr>\n",
       "      <th>1088437</th>\n",
       "      <td>2020-03-28 21:00:33</td>\n",
       "      <td>Kuhic_LLC</td>\n",
       "      <td>shopping_net</td>\n",
       "      <td>40.48</td>\n",
       "      <td>Christopher</td>\n",
       "      <td>Johnson</td>\n",
       "      <td>M</td>\n",
       "      <td>Greenville</td>\n",
       "      <td>22930</td>\n",
       "      <td>Media planner</td>\n",
       "      <td>1971-11-26</td>\n",
       "      <td>0</td>\n",
       "      <td>shopping</td>\n",
       "      <td>0</td>\n",
       "      <td>1</td>\n",
       "    </tr>\n",
       "  </tbody>\n",
       "</table>\n",
       "</div>"
      ],
      "text/plain": [
       "        trans_date_trans_time                       merchant      category  \\\n",
       "667341    2019-10-11 22:30:02  Langworth_Boehm_and_Gulgowski  shopping_net   \n",
       "1088437   2020-03-28 21:00:33                      Kuhic_LLC  shopping_net   \n",
       "\n",
       "             amt        first     last gender        city  city_pop  \\\n",
       "667341   1041.65        other    other      M      Nelson       732   \n",
       "1088437    40.48  Christopher  Johnson      M  Greenville     22930   \n",
       "\n",
       "                                    job         dob  is_fraud new_category  \\\n",
       "667341   Television/film/video producer  1956-12-13         1     shopping   \n",
       "1088437                   Media planner  1971-11-26         0     shopping   \n",
       "\n",
       "         category_pos  category_net  \n",
       "667341              0             1  \n",
       "1088437             0             1  "
      ]
     },
     "execution_count": 56,
     "metadata": {},
     "output_type": "execute_result"
    }
   ],
   "source": [
    "df.head(2)"
   ]
  },
  {
   "cell_type": "code",
   "execution_count": 57,
   "metadata": {},
   "outputs": [
    {
     "data": {
      "text/html": [
       "<div>\n",
       "<style scoped>\n",
       "    .dataframe tbody tr th:only-of-type {\n",
       "        vertical-align: middle;\n",
       "    }\n",
       "\n",
       "    .dataframe tbody tr th {\n",
       "        vertical-align: top;\n",
       "    }\n",
       "\n",
       "    .dataframe thead th {\n",
       "        text-align: right;\n",
       "    }\n",
       "</style>\n",
       "<table border=\"1\" class=\"dataframe\">\n",
       "  <thead>\n",
       "    <tr style=\"text-align: right;\">\n",
       "      <th></th>\n",
       "      <th>trans_date_trans_time</th>\n",
       "      <th>merchant</th>\n",
       "      <th>category</th>\n",
       "      <th>amt</th>\n",
       "      <th>first</th>\n",
       "      <th>last</th>\n",
       "      <th>gender</th>\n",
       "      <th>city</th>\n",
       "      <th>city_pop</th>\n",
       "      <th>job</th>\n",
       "      <th>dob</th>\n",
       "      <th>is_fraud</th>\n",
       "      <th>new_category</th>\n",
       "      <th>category_pos</th>\n",
       "      <th>category_net</th>\n",
       "    </tr>\n",
       "  </thead>\n",
       "  <tbody>\n",
       "    <tr>\n",
       "      <th>667341</th>\n",
       "      <td>2019-10-11 22:30:02</td>\n",
       "      <td>Langworth_Boehm_and_Gulgowski</td>\n",
       "      <td>shopping_net</td>\n",
       "      <td>1041.65</td>\n",
       "      <td>other</td>\n",
       "      <td>other</td>\n",
       "      <td>1</td>\n",
       "      <td>Nelson</td>\n",
       "      <td>732</td>\n",
       "      <td>Television/film/video producer</td>\n",
       "      <td>1956-12-13</td>\n",
       "      <td>1</td>\n",
       "      <td>shopping</td>\n",
       "      <td>0</td>\n",
       "      <td>1</td>\n",
       "    </tr>\n",
       "    <tr>\n",
       "      <th>1088437</th>\n",
       "      <td>2020-03-28 21:00:33</td>\n",
       "      <td>Kuhic_LLC</td>\n",
       "      <td>shopping_net</td>\n",
       "      <td>40.48</td>\n",
       "      <td>Christopher</td>\n",
       "      <td>Johnson</td>\n",
       "      <td>1</td>\n",
       "      <td>Greenville</td>\n",
       "      <td>22930</td>\n",
       "      <td>Media planner</td>\n",
       "      <td>1971-11-26</td>\n",
       "      <td>0</td>\n",
       "      <td>shopping</td>\n",
       "      <td>0</td>\n",
       "      <td>1</td>\n",
       "    </tr>\n",
       "  </tbody>\n",
       "</table>\n",
       "</div>"
      ],
      "text/plain": [
       "        trans_date_trans_time                       merchant      category  \\\n",
       "667341    2019-10-11 22:30:02  Langworth_Boehm_and_Gulgowski  shopping_net   \n",
       "1088437   2020-03-28 21:00:33                      Kuhic_LLC  shopping_net   \n",
       "\n",
       "             amt        first     last  gender        city  city_pop  \\\n",
       "667341   1041.65        other    other       1      Nelson       732   \n",
       "1088437    40.48  Christopher  Johnson       1  Greenville     22930   \n",
       "\n",
       "                                    job         dob  is_fraud new_category  \\\n",
       "667341   Television/film/video producer  1956-12-13         1     shopping   \n",
       "1088437                   Media planner  1971-11-26         0     shopping   \n",
       "\n",
       "         category_pos  category_net  \n",
       "667341              0             1  \n",
       "1088437             0             1  "
      ]
     },
     "execution_count": 57,
     "metadata": {},
     "output_type": "execute_result"
    }
   ],
   "source": [
    "df[\"gender\"] = np.where(df[\"gender\"]==\"M\", 1, 0)\n",
    "df.head(2)"
   ]
  },
  {
   "cell_type": "code",
   "execution_count": 58,
   "metadata": {},
   "outputs": [],
   "source": [
    "df.rename(columns = {'gender':'is_male'}, inplace=True)"
   ]
  },
  {
   "cell_type": "code",
   "execution_count": 59,
   "metadata": {},
   "outputs": [
    {
     "data": {
      "text/html": [
       "<div>\n",
       "<style scoped>\n",
       "    .dataframe tbody tr th:only-of-type {\n",
       "        vertical-align: middle;\n",
       "    }\n",
       "\n",
       "    .dataframe tbody tr th {\n",
       "        vertical-align: top;\n",
       "    }\n",
       "\n",
       "    .dataframe thead th {\n",
       "        text-align: right;\n",
       "    }\n",
       "</style>\n",
       "<table border=\"1\" class=\"dataframe\">\n",
       "  <thead>\n",
       "    <tr style=\"text-align: right;\">\n",
       "      <th></th>\n",
       "      <th>trans_date_trans_time</th>\n",
       "      <th>merchant</th>\n",
       "      <th>category</th>\n",
       "      <th>amt</th>\n",
       "      <th>first</th>\n",
       "      <th>last</th>\n",
       "      <th>is_male</th>\n",
       "      <th>city</th>\n",
       "      <th>city_pop</th>\n",
       "      <th>job</th>\n",
       "      <th>dob</th>\n",
       "      <th>is_fraud</th>\n",
       "      <th>new_category</th>\n",
       "      <th>category_pos</th>\n",
       "      <th>category_net</th>\n",
       "    </tr>\n",
       "  </thead>\n",
       "  <tbody>\n",
       "    <tr>\n",
       "      <th>667341</th>\n",
       "      <td>2019-10-11 22:30:02</td>\n",
       "      <td>Langworth_Boehm_and_Gulgowski</td>\n",
       "      <td>shopping_net</td>\n",
       "      <td>1041.65</td>\n",
       "      <td>other</td>\n",
       "      <td>other</td>\n",
       "      <td>1</td>\n",
       "      <td>Nelson</td>\n",
       "      <td>732</td>\n",
       "      <td>Television/film/video producer</td>\n",
       "      <td>1956-12-13</td>\n",
       "      <td>1</td>\n",
       "      <td>shopping</td>\n",
       "      <td>0</td>\n",
       "      <td>1</td>\n",
       "    </tr>\n",
       "    <tr>\n",
       "      <th>1088437</th>\n",
       "      <td>2020-03-28 21:00:33</td>\n",
       "      <td>Kuhic_LLC</td>\n",
       "      <td>shopping_net</td>\n",
       "      <td>40.48</td>\n",
       "      <td>Christopher</td>\n",
       "      <td>Johnson</td>\n",
       "      <td>1</td>\n",
       "      <td>Greenville</td>\n",
       "      <td>22930</td>\n",
       "      <td>Media planner</td>\n",
       "      <td>1971-11-26</td>\n",
       "      <td>0</td>\n",
       "      <td>shopping</td>\n",
       "      <td>0</td>\n",
       "      <td>1</td>\n",
       "    </tr>\n",
       "  </tbody>\n",
       "</table>\n",
       "</div>"
      ],
      "text/plain": [
       "        trans_date_trans_time                       merchant      category  \\\n",
       "667341    2019-10-11 22:30:02  Langworth_Boehm_and_Gulgowski  shopping_net   \n",
       "1088437   2020-03-28 21:00:33                      Kuhic_LLC  shopping_net   \n",
       "\n",
       "             amt        first     last  is_male        city  city_pop  \\\n",
       "667341   1041.65        other    other        1      Nelson       732   \n",
       "1088437    40.48  Christopher  Johnson        1  Greenville     22930   \n",
       "\n",
       "                                    job         dob  is_fraud new_category  \\\n",
       "667341   Television/film/video producer  1956-12-13         1     shopping   \n",
       "1088437                   Media planner  1971-11-26         0     shopping   \n",
       "\n",
       "         category_pos  category_net  \n",
       "667341              0             1  \n",
       "1088437             0             1  "
      ]
     },
     "execution_count": 59,
     "metadata": {},
     "output_type": "execute_result"
    }
   ],
   "source": [
    "df.head(2)"
   ]
  },
  {
   "cell_type": "code",
   "execution_count": 60,
   "metadata": {},
   "outputs": [],
   "source": [
    "# from datetime import datetime, date\n",
    "import datetime"
   ]
  },
  {
   "cell_type": "code",
   "execution_count": 61,
   "metadata": {},
   "outputs": [],
   "source": [
    "def from_dob_to_age(born):\n",
    "    today = datetime.date.today()\n",
    "    return today.year - born.year - ((today.month, today.day) < (born.month, born.day))"
   ]
  },
  {
   "cell_type": "code",
   "execution_count": 62,
   "metadata": {},
   "outputs": [],
   "source": [
    "dob = datetime.date(1982,8,7)"
   ]
  },
  {
   "cell_type": "code",
   "execution_count": 63,
   "metadata": {},
   "outputs": [
    {
     "data": {
      "text/plain": [
       "38"
      ]
     },
     "execution_count": 63,
     "metadata": {},
     "output_type": "execute_result"
    }
   ],
   "source": [
    "from_dob_to_age(dob)"
   ]
  },
  {
   "cell_type": "code",
   "execution_count": 64,
   "metadata": {},
   "outputs": [],
   "source": [
    "df['age'] = pd.to_datetime(df.dob)"
   ]
  },
  {
   "cell_type": "code",
   "execution_count": 65,
   "metadata": {},
   "outputs": [
    {
     "data": {
      "text/plain": [
       "667341    1956-12-13\n",
       "1088437   1971-11-26\n",
       "534416    1961-09-28\n",
       "40637     1968-06-24\n",
       "239634    1961-01-31\n",
       "             ...    \n",
       "315300    1991-01-28\n",
       "494698    1962-04-30\n",
       "614871    1980-12-16\n",
       "403886    1964-11-17\n",
       "803007    1943-12-17\n",
       "Name: age, Length: 2578338, dtype: datetime64[ns]"
      ]
     },
     "execution_count": 65,
     "metadata": {},
     "output_type": "execute_result"
    }
   ],
   "source": [
    "df['age']"
   ]
  },
  {
   "cell_type": "code",
   "execution_count": 66,
   "metadata": {},
   "outputs": [],
   "source": [
    "df['age'] = df['age'].apply(lambda x: from_dob_to_age(x))"
   ]
  },
  {
   "cell_type": "code",
   "execution_count": 67,
   "metadata": {},
   "outputs": [],
   "source": [
    "# year = df['dob'].str.split('-', expand=True)[0].astype('int')\n",
    "# month = df['dob'].str.split('-', expand=True)[1].astype('int')\n",
    "# day = df['dob'].str.split('-', expand=True)[2].astype('int')\n",
    "# born = [year, month, day]"
   ]
  },
  {
   "cell_type": "code",
   "execution_count": 68,
   "metadata": {},
   "outputs": [
    {
     "data": {
      "text/html": [
       "<div>\n",
       "<style scoped>\n",
       "    .dataframe tbody tr th:only-of-type {\n",
       "        vertical-align: middle;\n",
       "    }\n",
       "\n",
       "    .dataframe tbody tr th {\n",
       "        vertical-align: top;\n",
       "    }\n",
       "\n",
       "    .dataframe thead th {\n",
       "        text-align: right;\n",
       "    }\n",
       "</style>\n",
       "<table border=\"1\" class=\"dataframe\">\n",
       "  <thead>\n",
       "    <tr style=\"text-align: right;\">\n",
       "      <th></th>\n",
       "      <th>trans_date_trans_time</th>\n",
       "      <th>merchant</th>\n",
       "      <th>category</th>\n",
       "      <th>amt</th>\n",
       "      <th>first</th>\n",
       "      <th>last</th>\n",
       "      <th>is_male</th>\n",
       "      <th>city</th>\n",
       "      <th>city_pop</th>\n",
       "      <th>job</th>\n",
       "      <th>dob</th>\n",
       "      <th>is_fraud</th>\n",
       "      <th>new_category</th>\n",
       "      <th>category_pos</th>\n",
       "      <th>category_net</th>\n",
       "      <th>age</th>\n",
       "    </tr>\n",
       "  </thead>\n",
       "  <tbody>\n",
       "    <tr>\n",
       "      <th>667341</th>\n",
       "      <td>2019-10-11 22:30:02</td>\n",
       "      <td>Langworth_Boehm_and_Gulgowski</td>\n",
       "      <td>shopping_net</td>\n",
       "      <td>1041.65</td>\n",
       "      <td>other</td>\n",
       "      <td>other</td>\n",
       "      <td>1</td>\n",
       "      <td>Nelson</td>\n",
       "      <td>732</td>\n",
       "      <td>Television/film/video producer</td>\n",
       "      <td>1956-12-13</td>\n",
       "      <td>1</td>\n",
       "      <td>shopping</td>\n",
       "      <td>0</td>\n",
       "      <td>1</td>\n",
       "      <td>64</td>\n",
       "    </tr>\n",
       "    <tr>\n",
       "      <th>1088437</th>\n",
       "      <td>2020-03-28 21:00:33</td>\n",
       "      <td>Kuhic_LLC</td>\n",
       "      <td>shopping_net</td>\n",
       "      <td>40.48</td>\n",
       "      <td>Christopher</td>\n",
       "      <td>Johnson</td>\n",
       "      <td>1</td>\n",
       "      <td>Greenville</td>\n",
       "      <td>22930</td>\n",
       "      <td>Media planner</td>\n",
       "      <td>1971-11-26</td>\n",
       "      <td>0</td>\n",
       "      <td>shopping</td>\n",
       "      <td>0</td>\n",
       "      <td>1</td>\n",
       "      <td>49</td>\n",
       "    </tr>\n",
       "  </tbody>\n",
       "</table>\n",
       "</div>"
      ],
      "text/plain": [
       "        trans_date_trans_time                       merchant      category  \\\n",
       "667341    2019-10-11 22:30:02  Langworth_Boehm_and_Gulgowski  shopping_net   \n",
       "1088437   2020-03-28 21:00:33                      Kuhic_LLC  shopping_net   \n",
       "\n",
       "             amt        first     last  is_male        city  city_pop  \\\n",
       "667341   1041.65        other    other        1      Nelson       732   \n",
       "1088437    40.48  Christopher  Johnson        1  Greenville     22930   \n",
       "\n",
       "                                    job         dob  is_fraud new_category  \\\n",
       "667341   Television/film/video producer  1956-12-13         1     shopping   \n",
       "1088437                   Media planner  1971-11-26         0     shopping   \n",
       "\n",
       "         category_pos  category_net  age  \n",
       "667341              0             1   64  \n",
       "1088437             0             1   49  "
      ]
     },
     "execution_count": 68,
     "metadata": {},
     "output_type": "execute_result"
    }
   ],
   "source": [
    "df.head(2)"
   ]
  },
  {
   "cell_type": "code",
   "execution_count": 69,
   "metadata": {},
   "outputs": [
    {
     "data": {
      "text/plain": [
       "Houston        10692\n",
       "Warren         10261\n",
       "Utica           9473\n",
       "San Antonio     9448\n",
       "Naples          9125\n",
       "               ...  \n",
       "Pea Ridge        495\n",
       "Loving           490\n",
       "New Franken      490\n",
       "Dell City        485\n",
       "West Finley      471\n",
       "Name: city, Length: 894, dtype: int64"
      ]
     },
     "execution_count": 69,
     "metadata": {},
     "output_type": "execute_result"
    }
   ],
   "source": [
    "df['city'].value_counts()"
   ]
  },
  {
   "cell_type": "code",
   "execution_count": 70,
   "metadata": {},
   "outputs": [
    {
     "data": {
      "text/plain": [
       "Houston        0.414686\n",
       "Warren         0.397970\n",
       "Utica          0.367407\n",
       "San Antonio    0.366438\n",
       "Naples         0.353910\n",
       "                 ...   \n",
       "Pea Ridge      0.019198\n",
       "Loving         0.019004\n",
       "New Franken    0.019004\n",
       "Dell City      0.018811\n",
       "West Finley    0.018268\n",
       "Name: city, Length: 894, dtype: float64"
      ]
     },
     "execution_count": 70,
     "metadata": {},
     "output_type": "execute_result"
    }
   ],
   "source": [
    "city_values = df['city'].value_counts()/len(df)*100\n",
    "city_values"
   ]
  },
  {
   "cell_type": "code",
   "execution_count": 71,
   "metadata": {},
   "outputs": [
    {
     "data": {
      "text/plain": [
       "Houston          0.414686\n",
       "Warren           0.397970\n",
       "Utica            0.367407\n",
       "San Antonio      0.366438\n",
       "Naples           0.353910\n",
       "Huntsville       0.327653\n",
       "Dallas           0.321098\n",
       "Detroit          0.311868\n",
       "Cleveland        0.301745\n",
       "Topeka           0.300659\n",
       "Tulsa            0.296392\n",
       "Brandon          0.295578\n",
       "Birmingham       0.292592\n",
       "Conway           0.292243\n",
       "Arcadia          0.283826\n",
       "Meridian         0.282934\n",
       "Allentown        0.280646\n",
       "Washington       0.280219\n",
       "Lakeland         0.279948\n",
       "Burbank          0.278513\n",
       "Indianapolis     0.273393\n",
       "Fort Washakie    0.273083\n",
       "Hudson           0.272579\n",
       "Thomas           0.269631\n",
       "New York City    0.253186\n",
       "Lahoma           0.248610\n",
       "Fenelton         0.237129\n",
       "Bowdoin          0.229683\n",
       "Fulton           0.225261\n",
       "Walnut Ridge     0.222934\n",
       "Randolph         0.222391\n",
       "Beaver Falls     0.222314\n",
       "Norwalk          0.220801\n",
       "San Diego        0.220646\n",
       "Hinesburg        0.218397\n",
       "Reno             0.217000\n",
       "Westport         0.215216\n",
       "Wichita          0.213859\n",
       "Sebring          0.211493\n",
       "De Witt          0.210911\n",
       "Phoenix          0.209825\n",
       "Mesa             0.209398\n",
       "Plainfield       0.209360\n",
       "Andrews          0.206296\n",
       "Spencer          0.205326\n",
       "Summerfield      0.204434\n",
       "Milford          0.204124\n",
       "Lake Jackson     0.202301\n",
       "Norman           0.202223\n",
       "San Jose         0.202029\n",
       "Albuquerque      0.200013\n",
       "Name: city, dtype: float64"
      ]
     },
     "execution_count": 71,
     "metadata": {},
     "output_type": "execute_result"
    }
   ],
   "source": [
    "threshold_city = 0.2\n",
    "\n",
    "imp_city = city_values[city_values > threshold_city]\n",
    "imp_city"
   ]
  },
  {
   "cell_type": "code",
   "execution_count": 72,
   "metadata": {},
   "outputs": [
    {
     "data": {
      "text/plain": [
       "51"
      ]
     },
     "execution_count": 72,
     "metadata": {},
     "output_type": "execute_result"
    }
   ],
   "source": [
    "imp_city.nunique()"
   ]
  },
  {
   "cell_type": "code",
   "execution_count": 73,
   "metadata": {},
   "outputs": [],
   "source": [
    "df['city'] = np.where(df['city'].isin(imp_city.index), df['city'], 'other')"
   ]
  },
  {
   "cell_type": "code",
   "execution_count": 74,
   "metadata": {},
   "outputs": [
    {
     "data": {
      "text/plain": [
       "52"
      ]
     },
     "execution_count": 74,
     "metadata": {},
     "output_type": "execute_result"
    }
   ],
   "source": [
    "df['city'].nunique()"
   ]
  },
  {
   "cell_type": "code",
   "execution_count": 75,
   "metadata": {},
   "outputs": [
    {
     "data": {
      "text/plain": [
       "667341        other\n",
       "1088437       other\n",
       "534416     Lakeland\n",
       "40637         other\n",
       "239634        other\n",
       "             ...   \n",
       "315300        other\n",
       "494698        other\n",
       "614871        other\n",
       "403886        other\n",
       "803007        other\n",
       "Name: city, Length: 2578338, dtype: object"
      ]
     },
     "execution_count": 75,
     "metadata": {},
     "output_type": "execute_result"
    }
   ],
   "source": [
    "# apply other using lambda\n",
    "df['city'].apply(lambda x: 'other' if x not in imp_city.index else x)"
   ]
  },
  {
   "cell_type": "code",
   "execution_count": 76,
   "metadata": {},
   "outputs": [
    {
     "data": {
      "text/plain": [
       "other            2236446\n",
       "Houston            10692\n",
       "Warren             10261\n",
       "Utica               9473\n",
       "San Antonio         9448\n",
       "Naples              9125\n",
       "Huntsville          8448\n",
       "Dallas              8279\n",
       "Detroit             8041\n",
       "Cleveland           7780\n",
       "Topeka              7752\n",
       "Tulsa               7642\n",
       "Brandon             7621\n",
       "Birmingham          7544\n",
       "Conway              7535\n",
       "Arcadia             7318\n",
       "Meridian            7295\n",
       "Allentown           7236\n",
       "Washington          7225\n",
       "Lakeland            7218\n",
       "Burbank             7181\n",
       "Indianapolis        7049\n",
       "Fort Washakie       7041\n",
       "Hudson              7028\n",
       "Thomas              6952\n",
       "New York City       6528\n",
       "Lahoma              6410\n",
       "Fenelton            6114\n",
       "Bowdoin             5922\n",
       "Fulton              5808\n",
       "Walnut Ridge        5748\n",
       "Randolph            5734\n",
       "Beaver Falls        5732\n",
       "Norwalk             5693\n",
       "San Diego           5689\n",
       "Hinesburg           5631\n",
       "Reno                5595\n",
       "Westport            5549\n",
       "Wichita             5514\n",
       "Sebring             5453\n",
       "De Witt             5438\n",
       "Phoenix             5410\n",
       "Mesa                5399\n",
       "Plainfield          5398\n",
       "Andrews             5319\n",
       "Spencer             5294\n",
       "Summerfield         5271\n",
       "Milford             5263\n",
       "Lake Jackson        5216\n",
       "Norman              5214\n",
       "San Jose            5209\n",
       "Albuquerque         5157\n",
       "Name: city, dtype: int64"
      ]
     },
     "execution_count": 76,
     "metadata": {},
     "output_type": "execute_result"
    }
   ],
   "source": [
    "df['city'].value_counts()"
   ]
  },
  {
   "cell_type": "code",
   "execution_count": 77,
   "metadata": {},
   "outputs": [
    {
     "data": {
      "text/plain": [
       "Materials engineer                18990\n",
       "Exhibition designer               17932\n",
       "Naval architect                   17724\n",
       "Film/video editor                 17338\n",
       "Surveyor, land/geomatics          17323\n",
       "                                  ...  \n",
       "Television camera operator          518\n",
       "Investment banker, operational      510\n",
       "Tour manager                        498\n",
       "Buyer, retail                       496\n",
       "Hydrogeologist                      485\n",
       "Name: job, Length: 494, dtype: int64"
      ]
     },
     "execution_count": 77,
     "metadata": {},
     "output_type": "execute_result"
    }
   ],
   "source": [
    "df['job'].value_counts()"
   ]
  },
  {
   "cell_type": "code",
   "execution_count": 78,
   "metadata": {},
   "outputs": [],
   "source": [
    "df['job'] = df['job'].str.replace('/', '_').str.replace(',', '').str.replace(' ','_')"
   ]
  },
  {
   "cell_type": "code",
   "execution_count": 79,
   "metadata": {},
   "outputs": [
    {
     "data": {
      "text/plain": [
       "Materials_engineer               18990\n",
       "Exhibition_designer              17932\n",
       "Naval_architect                  17724\n",
       "Film_video_editor                17338\n",
       "Surveyor_land_geomatics          17323\n",
       "                                 ...  \n",
       "Television_camera_operator         518\n",
       "Investment_banker_operational      510\n",
       "Tour_manager                       498\n",
       "Buyer_retail                       496\n",
       "Hydrogeologist                     485\n",
       "Name: job, Length: 494, dtype: int64"
      ]
     },
     "execution_count": 79,
     "metadata": {},
     "output_type": "execute_result"
    }
   ],
   "source": [
    "df['job'].value_counts()"
   ]
  },
  {
   "cell_type": "code",
   "execution_count": 80,
   "metadata": {},
   "outputs": [
    {
     "data": {
      "text/plain": [
       "Materials_engineer               0.736521\n",
       "Exhibition_designer              0.695487\n",
       "Naval_architect                  0.687420\n",
       "Film_video_editor                0.672449\n",
       "Surveyor_land_geomatics          0.671867\n",
       "                                   ...   \n",
       "Television_camera_operator       0.020090\n",
       "Investment_banker_operational    0.019780\n",
       "Tour_manager                     0.019315\n",
       "Buyer_retail                     0.019237\n",
       "Hydrogeologist                   0.018811\n",
       "Name: job, Length: 494, dtype: float64"
      ]
     },
     "execution_count": 80,
     "metadata": {},
     "output_type": "execute_result"
    }
   ],
   "source": [
    "job_values = df['job'].value_counts()/len(df)*100\n",
    "job_values"
   ]
  },
  {
   "cell_type": "code",
   "execution_count": 81,
   "metadata": {},
   "outputs": [
    {
     "data": {
      "text/plain": [
       "Materials_engineer                                   0.736521\n",
       "Exhibition_designer                                  0.695487\n",
       "Naval_architect                                      0.687420\n",
       "Film_video_editor                                    0.672449\n",
       "Surveyor_land_geomatics                              0.671867\n",
       "Copywriter_advertising                               0.574983\n",
       "Trading_standards_officer                            0.554466\n",
       "Mechanical_engineer                                  0.545623\n",
       "Audiological_scientist                               0.539107\n",
       "Prison_officer                                       0.536974\n",
       "Quantity_surveyor                                    0.536586\n",
       "Podiatrist                                           0.532281\n",
       "Magazine_features_editor                             0.522973\n",
       "Scientist_audiological                               0.513432\n",
       "Financial_trader                                     0.505985\n",
       "IT_trainer                                           0.492216\n",
       "Chief_Executive_Officer                              0.474918\n",
       "Historic_buildings_inspector_conservation_officer    0.471195\n",
       "Television_production_assistant                      0.466463\n",
       "Sales_professional_IT                                0.463942\n",
       "Secondary_school_teacher                             0.460684\n",
       "Senior_tax_professional_tax_inspector                0.458435\n",
       "Scientist_biomedical                                 0.451919\n",
       "Financial_adviser                                    0.445752\n",
       "Energy_engineer                                      0.443425\n",
       "Environmental_consultant                             0.439547\n",
       "Paramedic                                            0.434311\n",
       "Buyer_industrial                                     0.433690\n",
       "Land_geomatics_surveyor                              0.429657\n",
       "Building_surveyor                                    0.429308\n",
       "Early_years_teacher                                  0.428144\n",
       "Race_relations_officer                               0.427795\n",
       "Musician                                             0.427213\n",
       "Agricultural_consultant                              0.427058\n",
       "Scientist_research_(maths)                           0.425545\n",
       "Psychotherapist_child                                0.422753\n",
       "Geoscientist                                         0.422714\n",
       "Chartered_public_finance_accountant                  0.420387\n",
       "Private_music_teacher                                0.414996\n",
       "Mining_engineer                                      0.408558\n",
       "Television_film_video_producer                       0.405377\n",
       "Comptroller                                          0.404951\n",
       "Immunologist                                         0.404641\n",
       "Curator                                              0.402469\n",
       "Name: job, dtype: float64"
      ]
     },
     "execution_count": 81,
     "metadata": {},
     "output_type": "execute_result"
    }
   ],
   "source": [
    "threshold_job = 0.4\n",
    "\n",
    "imp_job = job_values[job_values > threshold_job]\n",
    "imp_job"
   ]
  },
  {
   "cell_type": "code",
   "execution_count": 82,
   "metadata": {},
   "outputs": [
    {
     "data": {
      "text/plain": [
       "44"
      ]
     },
     "execution_count": 82,
     "metadata": {},
     "output_type": "execute_result"
    }
   ],
   "source": [
    "imp_job.nunique()"
   ]
  },
  {
   "cell_type": "code",
   "execution_count": 83,
   "metadata": {},
   "outputs": [],
   "source": [
    "df['job'] = np.where(df['job'].isin(imp_job.index), df['job'], 'other')"
   ]
  },
  {
   "cell_type": "code",
   "execution_count": 84,
   "metadata": {},
   "outputs": [
    {
     "data": {
      "text/plain": [
       "45"
      ]
     },
     "execution_count": 84,
     "metadata": {},
     "output_type": "execute_result"
    }
   ],
   "source": [
    "df['job'].nunique()"
   ]
  },
  {
   "cell_type": "code",
   "execution_count": 85,
   "metadata": {},
   "outputs": [
    {
     "data": {
      "text/plain": [
       "667341     Television_film_video_producer\n",
       "1088437                             other\n",
       "534416                              other\n",
       "40637                               other\n",
       "239634                              other\n",
       "                        ...              \n",
       "315300                              other\n",
       "494698                              other\n",
       "614871                              other\n",
       "403886                              other\n",
       "803007                              other\n",
       "Name: job, Length: 2578338, dtype: object"
      ]
     },
     "execution_count": 85,
     "metadata": {},
     "output_type": "execute_result"
    }
   ],
   "source": [
    "# apply other using lambda\n",
    "df['job'].apply(lambda x: 'other' if x not in imp_job.index else x)"
   ]
  },
  {
   "cell_type": "code",
   "execution_count": 86,
   "metadata": {},
   "outputs": [
    {
     "data": {
      "text/plain": [
       "other                                                2024918\n",
       "Materials_engineer                                     18990\n",
       "Exhibition_designer                                    17932\n",
       "Naval_architect                                        17724\n",
       "Film_video_editor                                      17338\n",
       "Surveyor_land_geomatics                                17323\n",
       "Copywriter_advertising                                 14825\n",
       "Trading_standards_officer                              14296\n",
       "Mechanical_engineer                                    14068\n",
       "Audiological_scientist                                 13900\n",
       "Prison_officer                                         13845\n",
       "Quantity_surveyor                                      13835\n",
       "Podiatrist                                             13724\n",
       "Magazine_features_editor                               13484\n",
       "Scientist_audiological                                 13238\n",
       "Financial_trader                                       13046\n",
       "IT_trainer                                             12691\n",
       "Chief_Executive_Officer                                12245\n",
       "Historic_buildings_inspector_conservation_officer      12149\n",
       "Television_production_assistant                        12027\n",
       "Sales_professional_IT                                  11962\n",
       "Secondary_school_teacher                               11878\n",
       "Senior_tax_professional_tax_inspector                  11820\n",
       "Scientist_biomedical                                   11652\n",
       "Financial_adviser                                      11493\n",
       "Energy_engineer                                        11433\n",
       "Environmental_consultant                               11333\n",
       "Paramedic                                              11198\n",
       "Buyer_industrial                                       11182\n",
       "Land_geomatics_surveyor                                11078\n",
       "Building_surveyor                                      11069\n",
       "Early_years_teacher                                    11039\n",
       "Race_relations_officer                                 11030\n",
       "Musician                                               11015\n",
       "Agricultural_consultant                                11011\n",
       "Scientist_research_(maths)                             10972\n",
       "Psychotherapist_child                                  10900\n",
       "Geoscientist                                           10899\n",
       "Chartered_public_finance_accountant                    10839\n",
       "Private_music_teacher                                  10700\n",
       "Mining_engineer                                        10534\n",
       "Television_film_video_producer                         10452\n",
       "Comptroller                                            10441\n",
       "Immunologist                                           10433\n",
       "Curator                                                10377\n",
       "Name: job, dtype: int64"
      ]
     },
     "execution_count": 86,
     "metadata": {},
     "output_type": "execute_result"
    }
   ],
   "source": [
    "df['job'].value_counts()"
   ]
  },
  {
   "cell_type": "code",
   "execution_count": 87,
   "metadata": {},
   "outputs": [
    {
     "data": {
      "text/html": [
       "<div>\n",
       "<style scoped>\n",
       "    .dataframe tbody tr th:only-of-type {\n",
       "        vertical-align: middle;\n",
       "    }\n",
       "\n",
       "    .dataframe tbody tr th {\n",
       "        vertical-align: top;\n",
       "    }\n",
       "\n",
       "    .dataframe thead th {\n",
       "        text-align: right;\n",
       "    }\n",
       "</style>\n",
       "<table border=\"1\" class=\"dataframe\">\n",
       "  <thead>\n",
       "    <tr style=\"text-align: right;\">\n",
       "      <th></th>\n",
       "      <th>trans_date_trans_time</th>\n",
       "      <th>merchant</th>\n",
       "      <th>category</th>\n",
       "      <th>amt</th>\n",
       "      <th>first</th>\n",
       "      <th>last</th>\n",
       "      <th>is_male</th>\n",
       "      <th>city</th>\n",
       "      <th>city_pop</th>\n",
       "      <th>job</th>\n",
       "      <th>dob</th>\n",
       "      <th>is_fraud</th>\n",
       "      <th>new_category</th>\n",
       "      <th>category_pos</th>\n",
       "      <th>category_net</th>\n",
       "      <th>age</th>\n",
       "    </tr>\n",
       "  </thead>\n",
       "  <tbody>\n",
       "    <tr>\n",
       "      <th>667341</th>\n",
       "      <td>2019-10-11 22:30:02</td>\n",
       "      <td>Langworth_Boehm_and_Gulgowski</td>\n",
       "      <td>shopping_net</td>\n",
       "      <td>1041.65</td>\n",
       "      <td>other</td>\n",
       "      <td>other</td>\n",
       "      <td>1</td>\n",
       "      <td>other</td>\n",
       "      <td>732</td>\n",
       "      <td>Television_film_video_producer</td>\n",
       "      <td>1956-12-13</td>\n",
       "      <td>1</td>\n",
       "      <td>shopping</td>\n",
       "      <td>0</td>\n",
       "      <td>1</td>\n",
       "      <td>64</td>\n",
       "    </tr>\n",
       "    <tr>\n",
       "      <th>1088437</th>\n",
       "      <td>2020-03-28 21:00:33</td>\n",
       "      <td>Kuhic_LLC</td>\n",
       "      <td>shopping_net</td>\n",
       "      <td>40.48</td>\n",
       "      <td>Christopher</td>\n",
       "      <td>Johnson</td>\n",
       "      <td>1</td>\n",
       "      <td>other</td>\n",
       "      <td>22930</td>\n",
       "      <td>other</td>\n",
       "      <td>1971-11-26</td>\n",
       "      <td>0</td>\n",
       "      <td>shopping</td>\n",
       "      <td>0</td>\n",
       "      <td>1</td>\n",
       "      <td>49</td>\n",
       "    </tr>\n",
       "  </tbody>\n",
       "</table>\n",
       "</div>"
      ],
      "text/plain": [
       "        trans_date_trans_time                       merchant      category  \\\n",
       "667341    2019-10-11 22:30:02  Langworth_Boehm_and_Gulgowski  shopping_net   \n",
       "1088437   2020-03-28 21:00:33                      Kuhic_LLC  shopping_net   \n",
       "\n",
       "             amt        first     last  is_male   city  city_pop  \\\n",
       "667341   1041.65        other    other        1  other       732   \n",
       "1088437    40.48  Christopher  Johnson        1  other     22930   \n",
       "\n",
       "                                    job         dob  is_fraud new_category  \\\n",
       "667341   Television_film_video_producer  1956-12-13         1     shopping   \n",
       "1088437                           other  1971-11-26         0     shopping   \n",
       "\n",
       "         category_pos  category_net  age  \n",
       "667341              0             1   64  \n",
       "1088437             0             1   49  "
      ]
     },
     "execution_count": 87,
     "metadata": {},
     "output_type": "execute_result"
    }
   ],
   "source": [
    "df.head(2)"
   ]
  },
  {
   "cell_type": "markdown",
   "metadata": {},
   "source": [
    "### Feature Engineering of date & time column"
   ]
  },
  {
   "cell_type": "code",
   "execution_count": 88,
   "metadata": {},
   "outputs": [
    {
     "data": {
      "text/plain": [
       "667341     2019-10-11\n",
       "1088437    2020-03-28\n",
       "534416     2019-08-17\n",
       "40637      2019-01-24\n",
       "239634     2019-04-29\n",
       "              ...    \n",
       "315300     2019-06-01\n",
       "494698     2019-08-03\n",
       "614871     2019-09-18\n",
       "403886     2019-07-02\n",
       "803007     2019-12-05\n",
       "Name: 0, Length: 2578338, dtype: object"
      ]
     },
     "execution_count": 88,
     "metadata": {},
     "output_type": "execute_result"
    }
   ],
   "source": [
    "date = df['trans_date_trans_time'].str.split(' ', expand=True)[0]\n",
    "date"
   ]
  },
  {
   "cell_type": "code",
   "execution_count": 89,
   "metadata": {},
   "outputs": [
    {
     "data": {
      "text/plain": [
       "667341     22:30:02\n",
       "1088437    21:00:33\n",
       "534416     23:48:08\n",
       "40637      21:45:50\n",
       "239634     22:29:01\n",
       "             ...   \n",
       "315300     12:33:07\n",
       "494698     23:45:22\n",
       "614871     09:57:35\n",
       "403886     01:34:47\n",
       "803007     03:36:53\n",
       "Name: 1, Length: 2578338, dtype: object"
      ]
     },
     "execution_count": 89,
     "metadata": {},
     "output_type": "execute_result"
    }
   ],
   "source": [
    "time = df['trans_date_trans_time'].str.split(' ', expand=True)[1]\n",
    "time"
   ]
  },
  {
   "cell_type": "code",
   "execution_count": 90,
   "metadata": {},
   "outputs": [
    {
     "data": {
      "text/plain": [
       "667341     22\n",
       "1088437    21\n",
       "534416     23\n",
       "40637      21\n",
       "239634     22\n",
       "           ..\n",
       "315300     12\n",
       "494698     23\n",
       "614871      9\n",
       "403886      1\n",
       "803007      3\n",
       "Name: trans_hour, Length: 2578338, dtype: int64"
      ]
     },
     "execution_count": 90,
     "metadata": {},
     "output_type": "execute_result"
    }
   ],
   "source": [
    "df['trans_hour'] = time.str.split(':', expand=True)[0].astype('int')\n",
    "df['trans_hour']"
   ]
  },
  {
   "cell_type": "code",
   "execution_count": 91,
   "metadata": {},
   "outputs": [
    {
     "data": {
      "text/plain": [
       "22    396954\n",
       "23    391851\n",
       "1     155319\n",
       "0     150945\n",
       "2     149120\n",
       "3     147384\n",
       "18     79819\n",
       "14     79484\n",
       "19     79060\n",
       "15     78955\n",
       "13     78946\n",
       "17     78868\n",
       "16     78733\n",
       "21     78049\n",
       "12     76629\n",
       "20     75671\n",
       "5      52438\n",
       "7      51732\n",
       "8      50900\n",
       "9      50331\n",
       "4      49569\n",
       "11     49320\n",
       "6      49170\n",
       "10     49091\n",
       "Name: trans_hour, dtype: int64"
      ]
     },
     "execution_count": 91,
     "metadata": {},
     "output_type": "execute_result"
    }
   ],
   "source": [
    "df['trans_hour'].value_counts()"
   ]
  },
  {
   "cell_type": "code",
   "execution_count": 92,
   "metadata": {},
   "outputs": [
    {
     "data": {
      "text/plain": [
       "0    1573019\n",
       "1    1005319\n",
       "Name: trans_is_AM, dtype: int64"
      ]
     },
     "execution_count": 92,
     "metadata": {},
     "output_type": "execute_result"
    }
   ],
   "source": [
    "df['trans_is_AM'] = np.where(df['trans_hour'] < 12, 1, 0)\n",
    "df['trans_is_AM'].value_counts()"
   ]
  },
  {
   "cell_type": "code",
   "execution_count": 93,
   "metadata": {},
   "outputs": [
    {
     "data": {
      "text/plain": [
       "667341     2019\n",
       "1088437    2020\n",
       "534416     2019\n",
       "40637      2019\n",
       "239634     2019\n",
       "           ... \n",
       "315300     2019\n",
       "494698     2019\n",
       "614871     2019\n",
       "403886     2019\n",
       "803007     2019\n",
       "Name: trans_year, Length: 2578338, dtype: int64"
      ]
     },
     "execution_count": 93,
     "metadata": {},
     "output_type": "execute_result"
    }
   ],
   "source": [
    "df['trans_year'] = date.str.split('-', expand=True)[0].astype('int')\n",
    "df['trans_year']"
   ]
  },
  {
   "cell_type": "code",
   "execution_count": 94,
   "metadata": {},
   "outputs": [
    {
     "data": {
      "text/plain": [
       "2019    1816957\n",
       "2020     761381\n",
       "Name: trans_year, dtype: int64"
      ]
     },
     "execution_count": 94,
     "metadata": {},
     "output_type": "execute_result"
    }
   ],
   "source": [
    "df['trans_year'].value_counts()"
   ]
  },
  {
   "cell_type": "code",
   "execution_count": 95,
   "metadata": {},
   "outputs": [],
   "source": [
    "df['trans_month'] = date.str.split('-', expand=True)[1].astype('int')"
   ]
  },
  {
   "cell_type": "code",
   "execution_count": 96,
   "metadata": {},
   "outputs": [
    {
     "data": {
      "text/plain": [
       "5     306838\n",
       "3     304364\n",
       "6     260882\n",
       "4     250549\n",
       "1     249419\n",
       "2     243251\n",
       "12    242550\n",
       "8     152744\n",
       "10    146858\n",
       "7     142639\n",
       "9     141868\n",
       "11    136376\n",
       "Name: trans_month, dtype: int64"
      ]
     },
     "execution_count": 96,
     "metadata": {},
     "output_type": "execute_result"
    }
   ],
   "source": [
    "df['trans_month'].value_counts()"
   ]
  },
  {
   "cell_type": "code",
   "execution_count": 97,
   "metadata": {},
   "outputs": [],
   "source": [
    "df['trans_day'] = date.str.split('-', expand=True)[2].astype('int')"
   ]
  },
  {
   "cell_type": "code",
   "execution_count": 98,
   "metadata": {},
   "outputs": [
    {
     "data": {
      "text/plain": [
       "20    100288\n",
       "12     97698\n",
       "11     94238\n",
       "19     93689\n",
       "28     93015\n",
       "8      90747\n",
       "14     89922\n",
       "2      89788\n",
       "17     89556\n",
       "3      88102\n",
       "15     86753\n",
       "7      85533\n",
       "10     85470\n",
       "25     85183\n",
       "29     83774\n",
       "1      82781\n",
       "13     82387\n",
       "22     81493\n",
       "23     80797\n",
       "16     80648\n",
       "21     79861\n",
       "4      79433\n",
       "18     79314\n",
       "30     78167\n",
       "24     76238\n",
       "26     76015\n",
       "9      74903\n",
       "27     74861\n",
       "5      72228\n",
       "6      68546\n",
       "31     56910\n",
       "Name: trans_day, dtype: int64"
      ]
     },
     "execution_count": 98,
     "metadata": {},
     "output_type": "execute_result"
    }
   ],
   "source": [
    "df['trans_day'].value_counts()"
   ]
  },
  {
   "cell_type": "code",
   "execution_count": 99,
   "metadata": {},
   "outputs": [
    {
     "data": {
      "text/html": [
       "<div>\n",
       "<style scoped>\n",
       "    .dataframe tbody tr th:only-of-type {\n",
       "        vertical-align: middle;\n",
       "    }\n",
       "\n",
       "    .dataframe tbody tr th {\n",
       "        vertical-align: top;\n",
       "    }\n",
       "\n",
       "    .dataframe thead th {\n",
       "        text-align: right;\n",
       "    }\n",
       "</style>\n",
       "<table border=\"1\" class=\"dataframe\">\n",
       "  <thead>\n",
       "    <tr style=\"text-align: right;\">\n",
       "      <th></th>\n",
       "      <th>trans_date_trans_time</th>\n",
       "      <th>merchant</th>\n",
       "      <th>category</th>\n",
       "      <th>amt</th>\n",
       "      <th>first</th>\n",
       "      <th>last</th>\n",
       "      <th>is_male</th>\n",
       "      <th>city</th>\n",
       "      <th>city_pop</th>\n",
       "      <th>job</th>\n",
       "      <th>...</th>\n",
       "      <th>is_fraud</th>\n",
       "      <th>new_category</th>\n",
       "      <th>category_pos</th>\n",
       "      <th>category_net</th>\n",
       "      <th>age</th>\n",
       "      <th>trans_hour</th>\n",
       "      <th>trans_is_AM</th>\n",
       "      <th>trans_year</th>\n",
       "      <th>trans_month</th>\n",
       "      <th>trans_day</th>\n",
       "    </tr>\n",
       "  </thead>\n",
       "  <tbody>\n",
       "    <tr>\n",
       "      <th>667341</th>\n",
       "      <td>2019-10-11 22:30:02</td>\n",
       "      <td>Langworth_Boehm_and_Gulgowski</td>\n",
       "      <td>shopping_net</td>\n",
       "      <td>1041.65</td>\n",
       "      <td>other</td>\n",
       "      <td>other</td>\n",
       "      <td>1</td>\n",
       "      <td>other</td>\n",
       "      <td>732</td>\n",
       "      <td>Television_film_video_producer</td>\n",
       "      <td>...</td>\n",
       "      <td>1</td>\n",
       "      <td>shopping</td>\n",
       "      <td>0</td>\n",
       "      <td>1</td>\n",
       "      <td>64</td>\n",
       "      <td>22</td>\n",
       "      <td>0</td>\n",
       "      <td>2019</td>\n",
       "      <td>10</td>\n",
       "      <td>11</td>\n",
       "    </tr>\n",
       "    <tr>\n",
       "      <th>1088437</th>\n",
       "      <td>2020-03-28 21:00:33</td>\n",
       "      <td>Kuhic_LLC</td>\n",
       "      <td>shopping_net</td>\n",
       "      <td>40.48</td>\n",
       "      <td>Christopher</td>\n",
       "      <td>Johnson</td>\n",
       "      <td>1</td>\n",
       "      <td>other</td>\n",
       "      <td>22930</td>\n",
       "      <td>other</td>\n",
       "      <td>...</td>\n",
       "      <td>0</td>\n",
       "      <td>shopping</td>\n",
       "      <td>0</td>\n",
       "      <td>1</td>\n",
       "      <td>49</td>\n",
       "      <td>21</td>\n",
       "      <td>0</td>\n",
       "      <td>2020</td>\n",
       "      <td>3</td>\n",
       "      <td>28</td>\n",
       "    </tr>\n",
       "    <tr>\n",
       "      <th>534416</th>\n",
       "      <td>2019-08-17 23:48:08</td>\n",
       "      <td>other</td>\n",
       "      <td>misc_net</td>\n",
       "      <td>880.19</td>\n",
       "      <td>Christopher</td>\n",
       "      <td>other</td>\n",
       "      <td>1</td>\n",
       "      <td>Lakeland</td>\n",
       "      <td>237282</td>\n",
       "      <td>other</td>\n",
       "      <td>...</td>\n",
       "      <td>1</td>\n",
       "      <td>misc</td>\n",
       "      <td>0</td>\n",
       "      <td>1</td>\n",
       "      <td>59</td>\n",
       "      <td>23</td>\n",
       "      <td>0</td>\n",
       "      <td>2019</td>\n",
       "      <td>8</td>\n",
       "      <td>17</td>\n",
       "    </tr>\n",
       "    <tr>\n",
       "      <th>40637</th>\n",
       "      <td>2019-01-24 21:45:50</td>\n",
       "      <td>other</td>\n",
       "      <td>home</td>\n",
       "      <td>106.03</td>\n",
       "      <td>other</td>\n",
       "      <td>other</td>\n",
       "      <td>0</td>\n",
       "      <td>other</td>\n",
       "      <td>10256</td>\n",
       "      <td>other</td>\n",
       "      <td>...</td>\n",
       "      <td>0</td>\n",
       "      <td>home</td>\n",
       "      <td>0</td>\n",
       "      <td>0</td>\n",
       "      <td>53</td>\n",
       "      <td>21</td>\n",
       "      <td>0</td>\n",
       "      <td>2019</td>\n",
       "      <td>1</td>\n",
       "      <td>24</td>\n",
       "    </tr>\n",
       "    <tr>\n",
       "      <th>239634</th>\n",
       "      <td>2019-04-29 22:29:01</td>\n",
       "      <td>other</td>\n",
       "      <td>misc_net</td>\n",
       "      <td>882.64</td>\n",
       "      <td>Robert</td>\n",
       "      <td>other</td>\n",
       "      <td>1</td>\n",
       "      <td>other</td>\n",
       "      <td>2135</td>\n",
       "      <td>other</td>\n",
       "      <td>...</td>\n",
       "      <td>1</td>\n",
       "      <td>misc</td>\n",
       "      <td>0</td>\n",
       "      <td>1</td>\n",
       "      <td>60</td>\n",
       "      <td>22</td>\n",
       "      <td>0</td>\n",
       "      <td>2019</td>\n",
       "      <td>4</td>\n",
       "      <td>29</td>\n",
       "    </tr>\n",
       "  </tbody>\n",
       "</table>\n",
       "<p>5 rows × 21 columns</p>\n",
       "</div>"
      ],
      "text/plain": [
       "        trans_date_trans_time                       merchant      category  \\\n",
       "667341    2019-10-11 22:30:02  Langworth_Boehm_and_Gulgowski  shopping_net   \n",
       "1088437   2020-03-28 21:00:33                      Kuhic_LLC  shopping_net   \n",
       "534416    2019-08-17 23:48:08                          other      misc_net   \n",
       "40637     2019-01-24 21:45:50                          other          home   \n",
       "239634    2019-04-29 22:29:01                          other      misc_net   \n",
       "\n",
       "             amt        first     last  is_male      city  city_pop  \\\n",
       "667341   1041.65        other    other        1     other       732   \n",
       "1088437    40.48  Christopher  Johnson        1     other     22930   \n",
       "534416    880.19  Christopher    other        1  Lakeland    237282   \n",
       "40637     106.03        other    other        0     other     10256   \n",
       "239634    882.64       Robert    other        1     other      2135   \n",
       "\n",
       "                                    job  ... is_fraud  new_category  \\\n",
       "667341   Television_film_video_producer  ...        1      shopping   \n",
       "1088437                           other  ...        0      shopping   \n",
       "534416                            other  ...        1          misc   \n",
       "40637                             other  ...        0          home   \n",
       "239634                            other  ...        1          misc   \n",
       "\n",
       "        category_pos  category_net  age  trans_hour  trans_is_AM  trans_year  \\\n",
       "667341             0             1   64          22            0        2019   \n",
       "1088437            0             1   49          21            0        2020   \n",
       "534416             0             1   59          23            0        2019   \n",
       "40637              0             0   53          21            0        2019   \n",
       "239634             0             1   60          22            0        2019   \n",
       "\n",
       "         trans_month  trans_day  \n",
       "667341            10         11  \n",
       "1088437            3         28  \n",
       "534416             8         17  \n",
       "40637              1         24  \n",
       "239634             4         29  \n",
       "\n",
       "[5 rows x 21 columns]"
      ]
     },
     "execution_count": 99,
     "metadata": {},
     "output_type": "execute_result"
    }
   ],
   "source": [
    "df.head()"
   ]
  },
  {
   "cell_type": "code",
   "execution_count": 100,
   "metadata": {},
   "outputs": [],
   "source": [
    "df.drop(['trans_date_trans_time', 'dob'], axis = 1, inplace = True)"
   ]
  },
  {
   "cell_type": "code",
   "execution_count": 101,
   "metadata": {},
   "outputs": [
    {
     "data": {
      "text/plain": [
       "merchant         object\n",
       "category         object\n",
       "amt             float64\n",
       "first            object\n",
       "last             object\n",
       "is_male           int64\n",
       "city             object\n",
       "city_pop          int64\n",
       "job              object\n",
       "is_fraud          int64\n",
       "new_category     object\n",
       "category_pos      int64\n",
       "category_net      int64\n",
       "age               int64\n",
       "trans_hour        int64\n",
       "trans_is_AM       int64\n",
       "trans_year        int64\n",
       "trans_month       int64\n",
       "trans_day         int64\n",
       "dtype: object"
      ]
     },
     "execution_count": 101,
     "metadata": {},
     "output_type": "execute_result"
    }
   ],
   "source": [
    "df.dtypes"
   ]
  },
  {
   "cell_type": "markdown",
   "metadata": {},
   "source": [
    "### One hot encoding:"
   ]
  },
  {
   "cell_type": "code",
   "execution_count": 102,
   "metadata": {},
   "outputs": [],
   "source": [
    "cat_features = [col for col in df.columns if df[col].dtype == 'object']"
   ]
  },
  {
   "cell_type": "code",
   "execution_count": 103,
   "metadata": {},
   "outputs": [
    {
     "data": {
      "text/plain": [
       "['merchant', 'category', 'first', 'last', 'city', 'job', 'new_category']"
      ]
     },
     "execution_count": 103,
     "metadata": {},
     "output_type": "execute_result"
    }
   ],
   "source": [
    "cat_features"
   ]
  },
  {
   "cell_type": "code",
   "execution_count": 104,
   "metadata": {},
   "outputs": [
    {
     "name": "stdout",
     "output_type": "stream",
     "text": [
      "merchant has total 148 unique features\n",
      "category has total 14 unique features\n",
      "first has total 47 unique features\n",
      "last has total 33 unique features\n",
      "city has total 52 unique features\n",
      "job has total 45 unique features\n",
      "new_category has total 11 unique features\n"
     ]
    }
   ],
   "source": [
    "for feature in cat_features:\n",
    "    print(f'{feature} has total {df[feature].nunique()} unique features')"
   ]
  },
  {
   "cell_type": "code",
   "execution_count": 105,
   "metadata": {},
   "outputs": [
    {
     "data": {
      "text/html": [
       "<div>\n",
       "<style scoped>\n",
       "    .dataframe tbody tr th:only-of-type {\n",
       "        vertical-align: middle;\n",
       "    }\n",
       "\n",
       "    .dataframe tbody tr th {\n",
       "        vertical-align: top;\n",
       "    }\n",
       "\n",
       "    .dataframe thead th {\n",
       "        text-align: right;\n",
       "    }\n",
       "</style>\n",
       "<table border=\"1\" class=\"dataframe\">\n",
       "  <thead>\n",
       "    <tr style=\"text-align: right;\">\n",
       "      <th></th>\n",
       "      <th>merchant</th>\n",
       "      <th>category</th>\n",
       "      <th>first</th>\n",
       "      <th>last</th>\n",
       "      <th>city</th>\n",
       "      <th>job</th>\n",
       "      <th>new_category</th>\n",
       "    </tr>\n",
       "  </thead>\n",
       "  <tbody>\n",
       "    <tr>\n",
       "      <th>667341</th>\n",
       "      <td>Langworth_Boehm_and_Gulgowski</td>\n",
       "      <td>shopping_net</td>\n",
       "      <td>other</td>\n",
       "      <td>other</td>\n",
       "      <td>other</td>\n",
       "      <td>Television_film_video_producer</td>\n",
       "      <td>shopping</td>\n",
       "    </tr>\n",
       "    <tr>\n",
       "      <th>1088437</th>\n",
       "      <td>Kuhic_LLC</td>\n",
       "      <td>shopping_net</td>\n",
       "      <td>Christopher</td>\n",
       "      <td>Johnson</td>\n",
       "      <td>other</td>\n",
       "      <td>other</td>\n",
       "      <td>shopping</td>\n",
       "    </tr>\n",
       "    <tr>\n",
       "      <th>534416</th>\n",
       "      <td>other</td>\n",
       "      <td>misc_net</td>\n",
       "      <td>Christopher</td>\n",
       "      <td>other</td>\n",
       "      <td>Lakeland</td>\n",
       "      <td>other</td>\n",
       "      <td>misc</td>\n",
       "    </tr>\n",
       "    <tr>\n",
       "      <th>40637</th>\n",
       "      <td>other</td>\n",
       "      <td>home</td>\n",
       "      <td>other</td>\n",
       "      <td>other</td>\n",
       "      <td>other</td>\n",
       "      <td>other</td>\n",
       "      <td>home</td>\n",
       "    </tr>\n",
       "    <tr>\n",
       "      <th>239634</th>\n",
       "      <td>other</td>\n",
       "      <td>misc_net</td>\n",
       "      <td>Robert</td>\n",
       "      <td>other</td>\n",
       "      <td>other</td>\n",
       "      <td>other</td>\n",
       "      <td>misc</td>\n",
       "    </tr>\n",
       "  </tbody>\n",
       "</table>\n",
       "</div>"
      ],
      "text/plain": [
       "                              merchant      category        first     last  \\\n",
       "667341   Langworth_Boehm_and_Gulgowski  shopping_net        other    other   \n",
       "1088437                      Kuhic_LLC  shopping_net  Christopher  Johnson   \n",
       "534416                           other      misc_net  Christopher    other   \n",
       "40637                            other          home        other    other   \n",
       "239634                           other      misc_net       Robert    other   \n",
       "\n",
       "             city                             job new_category  \n",
       "667341      other  Television_film_video_producer     shopping  \n",
       "1088437     other                           other     shopping  \n",
       "534416   Lakeland                           other         misc  \n",
       "40637       other                           other         home  \n",
       "239634      other                           other         misc  "
      ]
     },
     "execution_count": 105,
     "metadata": {},
     "output_type": "execute_result"
    }
   ],
   "source": [
    "df[cat_features].head()"
   ]
  },
  {
   "cell_type": "code",
   "execution_count": 106,
   "metadata": {},
   "outputs": [],
   "source": [
    "data_cat = df[cat_features]"
   ]
  },
  {
   "cell_type": "code",
   "execution_count": 107,
   "metadata": {},
   "outputs": [],
   "source": [
    "for col in cat_features:\n",
    "    col_encoded = pd.get_dummies(df[col], prefix=col, drop_first=True)\n",
    "    data_cat = pd.concat([data_cat, col_encoded], axis = 1)\n",
    "    data_cat.drop(col, axis = 1, inplace = True)"
   ]
  },
  {
   "cell_type": "code",
   "execution_count": 108,
   "metadata": {},
   "outputs": [
    {
     "data": {
      "text/plain": [
       "(2578338, 343)"
      ]
     },
     "execution_count": 108,
     "metadata": {},
     "output_type": "execute_result"
    }
   ],
   "source": [
    "data_cat.shape"
   ]
  },
  {
   "cell_type": "code",
   "execution_count": 109,
   "metadata": {},
   "outputs": [
    {
     "data": {
      "text/html": [
       "<div>\n",
       "<style scoped>\n",
       "    .dataframe tbody tr th:only-of-type {\n",
       "        vertical-align: middle;\n",
       "    }\n",
       "\n",
       "    .dataframe tbody tr th {\n",
       "        vertical-align: top;\n",
       "    }\n",
       "\n",
       "    .dataframe thead th {\n",
       "        text-align: right;\n",
       "    }\n",
       "</style>\n",
       "<table border=\"1\" class=\"dataframe\">\n",
       "  <thead>\n",
       "    <tr style=\"text-align: right;\">\n",
       "      <th></th>\n",
       "      <th>merchant_Ankunding_LLC</th>\n",
       "      <th>merchant_Auer-Mosciski</th>\n",
       "      <th>merchant_Auer-West</th>\n",
       "      <th>merchant_Bahringer_Schoen_and_Corkery</th>\n",
       "      <th>merchant_Bailey-Morar</th>\n",
       "      <th>merchant_Barrows_PLC</th>\n",
       "      <th>merchant_Bartoletti-Wunsch</th>\n",
       "      <th>merchant_Barton_Inc</th>\n",
       "      <th>merchant_Bashirian_Group</th>\n",
       "      <th>merchant_Bauch-Raynor</th>\n",
       "      <th>...</th>\n",
       "      <th>new_category_food_dining</th>\n",
       "      <th>new_category_gas_transport</th>\n",
       "      <th>new_category_grocery</th>\n",
       "      <th>new_category_health_fitness</th>\n",
       "      <th>new_category_home</th>\n",
       "      <th>new_category_kids_pets</th>\n",
       "      <th>new_category_misc</th>\n",
       "      <th>new_category_personal_care</th>\n",
       "      <th>new_category_shopping</th>\n",
       "      <th>new_category_travel</th>\n",
       "    </tr>\n",
       "  </thead>\n",
       "  <tbody>\n",
       "    <tr>\n",
       "      <th>667341</th>\n",
       "      <td>0</td>\n",
       "      <td>0</td>\n",
       "      <td>0</td>\n",
       "      <td>0</td>\n",
       "      <td>0</td>\n",
       "      <td>0</td>\n",
       "      <td>0</td>\n",
       "      <td>0</td>\n",
       "      <td>0</td>\n",
       "      <td>0</td>\n",
       "      <td>...</td>\n",
       "      <td>0</td>\n",
       "      <td>0</td>\n",
       "      <td>0</td>\n",
       "      <td>0</td>\n",
       "      <td>0</td>\n",
       "      <td>0</td>\n",
       "      <td>0</td>\n",
       "      <td>0</td>\n",
       "      <td>1</td>\n",
       "      <td>0</td>\n",
       "    </tr>\n",
       "    <tr>\n",
       "      <th>1088437</th>\n",
       "      <td>0</td>\n",
       "      <td>0</td>\n",
       "      <td>0</td>\n",
       "      <td>0</td>\n",
       "      <td>0</td>\n",
       "      <td>0</td>\n",
       "      <td>0</td>\n",
       "      <td>0</td>\n",
       "      <td>0</td>\n",
       "      <td>0</td>\n",
       "      <td>...</td>\n",
       "      <td>0</td>\n",
       "      <td>0</td>\n",
       "      <td>0</td>\n",
       "      <td>0</td>\n",
       "      <td>0</td>\n",
       "      <td>0</td>\n",
       "      <td>0</td>\n",
       "      <td>0</td>\n",
       "      <td>1</td>\n",
       "      <td>0</td>\n",
       "    </tr>\n",
       "    <tr>\n",
       "      <th>534416</th>\n",
       "      <td>0</td>\n",
       "      <td>0</td>\n",
       "      <td>0</td>\n",
       "      <td>0</td>\n",
       "      <td>0</td>\n",
       "      <td>0</td>\n",
       "      <td>0</td>\n",
       "      <td>0</td>\n",
       "      <td>0</td>\n",
       "      <td>0</td>\n",
       "      <td>...</td>\n",
       "      <td>0</td>\n",
       "      <td>0</td>\n",
       "      <td>0</td>\n",
       "      <td>0</td>\n",
       "      <td>0</td>\n",
       "      <td>0</td>\n",
       "      <td>1</td>\n",
       "      <td>0</td>\n",
       "      <td>0</td>\n",
       "      <td>0</td>\n",
       "    </tr>\n",
       "    <tr>\n",
       "      <th>40637</th>\n",
       "      <td>0</td>\n",
       "      <td>0</td>\n",
       "      <td>0</td>\n",
       "      <td>0</td>\n",
       "      <td>0</td>\n",
       "      <td>0</td>\n",
       "      <td>0</td>\n",
       "      <td>0</td>\n",
       "      <td>0</td>\n",
       "      <td>0</td>\n",
       "      <td>...</td>\n",
       "      <td>0</td>\n",
       "      <td>0</td>\n",
       "      <td>0</td>\n",
       "      <td>0</td>\n",
       "      <td>1</td>\n",
       "      <td>0</td>\n",
       "      <td>0</td>\n",
       "      <td>0</td>\n",
       "      <td>0</td>\n",
       "      <td>0</td>\n",
       "    </tr>\n",
       "    <tr>\n",
       "      <th>239634</th>\n",
       "      <td>0</td>\n",
       "      <td>0</td>\n",
       "      <td>0</td>\n",
       "      <td>0</td>\n",
       "      <td>0</td>\n",
       "      <td>0</td>\n",
       "      <td>0</td>\n",
       "      <td>0</td>\n",
       "      <td>0</td>\n",
       "      <td>0</td>\n",
       "      <td>...</td>\n",
       "      <td>0</td>\n",
       "      <td>0</td>\n",
       "      <td>0</td>\n",
       "      <td>0</td>\n",
       "      <td>0</td>\n",
       "      <td>0</td>\n",
       "      <td>1</td>\n",
       "      <td>0</td>\n",
       "      <td>0</td>\n",
       "      <td>0</td>\n",
       "    </tr>\n",
       "  </tbody>\n",
       "</table>\n",
       "<p>5 rows × 343 columns</p>\n",
       "</div>"
      ],
      "text/plain": [
       "         merchant_Ankunding_LLC  merchant_Auer-Mosciski  merchant_Auer-West  \\\n",
       "667341                        0                       0                   0   \n",
       "1088437                       0                       0                   0   \n",
       "534416                        0                       0                   0   \n",
       "40637                         0                       0                   0   \n",
       "239634                        0                       0                   0   \n",
       "\n",
       "         merchant_Bahringer_Schoen_and_Corkery  merchant_Bailey-Morar  \\\n",
       "667341                                       0                      0   \n",
       "1088437                                      0                      0   \n",
       "534416                                       0                      0   \n",
       "40637                                        0                      0   \n",
       "239634                                       0                      0   \n",
       "\n",
       "         merchant_Barrows_PLC  merchant_Bartoletti-Wunsch  \\\n",
       "667341                      0                           0   \n",
       "1088437                     0                           0   \n",
       "534416                      0                           0   \n",
       "40637                       0                           0   \n",
       "239634                      0                           0   \n",
       "\n",
       "         merchant_Barton_Inc  merchant_Bashirian_Group  merchant_Bauch-Raynor  \\\n",
       "667341                     0                         0                      0   \n",
       "1088437                    0                         0                      0   \n",
       "534416                     0                         0                      0   \n",
       "40637                      0                         0                      0   \n",
       "239634                     0                         0                      0   \n",
       "\n",
       "         ...  new_category_food_dining  new_category_gas_transport  \\\n",
       "667341   ...                         0                           0   \n",
       "1088437  ...                         0                           0   \n",
       "534416   ...                         0                           0   \n",
       "40637    ...                         0                           0   \n",
       "239634   ...                         0                           0   \n",
       "\n",
       "         new_category_grocery  new_category_health_fitness  new_category_home  \\\n",
       "667341                      0                            0                  0   \n",
       "1088437                     0                            0                  0   \n",
       "534416                      0                            0                  0   \n",
       "40637                       0                            0                  1   \n",
       "239634                      0                            0                  0   \n",
       "\n",
       "         new_category_kids_pets  new_category_misc  \\\n",
       "667341                        0                  0   \n",
       "1088437                       0                  0   \n",
       "534416                        0                  1   \n",
       "40637                         0                  0   \n",
       "239634                        0                  1   \n",
       "\n",
       "         new_category_personal_care  new_category_shopping  \\\n",
       "667341                            0                      1   \n",
       "1088437                           0                      1   \n",
       "534416                            0                      0   \n",
       "40637                             0                      0   \n",
       "239634                            0                      0   \n",
       "\n",
       "         new_category_travel  \n",
       "667341                     0  \n",
       "1088437                    0  \n",
       "534416                     0  \n",
       "40637                      0  \n",
       "239634                     0  \n",
       "\n",
       "[5 rows x 343 columns]"
      ]
     },
     "execution_count": 109,
     "metadata": {},
     "output_type": "execute_result"
    }
   ],
   "source": [
    "data_cat.head()"
   ]
  },
  {
   "cell_type": "code",
   "execution_count": 110,
   "metadata": {},
   "outputs": [],
   "source": [
    "num_features = [col for col in df.columns if df[col].dtype != 'object']"
   ]
  },
  {
   "cell_type": "code",
   "execution_count": 111,
   "metadata": {},
   "outputs": [
    {
     "data": {
      "text/plain": [
       "['amt',\n",
       " 'is_male',\n",
       " 'city_pop',\n",
       " 'is_fraud',\n",
       " 'category_pos',\n",
       " 'category_net',\n",
       " 'age',\n",
       " 'trans_hour',\n",
       " 'trans_is_AM',\n",
       " 'trans_year',\n",
       " 'trans_month',\n",
       " 'trans_day']"
      ]
     },
     "execution_count": 111,
     "metadata": {},
     "output_type": "execute_result"
    }
   ],
   "source": [
    "num_features"
   ]
  },
  {
   "cell_type": "code",
   "execution_count": 112,
   "metadata": {},
   "outputs": [],
   "source": [
    "# concat\n",
    "df_final = pd.concat([df.loc[:,num_features], data_cat], axis = 1)"
   ]
  },
  {
   "cell_type": "code",
   "execution_count": 113,
   "metadata": {},
   "outputs": [
    {
     "data": {
      "text/html": [
       "<div>\n",
       "<style scoped>\n",
       "    .dataframe tbody tr th:only-of-type {\n",
       "        vertical-align: middle;\n",
       "    }\n",
       "\n",
       "    .dataframe tbody tr th {\n",
       "        vertical-align: top;\n",
       "    }\n",
       "\n",
       "    .dataframe thead th {\n",
       "        text-align: right;\n",
       "    }\n",
       "</style>\n",
       "<table border=\"1\" class=\"dataframe\">\n",
       "  <thead>\n",
       "    <tr style=\"text-align: right;\">\n",
       "      <th></th>\n",
       "      <th>amt</th>\n",
       "      <th>is_male</th>\n",
       "      <th>city_pop</th>\n",
       "      <th>is_fraud</th>\n",
       "      <th>category_pos</th>\n",
       "      <th>category_net</th>\n",
       "      <th>age</th>\n",
       "      <th>trans_hour</th>\n",
       "      <th>trans_is_AM</th>\n",
       "      <th>trans_year</th>\n",
       "      <th>...</th>\n",
       "      <th>new_category_food_dining</th>\n",
       "      <th>new_category_gas_transport</th>\n",
       "      <th>new_category_grocery</th>\n",
       "      <th>new_category_health_fitness</th>\n",
       "      <th>new_category_home</th>\n",
       "      <th>new_category_kids_pets</th>\n",
       "      <th>new_category_misc</th>\n",
       "      <th>new_category_personal_care</th>\n",
       "      <th>new_category_shopping</th>\n",
       "      <th>new_category_travel</th>\n",
       "    </tr>\n",
       "  </thead>\n",
       "  <tbody>\n",
       "    <tr>\n",
       "      <th>667341</th>\n",
       "      <td>1041.65</td>\n",
       "      <td>1</td>\n",
       "      <td>732</td>\n",
       "      <td>1</td>\n",
       "      <td>0</td>\n",
       "      <td>1</td>\n",
       "      <td>64</td>\n",
       "      <td>22</td>\n",
       "      <td>0</td>\n",
       "      <td>2019</td>\n",
       "      <td>...</td>\n",
       "      <td>0</td>\n",
       "      <td>0</td>\n",
       "      <td>0</td>\n",
       "      <td>0</td>\n",
       "      <td>0</td>\n",
       "      <td>0</td>\n",
       "      <td>0</td>\n",
       "      <td>0</td>\n",
       "      <td>1</td>\n",
       "      <td>0</td>\n",
       "    </tr>\n",
       "    <tr>\n",
       "      <th>1088437</th>\n",
       "      <td>40.48</td>\n",
       "      <td>1</td>\n",
       "      <td>22930</td>\n",
       "      <td>0</td>\n",
       "      <td>0</td>\n",
       "      <td>1</td>\n",
       "      <td>49</td>\n",
       "      <td>21</td>\n",
       "      <td>0</td>\n",
       "      <td>2020</td>\n",
       "      <td>...</td>\n",
       "      <td>0</td>\n",
       "      <td>0</td>\n",
       "      <td>0</td>\n",
       "      <td>0</td>\n",
       "      <td>0</td>\n",
       "      <td>0</td>\n",
       "      <td>0</td>\n",
       "      <td>0</td>\n",
       "      <td>1</td>\n",
       "      <td>0</td>\n",
       "    </tr>\n",
       "    <tr>\n",
       "      <th>534416</th>\n",
       "      <td>880.19</td>\n",
       "      <td>1</td>\n",
       "      <td>237282</td>\n",
       "      <td>1</td>\n",
       "      <td>0</td>\n",
       "      <td>1</td>\n",
       "      <td>59</td>\n",
       "      <td>23</td>\n",
       "      <td>0</td>\n",
       "      <td>2019</td>\n",
       "      <td>...</td>\n",
       "      <td>0</td>\n",
       "      <td>0</td>\n",
       "      <td>0</td>\n",
       "      <td>0</td>\n",
       "      <td>0</td>\n",
       "      <td>0</td>\n",
       "      <td>1</td>\n",
       "      <td>0</td>\n",
       "      <td>0</td>\n",
       "      <td>0</td>\n",
       "    </tr>\n",
       "    <tr>\n",
       "      <th>40637</th>\n",
       "      <td>106.03</td>\n",
       "      <td>0</td>\n",
       "      <td>10256</td>\n",
       "      <td>0</td>\n",
       "      <td>0</td>\n",
       "      <td>0</td>\n",
       "      <td>53</td>\n",
       "      <td>21</td>\n",
       "      <td>0</td>\n",
       "      <td>2019</td>\n",
       "      <td>...</td>\n",
       "      <td>0</td>\n",
       "      <td>0</td>\n",
       "      <td>0</td>\n",
       "      <td>0</td>\n",
       "      <td>1</td>\n",
       "      <td>0</td>\n",
       "      <td>0</td>\n",
       "      <td>0</td>\n",
       "      <td>0</td>\n",
       "      <td>0</td>\n",
       "    </tr>\n",
       "    <tr>\n",
       "      <th>239634</th>\n",
       "      <td>882.64</td>\n",
       "      <td>1</td>\n",
       "      <td>2135</td>\n",
       "      <td>1</td>\n",
       "      <td>0</td>\n",
       "      <td>1</td>\n",
       "      <td>60</td>\n",
       "      <td>22</td>\n",
       "      <td>0</td>\n",
       "      <td>2019</td>\n",
       "      <td>...</td>\n",
       "      <td>0</td>\n",
       "      <td>0</td>\n",
       "      <td>0</td>\n",
       "      <td>0</td>\n",
       "      <td>0</td>\n",
       "      <td>0</td>\n",
       "      <td>1</td>\n",
       "      <td>0</td>\n",
       "      <td>0</td>\n",
       "      <td>0</td>\n",
       "    </tr>\n",
       "  </tbody>\n",
       "</table>\n",
       "<p>5 rows × 355 columns</p>\n",
       "</div>"
      ],
      "text/plain": [
       "             amt  is_male  city_pop  is_fraud  category_pos  category_net  \\\n",
       "667341   1041.65        1       732         1             0             1   \n",
       "1088437    40.48        1     22930         0             0             1   \n",
       "534416    880.19        1    237282         1             0             1   \n",
       "40637     106.03        0     10256         0             0             0   \n",
       "239634    882.64        1      2135         1             0             1   \n",
       "\n",
       "         age  trans_hour  trans_is_AM  trans_year  ...  \\\n",
       "667341    64          22            0        2019  ...   \n",
       "1088437   49          21            0        2020  ...   \n",
       "534416    59          23            0        2019  ...   \n",
       "40637     53          21            0        2019  ...   \n",
       "239634    60          22            0        2019  ...   \n",
       "\n",
       "         new_category_food_dining  new_category_gas_transport  \\\n",
       "667341                          0                           0   \n",
       "1088437                         0                           0   \n",
       "534416                          0                           0   \n",
       "40637                           0                           0   \n",
       "239634                          0                           0   \n",
       "\n",
       "         new_category_grocery  new_category_health_fitness  new_category_home  \\\n",
       "667341                      0                            0                  0   \n",
       "1088437                     0                            0                  0   \n",
       "534416                      0                            0                  0   \n",
       "40637                       0                            0                  1   \n",
       "239634                      0                            0                  0   \n",
       "\n",
       "         new_category_kids_pets  new_category_misc  \\\n",
       "667341                        0                  0   \n",
       "1088437                       0                  0   \n",
       "534416                        0                  1   \n",
       "40637                         0                  0   \n",
       "239634                        0                  1   \n",
       "\n",
       "         new_category_personal_care  new_category_shopping  \\\n",
       "667341                            0                      1   \n",
       "1088437                           0                      1   \n",
       "534416                            0                      0   \n",
       "40637                             0                      0   \n",
       "239634                            0                      0   \n",
       "\n",
       "         new_category_travel  \n",
       "667341                     0  \n",
       "1088437                    0  \n",
       "534416                     0  \n",
       "40637                      0  \n",
       "239634                     0  \n",
       "\n",
       "[5 rows x 355 columns]"
      ]
     },
     "execution_count": 113,
     "metadata": {},
     "output_type": "execute_result"
    }
   ],
   "source": [
    "df_final.head()"
   ]
  },
  {
   "cell_type": "markdown",
   "metadata": {},
   "source": [
    "### Assign features to X and y"
   ]
  },
  {
   "cell_type": "code",
   "execution_count": 114,
   "metadata": {},
   "outputs": [],
   "source": [
    "X = df_final.drop('is_fraud', axis = 1)\n",
    "y = df_final['is_fraud']"
   ]
  },
  {
   "cell_type": "code",
   "execution_count": 115,
   "metadata": {},
   "outputs": [],
   "source": [
    "# X = df_upsampled.drop('is_fraud', axis = 1)\n",
    "# y = df_upsampled['is_fraud']"
   ]
  },
  {
   "cell_type": "code",
   "execution_count": 116,
   "metadata": {},
   "outputs": [],
   "source": [
    "# split data into new train and validation\n",
    "from sklearn.model_selection import train_test_split\n",
    "X_train, X_test, y_train, y_test = train_test_split(X,\n",
    "                                                    y,\n",
    "                                                    test_size = 0.2,\n",
    "                                                    random_state=42, stratify = y)"
   ]
  },
  {
   "cell_type": "markdown",
   "metadata": {},
   "source": [
    "### Models"
   ]
  },
  {
   "cell_type": "code",
   "execution_count": 117,
   "metadata": {},
   "outputs": [],
   "source": [
    "from sklearn.ensemble import RandomForestClassifier\n",
    "from sklearn.tree import DecisionTreeClassifier\n",
    "from sklearn.neighbors import KNeighborsClassifier\n",
    "from sklearn.naive_bayes import GaussianNB\n",
    "from sklearn.svm import SVC\n",
    "from xgboost import XGBClassifier\n",
    "from sklearn.linear_model import LogisticRegression"
   ]
  },
  {
   "cell_type": "code",
   "execution_count": 118,
   "metadata": {},
   "outputs": [],
   "source": [
    "from sklearn.pipeline import Pipeline\n",
    "from sklearn.model_selection import GridSearchCV\n",
    "from sklearn.preprocessing import StandardScaler, MinMaxScaler"
   ]
  },
  {
   "cell_type": "code",
   "execution_count": 119,
   "metadata": {},
   "outputs": [],
   "source": [
    "from tempfile import mkdtemp\n",
    "cachedir = mkdtemp()"
   ]
  },
  {
   "cell_type": "code",
   "execution_count": 120,
   "metadata": {},
   "outputs": [
    {
     "data": {
      "text/plain": [
       "(2062670, 354)"
      ]
     },
     "metadata": {},
     "output_type": "display_data"
    },
    {
     "data": {
      "text/plain": [
       "(2062670, 354)"
      ]
     },
     "metadata": {},
     "output_type": "display_data"
    }
   ],
   "source": [
    "s_scaler = StandardScaler()\n",
    "s_scaler = s_scaler.fit(X_train)\n",
    "X_train_scaled = s_scaler.transform(X_train)\n",
    "\n",
    "norm_scaler = MinMaxScaler()\n",
    "norm_scaler = norm_scaler.fit(X_train)\n",
    "X_train_norm_scaled = norm_scaler.transform(X_train)\n",
    "\n",
    "display(X_train_scaled.shape)\n",
    "display(X_train_norm_scaled.shape)"
   ]
  },
  {
   "cell_type": "code",
   "execution_count": 121,
   "metadata": {},
   "outputs": [
    {
     "data": {
      "text/plain": [
       "(515668, 354)"
      ]
     },
     "metadata": {},
     "output_type": "display_data"
    },
    {
     "data": {
      "text/plain": [
       "(515668, 354)"
      ]
     },
     "metadata": {},
     "output_type": "display_data"
    }
   ],
   "source": [
    "X_test_scaled = s_scaler.transform(X_test)\n",
    "\n",
    "X_test_norm_scaled = norm_scaler.transform(X_test)\n",
    "\n",
    "display(X_test_scaled.shape)\n",
    "display(X_test_norm_scaled.shape)"
   ]
  },
  {
   "cell_type": "code",
   "execution_count": 122,
   "metadata": {},
   "outputs": [
    {
     "name": "stdout",
     "output_type": "stream",
     "text": [
      "Train accuracy of min/max scaled data: 0.834739439658307\n",
      "Test accuracy of min/max scaled data:  0.8342809714777725\n"
     ]
    }
   ],
   "source": [
    "logistic_regression_model_s_scaled = LogisticRegression()\n",
    "\n",
    "logistic_regression_model_s_scaled.fit(X_train_scaled, y_train)\n",
    "\n",
    "# Accuracy\n",
    "print(f\"Train accuracy of min/max scaled data: {logistic_regression_model_s_scaled.score(X_train_scaled, y_train)}\")\n",
    "print(f\"Test accuracy of min/max scaled data:  {logistic_regression_model_s_scaled.score(X_test_scaled, y_test)}\")"
   ]
  },
  {
   "cell_type": "code",
   "execution_count": 123,
   "metadata": {},
   "outputs": [
    {
     "name": "stdout",
     "output_type": "stream",
     "text": [
      "Train accuracy of min/max scaled data: 0.8298617810895587\n",
      "Test accuracy of min/max scaled data:  0.8293785924276861\n"
     ]
    }
   ],
   "source": [
    "logistic_regression_model_min_max = LogisticRegression()\n",
    "\n",
    "logistic_regression_model_min_max.fit(X_train_norm_scaled, y_train)\n",
    "\n",
    "# Accuracy\n",
    "print(f\"Train accuracy of min/max scaled data: {logistic_regression_model_min_max.score(X_train_norm_scaled, y_train)}\")\n",
    "print(f\"Test accuracy of min/max scaled data:  {logistic_regression_model_min_max.score(X_test_norm_scaled, y_test)}\")"
   ]
  },
  {
   "cell_type": "code",
   "execution_count": 129,
   "metadata": {},
   "outputs": [],
   "source": [
    "test_scores = []\n",
    "train_scores = []\n",
    "\n",
    "C_range = np.array([.001,.01,0.1,1,10,100,1000,10000, 100000])\n",
    "\n",
    "for c in C_range:\n",
    "    my_logreg = LogisticRegression(C = c,random_state=1)\n",
    "    my_logreg.fit(X_train_scaled,y_train)\n",
    "\n",
    "    train_scores.append(my_logreg.score(X_train_scaled,y_train))\n",
    "\n",
    "    test_scores.append(my_logreg.score(X_test_scaled,y_test))"
   ]
  },
  {
   "cell_type": "code",
   "execution_count": 130,
   "metadata": {},
   "outputs": [
    {
     "data": {
      "image/png": "[encoded data removed]",
      "text/plain": [
       "<Figure size 432x288 with 1 Axes>"
      ]
     },
     "metadata": {
      "needs_background": "light"
     },
     "output_type": "display_data"
    }
   ],
   "source": [
    "plt.figure()\n",
    "plt.plot(C_range, train_scores,label=\"Train Score\",marker='.')\n",
    "plt.plot(C_range, test_scores,label=\"Test Scores\",marker='.')\n",
    "plt.xscale('log')\n",
    "plt.xlabel('C')\n",
    "plt.ylabel('Accuracy')\n",
    "plt.legend()\n",
    "plt.show();"
   ]
  },
  {
   "cell_type": "code",
   "execution_count": null,
   "metadata": {},
   "outputs": [],
   "source": []
  },
  {
   "cell_type": "code",
   "execution_count": null,
   "metadata": {},
   "outputs": [],
   "source": []
  },
  {
   "cell_type": "code",
   "execution_count": null,
   "metadata": {},
   "outputs": [],
   "source": []
  },
  {
   "cell_type": "code",
   "execution_count": null,
   "metadata": {},
   "outputs": [],
   "source": []
  },
  {
   "cell_type": "code",
   "execution_count": null,
   "metadata": {},
   "outputs": [],
   "source": [
    "nbmodel = BernoulliNB()\n",
    "\n",
    "nbmodel.fit(X_train_norm_scaled,y_train)"
   ]
  },
  {
   "cell_type": "code",
   "execution_count": null,
   "metadata": {},
   "outputs": [],
   "source": [
    "print(f\"Train accuracy of min/max scaled data: {nbmodel.score(X_train_norm_scaled, y_train)}\")\n",
    "print(f\"Test accuracy of min/max scaled data:  {nbmodel.score(X_test_norm_scaled, y_test)}\")"
   ]
  },
  {
   "cell_type": "code",
   "execution_count": null,
   "metadata": {},
   "outputs": [],
   "source": [
    "# Confusion matrix\n",
    "\n",
    "from sklearn.metrics import confusion_matrix, accuracy_score"
   ]
  },
  {
   "cell_type": "code",
   "execution_count": null,
   "metadata": {},
   "outputs": [],
   "source": [
    "models = []\n",
    "\n",
    "models.append(('LogisticRegression', LogisticRegression()))\n",
    "models.append(('Naive Bayes', GaussianNB()))\n",
    "models.append(('RandomForest', RandomForestClassifier()))\n",
    "models.append(('Decision tree', DecisionTreeClassifier()))\n",
    "\n",
    "# KNN takes very long\n",
    "# models.append(('KNN', KNeighborsClassifier()))\n",
    "\n",
    "# Gives warning\n",
    "# models.append(('XGBoost', XGBClassifier()))"
   ]
  },
  {
   "cell_type": "code",
   "execution_count": null,
   "metadata": {},
   "outputs": [],
   "source": [
    "for name, model in models:\n",
    "    print(name)\n",
    "    print(model)"
   ]
  },
  {
   "cell_type": "code",
   "execution_count": null,
   "metadata": {},
   "outputs": [],
   "source": [
    "for name, model in models:\n",
    "    print(name)\n",
    "    model.fit(X_train, y_train)\n",
    "    \n",
    "    predictions = model.predict(X_test)\n",
    "    \n",
    "    cm = confusion_matrix(predictions, y_test)\n",
    "    print(cm)\n",
    "    \n",
    "    acc = accuracy_score(predictions, y_test)\n",
    "    print(acc)\n",
    "    print('\\n')"
   ]
  },
  {
   "cell_type": "code",
   "execution_count": null,
   "metadata": {},
   "outputs": [],
   "source": [
    "estimators = [\n",
    "    ('scalers', StandardScaler()),\n",
    "              ('model',SVC())\n",
    "             ]\n",
    "\n",
    "pipe = Pipeline(estimators,memory=cachedir)\n",
    "\n",
    "param_grid=[\n",
    "    {'model':[SVC()],'scalers':[StandardScaler(),MinMaxScaler()],\n",
    "             'model__gamma':[0.001,0.1,1,10], 'model__C':[0.01,0.1,1,10]},\n",
    "            {'model':[DecisionTreeClassifier()],'scalers':\n",
    "             [None],'model__max_depth':[3,7,12,15]},\n",
    "    \n",
    "#             {'model':[KNeighborsClassifier()],'scalers':[StandardScaler(),MinMaxScaler()],\n",
    "#              'model__n_neighbors':[5,10,15,20]},\n",
    "            {'model':[RandomForestClassifier()],'scalers':[None,StandardScaler(),MinMaxScaler()],\n",
    "             'model__n_estimators':[50,100,150,200],'model__max_depth':[3,7,12,15]},\n",
    "            {'model':[LogisticRegression()],'scalers':[None, StandardScaler(), MinMaxScaler()],\n",
    "             'model__C':[0.001, 0.01,0.1,1,10],'model__penalty':['l1','l2', 'lbfgs']\n",
    "            },\n",
    "    \n",
    "#             {'model':[XGBClassifier(use_label_encoder=False)],'scalers':[None,StandardScaler(),MinMaxScaler()],\n",
    "#              'model__max_depth':[3,7,12,15],'model__learning_rate':[0.2,0.4,0.7,1]},\n",
    "    \n",
    "            {'model':[GaussianNB()],'scalers':[None,StandardScaler(),MinMaxScaler()]}\n",
    "]"
   ]
  },
  {
   "cell_type": "code",
   "execution_count": null,
   "metadata": {},
   "outputs": [],
   "source": [
    "grid_model = GridSearchCV(pipe, param_grid = param_grid, verbose= 2, n_jobs = -1)"
   ]
  },
  {
   "cell_type": "code",
   "execution_count": null,
   "metadata": {},
   "outputs": [],
   "source": [
    "grid_model.fit(X_train,y_train)"
   ]
  },
  {
   "cell_type": "code",
   "execution_count": null,
   "metadata": {},
   "outputs": [],
   "source": [
    "grid_model.best_estimator_"
   ]
  },
  {
   "cell_type": "code",
   "execution_count": null,
   "metadata": {},
   "outputs": [],
   "source": [
    "grid_model.best_score_"
   ]
  },
  {
   "cell_type": "code",
   "execution_count": null,
   "metadata": {},
   "outputs": [],
   "source": [
    "grid_model.score(X_test,y_test)"
   ]
  },
  {
   "cell_type": "code",
   "execution_count": null,
   "metadata": {},
   "outputs": [],
   "source": []
  }
 ],
 "metadata": {
  "colab": {
   "collapsed_sections": [],
   "name": "hackathon_mastercard_fraud.ipynb",
   "provenance": []
  },
  "interpreter": {
   "hash": "34d9f860a87d05223bf59b7f983ffdee5219e9c3649f446a01164b74a3f54c0d"
  },
  "kernelspec": {
   "display_name": "Python 3",
   "language": "python",
   "name": "python3"
  },
  "language_info": {
   "codemirror_mode": {
    "name": "ipython",
    "version": 3
   },
   "file_extension": ".py",
   "mimetype": "text/x-python",
   "name": "python",
   "nbconvert_exporter": "python",
   "pygments_lexer": "ipython3",
   "version": "3.8.5"
  }
 },
 "nbformat": 4,
 "nbformat_minor": 4
}
